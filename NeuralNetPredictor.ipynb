{
  "nbformat": 4,
  "nbformat_minor": 0,
  "metadata": {
    "colab": {
      "provenance": [],
      "authorship_tag": "ABX9TyN9l7hgmeEIQHY4B4vZWJNX",
      "include_colab_link": true
    },
    "kernelspec": {
      "name": "python3",
      "display_name": "Python 3"
    },
    "language_info": {
      "name": "python"
    }
  },
  "cells": [
    {
      "cell_type": "markdown",
      "metadata": {
        "id": "view-in-github",
        "colab_type": "text"
      },
      "source": [
        "<a href=\"https://colab.research.google.com/github/Qhwelah/NeuralBlock-NeuralNetPredictor/blob/main/NeuralNetPredictor.ipynb\" target=\"_parent\"><img src=\"https://colab.research.google.com/assets/colab-badge.svg\" alt=\"Open In Colab\"/></a>"
      ]
    },
    {
      "cell_type": "code",
      "execution_count": 3,
      "metadata": {
        "colab": {
          "base_uri": "https://localhost:8080/",
          "height": 104
        },
        "id": "zmBCDAj_Lwt9",
        "outputId": "446a51b0-9053-4039-a96d-66dc91107c80"
      },
      "outputs": [
        {
          "output_type": "stream",
          "name": "stderr",
          "text": [
            "Downloading...\n",
            "From: https://drive.google.com/uc?id=1UPXnC2oy20r4Yesw7lPuDRHlsoR0l0DV\n",
            "To: /content/data.csv\n",
            "100%|██████████| 8.96M/8.96M [00:00<00:00, 60.8MB/s]\n"
          ]
        },
        {
          "output_type": "execute_result",
          "data": {
            "text/plain": [
              "'data.csv'"
            ],
            "application/vnd.google.colaboratory.intrinsic+json": {
              "type": "string"
            }
          },
          "metadata": {},
          "execution_count": 3
        }
      ],
      "source": [
        "# !pip3 uninstall gdown -y && pip3 install gdown\n",
        "import gdown\n",
        "\n",
        "url = \"https://drive.google.com/uc?id=1UPXnC2oy20r4Yesw7lPuDRHlsoR0l0DV\"\n",
        "output = \"data.csv\"\n",
        "gdown.download(url, output, quiet=False)"
      ]
    },
    {
      "cell_type": "code",
      "source": [
        "import pandas as pd\n",
        "\n",
        "df = pd.read_csv(\"data.csv\")\n",
        "\n",
        "print(df)"
      ],
      "metadata": {
        "colab": {
          "base_uri": "https://localhost:8080/"
        },
        "id": "eze8HudGY4e0",
        "outputId": "c64aaec2-e256-4bc5-e29d-ef2d1f9eadbe"
      },
      "execution_count": 4,
      "outputs": [
        {
          "output_type": "stream",
          "name": "stdout",
          "text": [
            "      xRot   yRot                block_1  block_1_dist                block_2  \\\n",
            "0    81.45  26.98   minecraft:oak_leaves             6   minecraft:oak_planks   \n",
            "1    59.47   2.02   minecraft:oak_planks             4        minecraft:water   \n",
            "2   -58.81   3.46         minecraft:dirt           159        minecraft:stone   \n",
            "3    61.45  36.54   minecraft:oak_leaves            40        minecraft:stone   \n",
            "4   -44.43  84.42  minecraft:grass_block            56        minecraft:stone   \n",
            "..     ...    ...                    ...           ...                    ...   \n",
            "115  23.38  11.33   minecraft:oak_planks            11        minecraft:water   \n",
            "116   1.92  50.17         minecraft:dirt            72   minecraft:oak_planks   \n",
            "117 -64.33  83.93   minecraft:oak_planks            21  minecraft:grass_block   \n",
            "118  -1.77   5.55        minecraft:stone           146        minecraft:stone   \n",
            "119  11.65  76.97          minecraft:air           113   minecraft:oak_planks   \n",
            "\n",
            "     block_2_dist                block_3  block_3_dist                block_4  \\\n",
            "0              94      minecraft:oak_log           121          minecraft:air   \n",
            "1               9          minecraft:air            14   minecraft:oak_planks   \n",
            "2              75          minecraft:air           141        minecraft:stone   \n",
            "3              21          minecraft:air            34        minecraft:stone   \n",
            "4              41        minecraft:stone           130  minecraft:grass_block   \n",
            "..            ...                    ...           ...                    ...   \n",
            "115            50          minecraft:air           142   minecraft:oak_planks   \n",
            "116            93   minecraft:oak_planks           108   minecraft:oak_planks   \n",
            "117           110        minecraft:stone            63   minecraft:oak_leaves   \n",
            "118           151        minecraft:stone            26        minecraft:stone   \n",
            "119            18  minecraft:grass_block            35   minecraft:oak_planks   \n",
            "\n",
            "     block_4_dist  ...            block_3596  block_3596_dist  \\\n",
            "0              90  ...       minecraft:stone              137   \n",
            "1              41  ...  minecraft:oak_planks               75   \n",
            "2             136  ...       minecraft:stone               37   \n",
            "3              98  ...  minecraft:oak_planks               18   \n",
            "4              49  ...       minecraft:stone               24   \n",
            "..            ...  ...                   ...              ...   \n",
            "115            47  ...  minecraft:oak_leaves               25   \n",
            "116           108  ...       minecraft:stone              136   \n",
            "117            19  ...  minecraft:oak_planks              140   \n",
            "118            50  ...         minecraft:air               89   \n",
            "119            22  ...       minecraft:stone               68   \n",
            "\n",
            "               block_3597  block_3597_dist            block_3598  \\\n",
            "0         minecraft:stone              123       minecraft:stone   \n",
            "1    minecraft:oak_planks               69         minecraft:air   \n",
            "2           minecraft:air               98       minecraft:water   \n",
            "3         minecraft:stone              144  minecraft:oak_planks   \n",
            "4    minecraft:oak_planks              138  minecraft:oak_planks   \n",
            "..                    ...              ...                   ...   \n",
            "115       minecraft:stone               74       minecraft:stone   \n",
            "116       minecraft:stone              111       minecraft:stone   \n",
            "117         minecraft:air              148        minecraft:dirt   \n",
            "118       minecraft:stone              146     minecraft:oak_log   \n",
            "119  minecraft:oak_planks                8       minecraft:stone   \n",
            "\n",
            "     block_3598_dist            block_3599  block_3599_dist  \\\n",
            "0                 64         minecraft:air               55   \n",
            "1                 96  minecraft:oak_planks               23   \n",
            "2                 20  minecraft:oak_planks               43   \n",
            "3                107  minecraft:oak_planks                4   \n",
            "4                  3         minecraft:air               12   \n",
            "..               ...                   ...              ...   \n",
            "115              136        minecraft:dirt               48   \n",
            "116              134       minecraft:stone               46   \n",
            "117               99  minecraft:oak_planks                1   \n",
            "118              127  minecraft:oak_planks              146   \n",
            "119              152       minecraft:stone               40   \n",
            "\n",
            "               block_3600  block_3600_dist  \n",
            "0         minecraft:stone              159  \n",
            "1         minecraft:stone              148  \n",
            "2    minecraft:oak_planks              118  \n",
            "3          minecraft:dirt              104  \n",
            "4    minecraft:oak_leaves              124  \n",
            "..                    ...              ...  \n",
            "115       minecraft:stone               48  \n",
            "116       minecraft:stone              113  \n",
            "117         minecraft:air               95  \n",
            "118       minecraft:water               43  \n",
            "119       minecraft:stone               47  \n",
            "\n",
            "[120 rows x 7202 columns]\n"
          ]
        }
      ]
    },
    {
      "cell_type": "code",
      "source": [
        "print(df[\"block_1_dist\"][2])"
      ],
      "metadata": {
        "id": "4VDgQ_lIycve",
        "outputId": "23c7d634-f771-4c58-c463-499581e24453",
        "colab": {
          "base_uri": "https://localhost:8080/"
        }
      },
      "execution_count": 30,
      "outputs": [
        {
          "output_type": "stream",
          "name": "stdout",
          "text": [
            "159\n"
          ]
        }
      ]
    },
    {
      "cell_type": "code",
      "source": [
        "## Getting all values of non-numeric types only\n",
        "df.info()\n",
        "non_numeric_values = df.select_dtypes(exclude=[\"float\", \"int\"])\n",
        "print(non_numeric_values)"
      ],
      "metadata": {
        "id": "j2kNoW6LZ6Sa",
        "outputId": "86a96fd1-1fa8-4b03-de4b-08ec1009ea23",
        "colab": {
          "base_uri": "https://localhost:8080/"
        }
      },
      "execution_count": 15,
      "outputs": [
        {
          "output_type": "stream",
          "name": "stdout",
          "text": [
            "<class 'pandas.core.frame.DataFrame'>\n",
            "RangeIndex: 120 entries, 0 to 119\n",
            "Columns: 7202 entries, xRot to block_3600_dist\n",
            "dtypes: float64(2), int64(3600), object(3600)\n",
            "memory usage: 6.6+ MB\n",
            "                   block_1                block_2                block_3  \\\n",
            "0     minecraft:oak_leaves   minecraft:oak_planks      minecraft:oak_log   \n",
            "1     minecraft:oak_planks        minecraft:water          minecraft:air   \n",
            "2           minecraft:dirt        minecraft:stone          minecraft:air   \n",
            "3     minecraft:oak_leaves        minecraft:stone          minecraft:air   \n",
            "4    minecraft:grass_block        minecraft:stone        minecraft:stone   \n",
            "..                     ...                    ...                    ...   \n",
            "115   minecraft:oak_planks        minecraft:water          minecraft:air   \n",
            "116         minecraft:dirt   minecraft:oak_planks   minecraft:oak_planks   \n",
            "117   minecraft:oak_planks  minecraft:grass_block        minecraft:stone   \n",
            "118        minecraft:stone        minecraft:stone        minecraft:stone   \n",
            "119          minecraft:air   minecraft:oak_planks  minecraft:grass_block   \n",
            "\n",
            "                   block_4                block_5               block_6  \\\n",
            "0            minecraft:air        minecraft:stone         minecraft:air   \n",
            "1     minecraft:oak_planks        minecraft:stone       minecraft:stone   \n",
            "2          minecraft:stone  minecraft:grass_block       minecraft:stone   \n",
            "3          minecraft:stone   minecraft:oak_planks       minecraft:stone   \n",
            "4    minecraft:grass_block        minecraft:stone       minecraft:stone   \n",
            "..                     ...                    ...                   ...   \n",
            "115   minecraft:oak_planks   minecraft:oak_leaves  minecraft:oak_planks   \n",
            "116   minecraft:oak_planks        minecraft:water     minecraft:oak_log   \n",
            "117   minecraft:oak_leaves          minecraft:air       minecraft:stone   \n",
            "118        minecraft:stone        minecraft:water  minecraft:oak_planks   \n",
            "119   minecraft:oak_planks   minecraft:oak_planks  minecraft:oak_planks   \n",
            "\n",
            "                  block_7                block_8               block_9  \\\n",
            "0           minecraft:air        minecraft:stone       minecraft:stone   \n",
            "1          minecraft:dirt          minecraft:air       minecraft:stone   \n",
            "2          minecraft:dirt  minecraft:grass_block        minecraft:dirt   \n",
            "3         minecraft:stone   minecraft:oak_planks         minecraft:air   \n",
            "4    minecraft:oak_planks          minecraft:air  minecraft:oak_planks   \n",
            "..                    ...                    ...                   ...   \n",
            "115         minecraft:air          minecraft:air         minecraft:air   \n",
            "116  minecraft:oak_planks   minecraft:oak_planks         minecraft:air   \n",
            "117       minecraft:stone        minecraft:water       minecraft:stone   \n",
            "118       minecraft:stone   minecraft:oak_planks         minecraft:air   \n",
            "119  minecraft:oak_planks          minecraft:air  minecraft:oak_leaves   \n",
            "\n",
            "                 block_10  ...            block_3591            block_3592  \\\n",
            "0         minecraft:stone  ...         minecraft:air  minecraft:oak_planks   \n",
            "1         minecraft:stone  ...     minecraft:oak_log       minecraft:water   \n",
            "2           minecraft:air  ...       minecraft:stone  minecraft:oak_planks   \n",
            "3         minecraft:stone  ...       minecraft:water     minecraft:oak_log   \n",
            "4       minecraft:oak_log  ...  minecraft:oak_planks        minecraft:dirt   \n",
            "..                    ...  ...                   ...                   ...   \n",
            "115         minecraft:air  ...       minecraft:stone       minecraft:stone   \n",
            "116  minecraft:oak_leaves  ...         minecraft:air  minecraft:oak_planks   \n",
            "117     minecraft:oak_log  ...       minecraft:stone       minecraft:stone   \n",
            "118         minecraft:air  ...        minecraft:dirt  minecraft:oak_planks   \n",
            "119       minecraft:stone  ...       minecraft:stone  minecraft:oak_planks   \n",
            "\n",
            "          block_3593             block_3594            block_3595  \\\n",
            "0      minecraft:air        minecraft:stone         minecraft:air   \n",
            "1    minecraft:stone        minecraft:stone       minecraft:stone   \n",
            "2    minecraft:stone        minecraft:stone         minecraft:air   \n",
            "3    minecraft:stone  minecraft:grass_block     minecraft:oak_log   \n",
            "4    minecraft:stone   minecraft:oak_planks       minecraft:stone   \n",
            "..               ...                    ...                   ...   \n",
            "115  minecraft:water         minecraft:dirt  minecraft:oak_planks   \n",
            "116    minecraft:air        minecraft:water         minecraft:air   \n",
            "117    minecraft:air        minecraft:stone  minecraft:oak_planks   \n",
            "118   minecraft:dirt   minecraft:oak_planks       minecraft:water   \n",
            "119   minecraft:dirt   minecraft:oak_planks       minecraft:stone   \n",
            "\n",
            "               block_3596            block_3597            block_3598  \\\n",
            "0         minecraft:stone       minecraft:stone       minecraft:stone   \n",
            "1    minecraft:oak_planks  minecraft:oak_planks         minecraft:air   \n",
            "2         minecraft:stone         minecraft:air       minecraft:water   \n",
            "3    minecraft:oak_planks       minecraft:stone  minecraft:oak_planks   \n",
            "4         minecraft:stone  minecraft:oak_planks  minecraft:oak_planks   \n",
            "..                    ...                   ...                   ...   \n",
            "115  minecraft:oak_leaves       minecraft:stone       minecraft:stone   \n",
            "116       minecraft:stone       minecraft:stone       minecraft:stone   \n",
            "117  minecraft:oak_planks         minecraft:air        minecraft:dirt   \n",
            "118         minecraft:air       minecraft:stone     minecraft:oak_log   \n",
            "119       minecraft:stone  minecraft:oak_planks       minecraft:stone   \n",
            "\n",
            "               block_3599            block_3600  \n",
            "0           minecraft:air       minecraft:stone  \n",
            "1    minecraft:oak_planks       minecraft:stone  \n",
            "2    minecraft:oak_planks  minecraft:oak_planks  \n",
            "3    minecraft:oak_planks        minecraft:dirt  \n",
            "4           minecraft:air  minecraft:oak_leaves  \n",
            "..                    ...                   ...  \n",
            "115        minecraft:dirt       minecraft:stone  \n",
            "116       minecraft:stone       minecraft:stone  \n",
            "117  minecraft:oak_planks         minecraft:air  \n",
            "118  minecraft:oak_planks       minecraft:water  \n",
            "119       minecraft:stone       minecraft:stone  \n",
            "\n",
            "[120 rows x 3600 columns]\n"
          ]
        }
      ]
    },
    {
      "cell_type": "code",
      "source": [
        "## Mapping all non-numeric data values to numeric values\n",
        "block_mapping = df.block_1.factorize()\n",
        "print(\"Conversion values: \")\n",
        "print(block_mapping)\n",
        "print()\n",
        "\n",
        "# block_mapping_two = []\n",
        "# block_mapping_two.append((-1, 'removed'))\n",
        "block_mapping_conversions = []\n",
        "\n",
        "print(\"Event log for block conversion pushes: \")\n",
        "i = 0\n",
        "while i < len(block_mapping[0]):\n",
        "    included = False\n",
        "    # block_mapping_two.append(block_mapping[0][i])\n",
        "    # for j in block_mapping_two:\n",
        "    #     if j[0] == block_mapping[0][i]:\n",
        "    #         included = True\n",
        "    #         break\n",
        "    if block_mapping[0][i] < len(block_mapping_conversions):\n",
        "      included = True\n",
        "    if not included:\n",
        "      # new_value = (block_mapping[0][i].item(), block_mapping[1][block_mapping[0][i]])\n",
        "      # block_mapping_two.append(new_value)\n",
        "      new_conversion = block_mapping[1][block_mapping[0][i]]\n",
        "      block_mapping_conversions.append(new_conversion)\n",
        "      print(f\"pushing {new_conversion} to values at index {len(block_mapping_conversions)-1}\")\n",
        "    i += 1\n",
        "\n",
        "block_mapping_conversions.append('removed')\n",
        "\n",
        "print()\n",
        "print(\"Final conversion values: \")\n",
        "# print(block_mapping_two)\n",
        "print(block_mapping_conversions)"
      ],
      "metadata": {
        "id": "jTs8WbC5yilR",
        "outputId": "6f4f02ed-ae14-4d90-e79c-b7370d5844e0",
        "colab": {
          "base_uri": "https://localhost:8080/"
        }
      },
      "execution_count": 48,
      "outputs": [
        {
          "output_type": "stream",
          "name": "stdout",
          "text": [
            "Conversion values: \n",
            "(array([0, 1, 2, 0, 3, 4, 5, 6, 5, 1, 1, 5, 5, 5, 7, 4, 4, 5, 1, 5, 1, 5,\n",
            "       5, 2, 2, 5, 5, 4, 7, 3, 6, 4, 1, 1, 1, 2, 7, 5, 0, 5, 1, 6, 7, 5,\n",
            "       1, 4, 1, 5, 5, 7, 1, 5, 1, 4, 1, 6, 5, 2, 4, 5, 6, 5, 7, 5, 1, 5,\n",
            "       5, 5, 4, 4, 5, 5, 5, 4, 5, 4, 4, 6, 5, 4, 1, 1, 6, 1, 1, 5, 5, 5,\n",
            "       4, 2, 1, 1, 4, 1, 4, 1, 5, 5, 4, 5, 5, 1, 1, 0, 5, 5, 5, 1, 5, 4,\n",
            "       2, 6, 1, 5, 2, 1, 2, 1, 5, 4]), Index(['minecraft:oak_leaves', 'minecraft:oak_planks', 'minecraft:dirt',\n",
            "       'minecraft:grass_block', 'minecraft:air', 'minecraft:stone',\n",
            "       'minecraft:water', 'minecraft:oak_log'],\n",
            "      dtype='object'))\n",
            "\n",
            "Event log for block conversion pushes: \n",
            "pushing minecraft:oak_leaves to values at index 0\n",
            "pushing minecraft:oak_planks to values at index 1\n",
            "pushing minecraft:dirt to values at index 2\n",
            "pushing minecraft:grass_block to values at index 3\n",
            "pushing minecraft:air to values at index 4\n",
            "pushing minecraft:stone to values at index 5\n",
            "pushing minecraft:water to values at index 6\n",
            "pushing minecraft:oak_log to values at index 7\n",
            "\n",
            "Final conversion values: \n",
            "['minecraft:oak_leaves', 'minecraft:oak_planks', 'minecraft:dirt', 'minecraft:grass_block', 'minecraft:air', 'minecraft:stone', 'minecraft:water', 'minecraft:oak_log', 'removed']\n"
          ]
        }
      ]
    },
    {
      "cell_type": "code",
      "source": [],
      "metadata": {
        "id": "gB1rPfzT3T17"
      },
      "execution_count": null,
      "outputs": []
    }
  ]
}