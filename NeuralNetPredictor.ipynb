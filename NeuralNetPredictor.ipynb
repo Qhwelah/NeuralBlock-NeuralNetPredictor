{
  "nbformat": 4,
  "nbformat_minor": 0,
  "metadata": {
    "colab": {
      "provenance": [],
      "include_colab_link": true
    },
    "kernelspec": {
      "name": "python3",
      "display_name": "Python 3"
    },
    "language_info": {
      "name": "python"
    }
  },
  "cells": [
    {
      "cell_type": "markdown",
      "metadata": {
        "id": "view-in-github",
        "colab_type": "text"
      },
      "source": [
        "<a href=\"https://colab.research.google.com/github/Qhwelah/NeuralBlock-NeuralNetPredictor/blob/main/NeuralNetPredictor.ipynb\" target=\"_parent\"><img src=\"https://colab.research.google.com/assets/colab-badge.svg\" alt=\"Open In Colab\"/></a>"
      ]
    },
    {
      "cell_type": "markdown",
      "source": [
        "**Data Prepping for the Models**"
      ],
      "metadata": {
        "id": "5aLihYq0EbOO"
      }
    },
    {
      "cell_type": "code",
      "execution_count": 86,
      "metadata": {
        "colab": {
          "base_uri": "https://localhost:8080/",
          "height": 104
        },
        "id": "zmBCDAj_Lwt9",
        "outputId": "51ab15fa-60a0-4617-da84-bf56634a1b08"
      },
      "outputs": [
        {
          "output_type": "stream",
          "name": "stderr",
          "text": [
            "Downloading...\n",
            "From: https://drive.google.com/uc?id=1UPXnC2oy20r4Yesw7lPuDRHlsoR0l0DV\n",
            "To: /content/data.csv\n",
            "100%|██████████| 8.96M/8.96M [00:00<00:00, 209MB/s]\n"
          ]
        },
        {
          "output_type": "execute_result",
          "data": {
            "text/plain": [
              "'data.csv'"
            ],
            "application/vnd.google.colaboratory.intrinsic+json": {
              "type": "string"
            }
          },
          "metadata": {},
          "execution_count": 86
        }
      ],
      "source": [
        "# !pip3 uninstall gdown -y && pip3 install gdown\n",
        "import gdown\n",
        "\n",
        "url = \"https://drive.google.com/uc?id=1UPXnC2oy20r4Yesw7lPuDRHlsoR0l0DV\"\n",
        "output = \"data.csv\"\n",
        "gdown.download(url, output, quiet=False)"
      ]
    },
    {
      "cell_type": "code",
      "source": [
        "## import the data\n",
        "import pandas as pd\n",
        "\n",
        "df = pd.read_csv(\"data.csv\")\n",
        "\n",
        "print(df)"
      ],
      "metadata": {
        "colab": {
          "base_uri": "https://localhost:8080/"
        },
        "id": "eze8HudGY4e0",
        "outputId": "5326426b-ec1e-4b44-e2fd-9487d6ec8dc1"
      },
      "execution_count": 87,
      "outputs": [
        {
          "output_type": "stream",
          "name": "stdout",
          "text": [
            "      xRot   yRot                block_1  block_1_dist                block_2  \\\n",
            "0    81.45  26.98   minecraft:oak_leaves             6   minecraft:oak_planks   \n",
            "1    59.47   2.02   minecraft:oak_planks             4        minecraft:water   \n",
            "2   -58.81   3.46         minecraft:dirt           159        minecraft:stone   \n",
            "3    61.45  36.54   minecraft:oak_leaves            40        minecraft:stone   \n",
            "4   -44.43  84.42  minecraft:grass_block            56        minecraft:stone   \n",
            "..     ...    ...                    ...           ...                    ...   \n",
            "115  23.38  11.33   minecraft:oak_planks            11        minecraft:water   \n",
            "116   1.92  50.17         minecraft:dirt            72   minecraft:oak_planks   \n",
            "117 -64.33  83.93   minecraft:oak_planks            21  minecraft:grass_block   \n",
            "118  -1.77   5.55        minecraft:stone           146        minecraft:stone   \n",
            "119  11.65  76.97          minecraft:air           113   minecraft:oak_planks   \n",
            "\n",
            "     block_2_dist                block_3  block_3_dist                block_4  \\\n",
            "0              94      minecraft:oak_log           121          minecraft:air   \n",
            "1               9          minecraft:air            14   minecraft:oak_planks   \n",
            "2              75          minecraft:air           141        minecraft:stone   \n",
            "3              21          minecraft:air            34        minecraft:stone   \n",
            "4              41        minecraft:stone           130  minecraft:grass_block   \n",
            "..            ...                    ...           ...                    ...   \n",
            "115            50          minecraft:air           142   minecraft:oak_planks   \n",
            "116            93   minecraft:oak_planks           108   minecraft:oak_planks   \n",
            "117           110        minecraft:stone            63   minecraft:oak_leaves   \n",
            "118           151        minecraft:stone            26        minecraft:stone   \n",
            "119            18  minecraft:grass_block            35   minecraft:oak_planks   \n",
            "\n",
            "     block_4_dist  ...            block_3596  block_3596_dist  \\\n",
            "0              90  ...       minecraft:stone              137   \n",
            "1              41  ...  minecraft:oak_planks               75   \n",
            "2             136  ...       minecraft:stone               37   \n",
            "3              98  ...  minecraft:oak_planks               18   \n",
            "4              49  ...       minecraft:stone               24   \n",
            "..            ...  ...                   ...              ...   \n",
            "115            47  ...  minecraft:oak_leaves               25   \n",
            "116           108  ...       minecraft:stone              136   \n",
            "117            19  ...  minecraft:oak_planks              140   \n",
            "118            50  ...         minecraft:air               89   \n",
            "119            22  ...       minecraft:stone               68   \n",
            "\n",
            "               block_3597  block_3597_dist            block_3598  \\\n",
            "0         minecraft:stone              123       minecraft:stone   \n",
            "1    minecraft:oak_planks               69         minecraft:air   \n",
            "2           minecraft:air               98       minecraft:water   \n",
            "3         minecraft:stone              144  minecraft:oak_planks   \n",
            "4    minecraft:oak_planks              138  minecraft:oak_planks   \n",
            "..                    ...              ...                   ...   \n",
            "115       minecraft:stone               74       minecraft:stone   \n",
            "116       minecraft:stone              111       minecraft:stone   \n",
            "117         minecraft:air              148        minecraft:dirt   \n",
            "118       minecraft:stone              146     minecraft:oak_log   \n",
            "119  minecraft:oak_planks                8       minecraft:stone   \n",
            "\n",
            "     block_3598_dist            block_3599  block_3599_dist  \\\n",
            "0                 64         minecraft:air               55   \n",
            "1                 96  minecraft:oak_planks               23   \n",
            "2                 20  minecraft:oak_planks               43   \n",
            "3                107  minecraft:oak_planks                4   \n",
            "4                  3         minecraft:air               12   \n",
            "..               ...                   ...              ...   \n",
            "115              136        minecraft:dirt               48   \n",
            "116              134       minecraft:stone               46   \n",
            "117               99  minecraft:oak_planks                1   \n",
            "118              127  minecraft:oak_planks              146   \n",
            "119              152       minecraft:stone               40   \n",
            "\n",
            "               block_3600  block_3600_dist  \n",
            "0         minecraft:stone              159  \n",
            "1         minecraft:stone              148  \n",
            "2    minecraft:oak_planks              118  \n",
            "3          minecraft:dirt              104  \n",
            "4    minecraft:oak_leaves              124  \n",
            "..                    ...              ...  \n",
            "115       minecraft:stone               48  \n",
            "116       minecraft:stone              113  \n",
            "117         minecraft:air               95  \n",
            "118       minecraft:water               43  \n",
            "119       minecraft:stone               47  \n",
            "\n",
            "[120 rows x 7202 columns]\n"
          ]
        }
      ]
    },
    {
      "cell_type": "code",
      "source": [
        "## Getting all values of non-numeric types only\n",
        "df.info()\n",
        "non_numeric_values = df.select_dtypes(exclude=[\"float\", \"int\"])\n",
        "# print(non_numeric_values)"
      ],
      "metadata": {
        "id": "j2kNoW6LZ6Sa",
        "colab": {
          "base_uri": "https://localhost:8080/"
        },
        "outputId": "6fa1caf3-3393-4314-d57e-8cb99764e126"
      },
      "execution_count": 88,
      "outputs": [
        {
          "output_type": "stream",
          "name": "stdout",
          "text": [
            "<class 'pandas.core.frame.DataFrame'>\n",
            "RangeIndex: 120 entries, 0 to 119\n",
            "Columns: 7202 entries, xRot to block_3600_dist\n",
            "dtypes: float64(2), int64(3600), object(3600)\n",
            "memory usage: 6.6+ MB\n"
          ]
        }
      ]
    },
    {
      "cell_type": "code",
      "source": [
        "## Mapping all non-numeric data values to some numeric values\n",
        "\n",
        "# parameters:\n",
        "columns_to_check_for_unique_values = 20\n",
        "\n",
        "# internal values:\n",
        "block_mapping_conversions = []\n",
        "\n",
        "print(\"Event log for block conversion pushes: \")\n",
        "j = 1  # iterator for determining which block column to use\n",
        "while(j < columns_to_check_for_unique_values+1):\n",
        "  block_column = f\"block_{j}\"\n",
        "  block_mapping = df[block_column].factorize()\n",
        "  # print(f\"Conversion values for {block_column}: \")\n",
        "  # print(block_mapping)\n",
        "  # print()\n",
        "  i = 0  # iterator for checking within a single column's conversion mapping\n",
        "  while i < len(block_mapping[0]):\n",
        "    mapped_index = block_mapping[0][i]\n",
        "    if mapped_index == -1:\n",
        "      i += 1\n",
        "      continue\n",
        "    new_conversion = block_mapping[1][mapped_index]\n",
        "    if new_conversion not in block_mapping_conversions:\n",
        "      block_mapping_conversions.append(new_conversion)\n",
        "      print(f\"pushing {new_conversion} to values at index {len(block_mapping_conversions)-1}\")\n",
        "    i += 1\n",
        "  j += 1\n",
        "\n",
        "block_mapping_conversions.append('unknown')\n",
        "print(f\"pushing unknown to values at index {len(block_mapping_conversions)-1}\")\n",
        "\n",
        "print()\n",
        "print(\"Final conversion values: \")\n",
        "print(block_mapping_conversions)"
      ],
      "metadata": {
        "colab": {
          "base_uri": "https://localhost:8080/"
        },
        "id": "jTs8WbC5yilR",
        "outputId": "8d695352-aecf-4601-94e3-ee014adf1c8e"
      },
      "execution_count": 89,
      "outputs": [
        {
          "output_type": "stream",
          "name": "stdout",
          "text": [
            "Event log for block conversion pushes: \n",
            "pushing minecraft:oak_leaves to values at index 0\n",
            "pushing minecraft:oak_planks to values at index 1\n",
            "pushing minecraft:dirt to values at index 2\n",
            "pushing minecraft:grass_block to values at index 3\n",
            "pushing minecraft:air to values at index 4\n",
            "pushing minecraft:stone to values at index 5\n",
            "pushing minecraft:water to values at index 6\n",
            "pushing minecraft:oak_log to values at index 7\n",
            "pushing unknown to values at index 8\n",
            "\n",
            "Final conversion values: \n",
            "['minecraft:oak_leaves', 'minecraft:oak_planks', 'minecraft:dirt', 'minecraft:grass_block', 'minecraft:air', 'minecraft:stone', 'minecraft:water', 'minecraft:oak_log', 'unknown']\n"
          ]
        }
      ]
    },
    {
      "cell_type": "code",
      "source": [
        "## Converting actual data values in the dataframe to numbers using block mapping\n",
        "def convertBlock(val):\n",
        "  for i in range(len(block_mapping_conversions)):\n",
        "    if val == block_mapping_conversions[i]:\n",
        "      return i\n",
        "  return -1\n",
        "\n",
        "block_columns = [col for col in df.columns if col.startswith(\"block_\") and not col.endswith(\"_dist\")]\n",
        "# print(block_columns)\n",
        "df_numerical = df.copy() # make a backup copy of the dataframe to reference later\n",
        "for col in block_columns:\n",
        "  df_numerical[col] = df_numerical[col].apply(convertBlock)\n",
        "\n",
        "print()\n",
        "print(df_numerical) # the numerized dataframe"
      ],
      "metadata": {
        "id": "gB1rPfzT3T17",
        "colab": {
          "base_uri": "https://localhost:8080/"
        },
        "outputId": "e099d2d1-a72f-4e5f-ecbd-229e5907ac88"
      },
      "execution_count": 90,
      "outputs": [
        {
          "output_type": "stream",
          "name": "stdout",
          "text": [
            "\n",
            "      xRot   yRot  block_1  block_1_dist  block_2  block_2_dist  block_3  \\\n",
            "0    81.45  26.98        0             6        1            94        7   \n",
            "1    59.47   2.02        1             4        6             9        4   \n",
            "2   -58.81   3.46        2           159        5            75        4   \n",
            "3    61.45  36.54        0            40        5            21        4   \n",
            "4   -44.43  84.42        3            56        5            41        5   \n",
            "..     ...    ...      ...           ...      ...           ...      ...   \n",
            "115  23.38  11.33        1            11        6            50        4   \n",
            "116   1.92  50.17        2            72        1            93        1   \n",
            "117 -64.33  83.93        1            21        3           110        5   \n",
            "118  -1.77   5.55        5           146        5           151        5   \n",
            "119  11.65  76.97        4           113        1            18        3   \n",
            "\n",
            "     block_3_dist  block_4  block_4_dist  ...  block_3596  block_3596_dist  \\\n",
            "0             121        4            90  ...           5              137   \n",
            "1              14        1            41  ...           1               75   \n",
            "2             141        5           136  ...           5               37   \n",
            "3              34        5            98  ...           1               18   \n",
            "4             130        3            49  ...           5               24   \n",
            "..            ...      ...           ...  ...         ...              ...   \n",
            "115           142        1            47  ...           0               25   \n",
            "116           108        1           108  ...           5              136   \n",
            "117            63        0            19  ...           1              140   \n",
            "118            26        5            50  ...           4               89   \n",
            "119            35        1            22  ...           5               68   \n",
            "\n",
            "     block_3597  block_3597_dist  block_3598  block_3598_dist  block_3599  \\\n",
            "0             5              123           5               64           4   \n",
            "1             1               69           4               96           1   \n",
            "2             4               98           6               20           1   \n",
            "3             5              144           1              107           1   \n",
            "4             1              138           1                3           4   \n",
            "..          ...              ...         ...              ...         ...   \n",
            "115           5               74           5              136           2   \n",
            "116           5              111           5              134           5   \n",
            "117           4              148           2               99           1   \n",
            "118           5              146           7              127           1   \n",
            "119           1                8           5              152           5   \n",
            "\n",
            "     block_3599_dist  block_3600  block_3600_dist  \n",
            "0                 55           5              159  \n",
            "1                 23           5              148  \n",
            "2                 43           1              118  \n",
            "3                  4           2              104  \n",
            "4                 12           0              124  \n",
            "..               ...         ...              ...  \n",
            "115               48           5               48  \n",
            "116               46           5              113  \n",
            "117                1           4               95  \n",
            "118              146           6               43  \n",
            "119               40           5               47  \n",
            "\n",
            "[120 rows x 7202 columns]\n"
          ]
        }
      ]
    },
    {
      "cell_type": "markdown",
      "source": [
        "**KNN Model Predictions**"
      ],
      "metadata": {
        "id": "ZHQlVDRLB2K5"
      }
    },
    {
      "cell_type": "code",
      "source": [
        "from sklearn.model_selection import train_test_split\n",
        "from sklearn.neighbors import KNeighborsClassifier\n",
        "from sklearn.metrics import accuracy_score"
      ],
      "metadata": {
        "id": "6pg0J5NMyMjy"
      },
      "execution_count": 91,
      "outputs": []
    },
    {
      "cell_type": "code",
      "source": [
        "distance_columns = [col for col in df_numerical.columns if 'dist' in col]\n",
        "\n",
        "target_distance_column = 'block_5_dist'\n",
        "\n",
        "for col in distance_columns:\n",
        "    if col != target_distance_column:\n",
        "        df_numerical[col] = (df_numerical[col] - df_numerical[target_distance_column]).abs()\n",
        "\n",
        "df_numerical = df_numerical.drop(columns=[target_distance_column])"
      ],
      "metadata": {
        "id": "y3OrH_xadk8f"
      },
      "execution_count": 92,
      "outputs": []
    },
    {
      "cell_type": "code",
      "source": [
        "target_block = 'block_5'\n",
        "\n",
        "X = df_numerical.drop(columns=[target_block])\n",
        "y = df_numerical[target_block]\n",
        "\n",
        "X_train, X_test, y_train, y_test = train_test_split(\n",
        "    X, y, test_size=0.2, random_state=42\n",
        ")"
      ],
      "metadata": {
        "id": "omhjEdKJ-s85"
      },
      "execution_count": 93,
      "outputs": []
    },
    {
      "cell_type": "code",
      "source": [
        "knn = KNeighborsClassifier(n_neighbors=26, weights='distance')\n",
        "knn.fit(X_train, y_train)"
      ],
      "metadata": {
        "colab": {
          "base_uri": "https://localhost:8080/",
          "height": 80
        },
        "id": "m565E2yR-usf",
        "outputId": "44cfdd9f-df4c-4298-9741-81c1cfecec8f"
      },
      "execution_count": 94,
      "outputs": [
        {
          "output_type": "execute_result",
          "data": {
            "text/plain": [
              "KNeighborsClassifier(n_neighbors=26, weights='distance')"
            ],
            "text/html": [
              "<style>#sk-container-id-4 {\n",
              "  /* Definition of color scheme common for light and dark mode */\n",
              "  --sklearn-color-text: #000;\n",
              "  --sklearn-color-text-muted: #666;\n",
              "  --sklearn-color-line: gray;\n",
              "  /* Definition of color scheme for unfitted estimators */\n",
              "  --sklearn-color-unfitted-level-0: #fff5e6;\n",
              "  --sklearn-color-unfitted-level-1: #f6e4d2;\n",
              "  --sklearn-color-unfitted-level-2: #ffe0b3;\n",
              "  --sklearn-color-unfitted-level-3: chocolate;\n",
              "  /* Definition of color scheme for fitted estimators */\n",
              "  --sklearn-color-fitted-level-0: #f0f8ff;\n",
              "  --sklearn-color-fitted-level-1: #d4ebff;\n",
              "  --sklearn-color-fitted-level-2: #b3dbfd;\n",
              "  --sklearn-color-fitted-level-3: cornflowerblue;\n",
              "\n",
              "  /* Specific color for light theme */\n",
              "  --sklearn-color-text-on-default-background: var(--sg-text-color, var(--theme-code-foreground, var(--jp-content-font-color1, black)));\n",
              "  --sklearn-color-background: var(--sg-background-color, var(--theme-background, var(--jp-layout-color0, white)));\n",
              "  --sklearn-color-border-box: var(--sg-text-color, var(--theme-code-foreground, var(--jp-content-font-color1, black)));\n",
              "  --sklearn-color-icon: #696969;\n",
              "\n",
              "  @media (prefers-color-scheme: dark) {\n",
              "    /* Redefinition of color scheme for dark theme */\n",
              "    --sklearn-color-text-on-default-background: var(--sg-text-color, var(--theme-code-foreground, var(--jp-content-font-color1, white)));\n",
              "    --sklearn-color-background: var(--sg-background-color, var(--theme-background, var(--jp-layout-color0, #111)));\n",
              "    --sklearn-color-border-box: var(--sg-text-color, var(--theme-code-foreground, var(--jp-content-font-color1, white)));\n",
              "    --sklearn-color-icon: #878787;\n",
              "  }\n",
              "}\n",
              "\n",
              "#sk-container-id-4 {\n",
              "  color: var(--sklearn-color-text);\n",
              "}\n",
              "\n",
              "#sk-container-id-4 pre {\n",
              "  padding: 0;\n",
              "}\n",
              "\n",
              "#sk-container-id-4 input.sk-hidden--visually {\n",
              "  border: 0;\n",
              "  clip: rect(1px 1px 1px 1px);\n",
              "  clip: rect(1px, 1px, 1px, 1px);\n",
              "  height: 1px;\n",
              "  margin: -1px;\n",
              "  overflow: hidden;\n",
              "  padding: 0;\n",
              "  position: absolute;\n",
              "  width: 1px;\n",
              "}\n",
              "\n",
              "#sk-container-id-4 div.sk-dashed-wrapped {\n",
              "  border: 1px dashed var(--sklearn-color-line);\n",
              "  margin: 0 0.4em 0.5em 0.4em;\n",
              "  box-sizing: border-box;\n",
              "  padding-bottom: 0.4em;\n",
              "  background-color: var(--sklearn-color-background);\n",
              "}\n",
              "\n",
              "#sk-container-id-4 div.sk-container {\n",
              "  /* jupyter's `normalize.less` sets `[hidden] { display: none; }`\n",
              "     but bootstrap.min.css set `[hidden] { display: none !important; }`\n",
              "     so we also need the `!important` here to be able to override the\n",
              "     default hidden behavior on the sphinx rendered scikit-learn.org.\n",
              "     See: https://github.com/scikit-learn/scikit-learn/issues/21755 */\n",
              "  display: inline-block !important;\n",
              "  position: relative;\n",
              "}\n",
              "\n",
              "#sk-container-id-4 div.sk-text-repr-fallback {\n",
              "  display: none;\n",
              "}\n",
              "\n",
              "div.sk-parallel-item,\n",
              "div.sk-serial,\n",
              "div.sk-item {\n",
              "  /* draw centered vertical line to link estimators */\n",
              "  background-image: linear-gradient(var(--sklearn-color-text-on-default-background), var(--sklearn-color-text-on-default-background));\n",
              "  background-size: 2px 100%;\n",
              "  background-repeat: no-repeat;\n",
              "  background-position: center center;\n",
              "}\n",
              "\n",
              "/* Parallel-specific style estimator block */\n",
              "\n",
              "#sk-container-id-4 div.sk-parallel-item::after {\n",
              "  content: \"\";\n",
              "  width: 100%;\n",
              "  border-bottom: 2px solid var(--sklearn-color-text-on-default-background);\n",
              "  flex-grow: 1;\n",
              "}\n",
              "\n",
              "#sk-container-id-4 div.sk-parallel {\n",
              "  display: flex;\n",
              "  align-items: stretch;\n",
              "  justify-content: center;\n",
              "  background-color: var(--sklearn-color-background);\n",
              "  position: relative;\n",
              "}\n",
              "\n",
              "#sk-container-id-4 div.sk-parallel-item {\n",
              "  display: flex;\n",
              "  flex-direction: column;\n",
              "}\n",
              "\n",
              "#sk-container-id-4 div.sk-parallel-item:first-child::after {\n",
              "  align-self: flex-end;\n",
              "  width: 50%;\n",
              "}\n",
              "\n",
              "#sk-container-id-4 div.sk-parallel-item:last-child::after {\n",
              "  align-self: flex-start;\n",
              "  width: 50%;\n",
              "}\n",
              "\n",
              "#sk-container-id-4 div.sk-parallel-item:only-child::after {\n",
              "  width: 0;\n",
              "}\n",
              "\n",
              "/* Serial-specific style estimator block */\n",
              "\n",
              "#sk-container-id-4 div.sk-serial {\n",
              "  display: flex;\n",
              "  flex-direction: column;\n",
              "  align-items: center;\n",
              "  background-color: var(--sklearn-color-background);\n",
              "  padding-right: 1em;\n",
              "  padding-left: 1em;\n",
              "}\n",
              "\n",
              "\n",
              "/* Toggleable style: style used for estimator/Pipeline/ColumnTransformer box that is\n",
              "clickable and can be expanded/collapsed.\n",
              "- Pipeline and ColumnTransformer use this feature and define the default style\n",
              "- Estimators will overwrite some part of the style using the `sk-estimator` class\n",
              "*/\n",
              "\n",
              "/* Pipeline and ColumnTransformer style (default) */\n",
              "\n",
              "#sk-container-id-4 div.sk-toggleable {\n",
              "  /* Default theme specific background. It is overwritten whether we have a\n",
              "  specific estimator or a Pipeline/ColumnTransformer */\n",
              "  background-color: var(--sklearn-color-background);\n",
              "}\n",
              "\n",
              "/* Toggleable label */\n",
              "#sk-container-id-4 label.sk-toggleable__label {\n",
              "  cursor: pointer;\n",
              "  display: flex;\n",
              "  width: 100%;\n",
              "  margin-bottom: 0;\n",
              "  padding: 0.5em;\n",
              "  box-sizing: border-box;\n",
              "  text-align: center;\n",
              "  align-items: start;\n",
              "  justify-content: space-between;\n",
              "  gap: 0.5em;\n",
              "}\n",
              "\n",
              "#sk-container-id-4 label.sk-toggleable__label .caption {\n",
              "  font-size: 0.6rem;\n",
              "  font-weight: lighter;\n",
              "  color: var(--sklearn-color-text-muted);\n",
              "}\n",
              "\n",
              "#sk-container-id-4 label.sk-toggleable__label-arrow:before {\n",
              "  /* Arrow on the left of the label */\n",
              "  content: \"▸\";\n",
              "  float: left;\n",
              "  margin-right: 0.25em;\n",
              "  color: var(--sklearn-color-icon);\n",
              "}\n",
              "\n",
              "#sk-container-id-4 label.sk-toggleable__label-arrow:hover:before {\n",
              "  color: var(--sklearn-color-text);\n",
              "}\n",
              "\n",
              "/* Toggleable content - dropdown */\n",
              "\n",
              "#sk-container-id-4 div.sk-toggleable__content {\n",
              "  max-height: 0;\n",
              "  max-width: 0;\n",
              "  overflow: hidden;\n",
              "  text-align: left;\n",
              "  /* unfitted */\n",
              "  background-color: var(--sklearn-color-unfitted-level-0);\n",
              "}\n",
              "\n",
              "#sk-container-id-4 div.sk-toggleable__content.fitted {\n",
              "  /* fitted */\n",
              "  background-color: var(--sklearn-color-fitted-level-0);\n",
              "}\n",
              "\n",
              "#sk-container-id-4 div.sk-toggleable__content pre {\n",
              "  margin: 0.2em;\n",
              "  border-radius: 0.25em;\n",
              "  color: var(--sklearn-color-text);\n",
              "  /* unfitted */\n",
              "  background-color: var(--sklearn-color-unfitted-level-0);\n",
              "}\n",
              "\n",
              "#sk-container-id-4 div.sk-toggleable__content.fitted pre {\n",
              "  /* unfitted */\n",
              "  background-color: var(--sklearn-color-fitted-level-0);\n",
              "}\n",
              "\n",
              "#sk-container-id-4 input.sk-toggleable__control:checked~div.sk-toggleable__content {\n",
              "  /* Expand drop-down */\n",
              "  max-height: 200px;\n",
              "  max-width: 100%;\n",
              "  overflow: auto;\n",
              "}\n",
              "\n",
              "#sk-container-id-4 input.sk-toggleable__control:checked~label.sk-toggleable__label-arrow:before {\n",
              "  content: \"▾\";\n",
              "}\n",
              "\n",
              "/* Pipeline/ColumnTransformer-specific style */\n",
              "\n",
              "#sk-container-id-4 div.sk-label input.sk-toggleable__control:checked~label.sk-toggleable__label {\n",
              "  color: var(--sklearn-color-text);\n",
              "  background-color: var(--sklearn-color-unfitted-level-2);\n",
              "}\n",
              "\n",
              "#sk-container-id-4 div.sk-label.fitted input.sk-toggleable__control:checked~label.sk-toggleable__label {\n",
              "  background-color: var(--sklearn-color-fitted-level-2);\n",
              "}\n",
              "\n",
              "/* Estimator-specific style */\n",
              "\n",
              "/* Colorize estimator box */\n",
              "#sk-container-id-4 div.sk-estimator input.sk-toggleable__control:checked~label.sk-toggleable__label {\n",
              "  /* unfitted */\n",
              "  background-color: var(--sklearn-color-unfitted-level-2);\n",
              "}\n",
              "\n",
              "#sk-container-id-4 div.sk-estimator.fitted input.sk-toggleable__control:checked~label.sk-toggleable__label {\n",
              "  /* fitted */\n",
              "  background-color: var(--sklearn-color-fitted-level-2);\n",
              "}\n",
              "\n",
              "#sk-container-id-4 div.sk-label label.sk-toggleable__label,\n",
              "#sk-container-id-4 div.sk-label label {\n",
              "  /* The background is the default theme color */\n",
              "  color: var(--sklearn-color-text-on-default-background);\n",
              "}\n",
              "\n",
              "/* On hover, darken the color of the background */\n",
              "#sk-container-id-4 div.sk-label:hover label.sk-toggleable__label {\n",
              "  color: var(--sklearn-color-text);\n",
              "  background-color: var(--sklearn-color-unfitted-level-2);\n",
              "}\n",
              "\n",
              "/* Label box, darken color on hover, fitted */\n",
              "#sk-container-id-4 div.sk-label.fitted:hover label.sk-toggleable__label.fitted {\n",
              "  color: var(--sklearn-color-text);\n",
              "  background-color: var(--sklearn-color-fitted-level-2);\n",
              "}\n",
              "\n",
              "/* Estimator label */\n",
              "\n",
              "#sk-container-id-4 div.sk-label label {\n",
              "  font-family: monospace;\n",
              "  font-weight: bold;\n",
              "  display: inline-block;\n",
              "  line-height: 1.2em;\n",
              "}\n",
              "\n",
              "#sk-container-id-4 div.sk-label-container {\n",
              "  text-align: center;\n",
              "}\n",
              "\n",
              "/* Estimator-specific */\n",
              "#sk-container-id-4 div.sk-estimator {\n",
              "  font-family: monospace;\n",
              "  border: 1px dotted var(--sklearn-color-border-box);\n",
              "  border-radius: 0.25em;\n",
              "  box-sizing: border-box;\n",
              "  margin-bottom: 0.5em;\n",
              "  /* unfitted */\n",
              "  background-color: var(--sklearn-color-unfitted-level-0);\n",
              "}\n",
              "\n",
              "#sk-container-id-4 div.sk-estimator.fitted {\n",
              "  /* fitted */\n",
              "  background-color: var(--sklearn-color-fitted-level-0);\n",
              "}\n",
              "\n",
              "/* on hover */\n",
              "#sk-container-id-4 div.sk-estimator:hover {\n",
              "  /* unfitted */\n",
              "  background-color: var(--sklearn-color-unfitted-level-2);\n",
              "}\n",
              "\n",
              "#sk-container-id-4 div.sk-estimator.fitted:hover {\n",
              "  /* fitted */\n",
              "  background-color: var(--sklearn-color-fitted-level-2);\n",
              "}\n",
              "\n",
              "/* Specification for estimator info (e.g. \"i\" and \"?\") */\n",
              "\n",
              "/* Common style for \"i\" and \"?\" */\n",
              "\n",
              ".sk-estimator-doc-link,\n",
              "a:link.sk-estimator-doc-link,\n",
              "a:visited.sk-estimator-doc-link {\n",
              "  float: right;\n",
              "  font-size: smaller;\n",
              "  line-height: 1em;\n",
              "  font-family: monospace;\n",
              "  background-color: var(--sklearn-color-background);\n",
              "  border-radius: 1em;\n",
              "  height: 1em;\n",
              "  width: 1em;\n",
              "  text-decoration: none !important;\n",
              "  margin-left: 0.5em;\n",
              "  text-align: center;\n",
              "  /* unfitted */\n",
              "  border: var(--sklearn-color-unfitted-level-1) 1pt solid;\n",
              "  color: var(--sklearn-color-unfitted-level-1);\n",
              "}\n",
              "\n",
              ".sk-estimator-doc-link.fitted,\n",
              "a:link.sk-estimator-doc-link.fitted,\n",
              "a:visited.sk-estimator-doc-link.fitted {\n",
              "  /* fitted */\n",
              "  border: var(--sklearn-color-fitted-level-1) 1pt solid;\n",
              "  color: var(--sklearn-color-fitted-level-1);\n",
              "}\n",
              "\n",
              "/* On hover */\n",
              "div.sk-estimator:hover .sk-estimator-doc-link:hover,\n",
              ".sk-estimator-doc-link:hover,\n",
              "div.sk-label-container:hover .sk-estimator-doc-link:hover,\n",
              ".sk-estimator-doc-link:hover {\n",
              "  /* unfitted */\n",
              "  background-color: var(--sklearn-color-unfitted-level-3);\n",
              "  color: var(--sklearn-color-background);\n",
              "  text-decoration: none;\n",
              "}\n",
              "\n",
              "div.sk-estimator.fitted:hover .sk-estimator-doc-link.fitted:hover,\n",
              ".sk-estimator-doc-link.fitted:hover,\n",
              "div.sk-label-container:hover .sk-estimator-doc-link.fitted:hover,\n",
              ".sk-estimator-doc-link.fitted:hover {\n",
              "  /* fitted */\n",
              "  background-color: var(--sklearn-color-fitted-level-3);\n",
              "  color: var(--sklearn-color-background);\n",
              "  text-decoration: none;\n",
              "}\n",
              "\n",
              "/* Span, style for the box shown on hovering the info icon */\n",
              ".sk-estimator-doc-link span {\n",
              "  display: none;\n",
              "  z-index: 9999;\n",
              "  position: relative;\n",
              "  font-weight: normal;\n",
              "  right: .2ex;\n",
              "  padding: .5ex;\n",
              "  margin: .5ex;\n",
              "  width: min-content;\n",
              "  min-width: 20ex;\n",
              "  max-width: 50ex;\n",
              "  color: var(--sklearn-color-text);\n",
              "  box-shadow: 2pt 2pt 4pt #999;\n",
              "  /* unfitted */\n",
              "  background: var(--sklearn-color-unfitted-level-0);\n",
              "  border: .5pt solid var(--sklearn-color-unfitted-level-3);\n",
              "}\n",
              "\n",
              ".sk-estimator-doc-link.fitted span {\n",
              "  /* fitted */\n",
              "  background: var(--sklearn-color-fitted-level-0);\n",
              "  border: var(--sklearn-color-fitted-level-3);\n",
              "}\n",
              "\n",
              ".sk-estimator-doc-link:hover span {\n",
              "  display: block;\n",
              "}\n",
              "\n",
              "/* \"?\"-specific style due to the `<a>` HTML tag */\n",
              "\n",
              "#sk-container-id-4 a.estimator_doc_link {\n",
              "  float: right;\n",
              "  font-size: 1rem;\n",
              "  line-height: 1em;\n",
              "  font-family: monospace;\n",
              "  background-color: var(--sklearn-color-background);\n",
              "  border-radius: 1rem;\n",
              "  height: 1rem;\n",
              "  width: 1rem;\n",
              "  text-decoration: none;\n",
              "  /* unfitted */\n",
              "  color: var(--sklearn-color-unfitted-level-1);\n",
              "  border: var(--sklearn-color-unfitted-level-1) 1pt solid;\n",
              "}\n",
              "\n",
              "#sk-container-id-4 a.estimator_doc_link.fitted {\n",
              "  /* fitted */\n",
              "  border: var(--sklearn-color-fitted-level-1) 1pt solid;\n",
              "  color: var(--sklearn-color-fitted-level-1);\n",
              "}\n",
              "\n",
              "/* On hover */\n",
              "#sk-container-id-4 a.estimator_doc_link:hover {\n",
              "  /* unfitted */\n",
              "  background-color: var(--sklearn-color-unfitted-level-3);\n",
              "  color: var(--sklearn-color-background);\n",
              "  text-decoration: none;\n",
              "}\n",
              "\n",
              "#sk-container-id-4 a.estimator_doc_link.fitted:hover {\n",
              "  /* fitted */\n",
              "  background-color: var(--sklearn-color-fitted-level-3);\n",
              "}\n",
              "</style><div id=\"sk-container-id-4\" class=\"sk-top-container\"><div class=\"sk-text-repr-fallback\"><pre>KNeighborsClassifier(n_neighbors=26, weights=&#x27;distance&#x27;)</pre><b>In a Jupyter environment, please rerun this cell to show the HTML representation or trust the notebook. <br />On GitHub, the HTML representation is unable to render, please try loading this page with nbviewer.org.</b></div><div class=\"sk-container\" hidden><div class=\"sk-item\"><div class=\"sk-estimator fitted sk-toggleable\"><input class=\"sk-toggleable__control sk-hidden--visually\" id=\"sk-estimator-id-4\" type=\"checkbox\" checked><label for=\"sk-estimator-id-4\" class=\"sk-toggleable__label fitted sk-toggleable__label-arrow\"><div><div>KNeighborsClassifier</div></div><div><a class=\"sk-estimator-doc-link fitted\" rel=\"noreferrer\" target=\"_blank\" href=\"https://scikit-learn.org/1.6/modules/generated/sklearn.neighbors.KNeighborsClassifier.html\">?<span>Documentation for KNeighborsClassifier</span></a><span class=\"sk-estimator-doc-link fitted\">i<span>Fitted</span></span></div></label><div class=\"sk-toggleable__content fitted\"><pre>KNeighborsClassifier(n_neighbors=26, weights=&#x27;distance&#x27;)</pre></div> </div></div></div></div>"
            ]
          },
          "metadata": {},
          "execution_count": 94
        }
      ]
    },
    {
      "cell_type": "code",
      "source": [
        "y_pred = knn.predict(X_test)\n",
        "accuracy = accuracy_score(y_test, y_pred)\n",
        "\n",
        "print(f\"KNN model accuracy: {accuracy:.2f}\")"
      ],
      "metadata": {
        "colab": {
          "base_uri": "https://localhost:8080/"
        },
        "id": "a53YivXQ-wUG",
        "outputId": "ac558851-1c18-41e8-a58d-8b3774197cb5"
      },
      "execution_count": 95,
      "outputs": [
        {
          "output_type": "stream",
          "name": "stdout",
          "text": [
            "KNN model accuracy: 0.38\n"
          ]
        }
      ]
    },
    {
      "cell_type": "markdown",
      "source": [
        "**Neural Network via TensorFlow Predictions**"
      ],
      "metadata": {
        "id": "U3OGhK72B_jw"
      }
    },
    {
      "cell_type": "code",
      "source": [
        "import numpy as np\n",
        "import tensorflow as tf\n",
        "from tensorflow import keras\n",
        "from tensorflow.keras import layers"
      ],
      "metadata": {
        "id": "a7jN-ej9CRhJ"
      },
      "execution_count": 96,
      "outputs": []
    },
    {
      "cell_type": "markdown",
      "source": [
        "Data Masking and Test/Train Splits"
      ],
      "metadata": {
        "id": "cZnhdsvD-ZTv"
      }
    },
    {
      "cell_type": "code",
      "source": [
        "def mask_entries(X, mask_candidate_column_indices, missing_val=9, missing_rate=0.1):\n",
        "    print(\"started\")\n",
        "    X_masked = X.copy()\n",
        "    mask = pd.DataFrame(False, index=X.index, columns=X.columns)\n",
        "    print(\"copies made\")\n",
        "\n",
        "    # Randomly selects (missing_rate)% of the data columns provided in mask_candidate_column_indices\n",
        "    #  to \"mask\" (swap out for the missing_val) for each individual data row.\n",
        "    for i in range(X.shape[0]):  # for each row\n",
        "        num_mask = max(1, int(len(mask_candidate_column_indices) * missing_rate))\n",
        "        mask_indices = np.random.choice(mask_candidate_column_indices, num_mask, replace=False)\n",
        "        mask_columns = X.columns[mask_indices]\n",
        "        # print(mask_indices)\n",
        "        X_masked.loc[i, mask_columns] = missing_val\n",
        "        mask.loc[i, mask_columns] = True  # track what was masked\n",
        "\n",
        "    print(\"Exited masking loop\")\n",
        "    return X_masked, mask"
      ],
      "metadata": {
        "id": "WEeQMRgzCx-5"
      },
      "execution_count": 97,
      "outputs": []
    },
    {
      "cell_type": "code",
      "source": [
        "## Parameters --- ##\n",
        "# Percentage of data to mask and ask the model to fill in (0-1):\n",
        "missing_rate = 0.1\n",
        "# The location in the conversion list where the 'unknown' conversion was appended\n",
        "missing_val = len(block_mapping_conversions)-1\n",
        "## -------------- ##\n",
        "\n",
        "# Data prepping\n",
        "X_NN = df_numerical.copy()\n",
        "print(X_NN.shape)\n",
        "\n",
        "# Train/Test splits\n",
        "from sklearn.model_selection import train_test_split\n",
        "X_NN_train, X_NN_test = train_test_split(X_NN, test_size=0.2, random_state=42)\n",
        "\n",
        "# Save current indices from overall list and reset the train/test indices each starting at index 0\n",
        "train_indices = X_NN_train.index.copy()\n",
        "test_indices = X_NN_test.index.copy()\n",
        "X_NN_train = X_NN_train.reset_index(drop=True)\n",
        "X_NN_test = X_NN_test.reset_index(drop=True)\n",
        "\n",
        "# Masking data in each row for prediction later\n",
        "masking_candidates = [col for col in df_numerical.columns if not col.endswith(\"_dist\") and not col.endswith(\"Rot\")]\n",
        "  # exclude rotation values from masking, as well as distance values. Currently it only subs in fake *block ids*, not distances.\n",
        "masking_candidate_indices = [df_numerical.columns.get_loc(col) for col in masking_candidates]\n",
        "\n",
        "X_NN_train_masked, train_mask = mask_entries(X_NN_train, masking_candidate_indices, missing_val, missing_rate)\n",
        "X_NN_test_masked, test_mask = mask_entries(X_NN_test, masking_candidate_indices, missing_val, missing_rate)\n",
        "\n",
        "print(\"Training data:\")\n",
        "print(X_NN_train_masked.shape)\n",
        "\n",
        "print()\n",
        "print(\"Testing data:\")\n",
        "print(X_NN_test_masked.shape)"
      ],
      "metadata": {
        "colab": {
          "base_uri": "https://localhost:8080/"
        },
        "id": "X0XuxNN1ljyE",
        "outputId": "c4ed7b1e-7710-4a5e-ac9b-f322224a14d3"
      },
      "execution_count": 98,
      "outputs": [
        {
          "output_type": "stream",
          "name": "stdout",
          "text": [
            "(120, 7201)\n",
            "started\n",
            "copies made\n",
            "Exited masking loop\n",
            "started\n",
            "copies made\n",
            "Exited masking loop\n",
            "Training data:\n",
            "(96, 7201)\n",
            "\n",
            "Testing data:\n",
            "(24, 7201)\n"
          ]
        }
      ]
    },
    {
      "cell_type": "code",
      "source": [
        "print(\"Training data:\")\n",
        "print(X_NN_train_masked)\n",
        "\n",
        "print()\n",
        "print(\"Testing data:\")\n",
        "print(X_NN_test_masked)"
      ],
      "metadata": {
        "colab": {
          "base_uri": "https://localhost:8080/"
        },
        "id": "K8JEWX-0oaiW",
        "outputId": "0bf93350-1be0-4eb5-8969-9e460c78e7b3"
      },
      "execution_count": 99,
      "outputs": [
        {
          "output_type": "stream",
          "name": "stdout",
          "text": [
            "Training data:\n",
            "     xRot   yRot  block_1  block_1_dist  block_2  block_2_dist  block_3  \\\n",
            "0  -63.50  25.09        8            58        8             8        1   \n",
            "1   22.69  22.52        5            35        5            38        7   \n",
            "2  -30.97  52.76        4            48        8            40        5   \n",
            "3  -83.30  15.05        2            51        8            11        5   \n",
            "4   60.84  11.27        4            93        6            89        8   \n",
            "..    ...    ...      ...           ...      ...           ...      ...   \n",
            "91  81.58  28.55        5            19        6             4        1   \n",
            "92  21.75  81.58        7            55        1            11        1   \n",
            "93 -41.43  10.16        8            86        5            38        1   \n",
            "94   2.65   8.53        8            44        0             9        1   \n",
            "95 -71.45  54.84        1            95        3             2        0   \n",
            "\n",
            "    block_3_dist  block_4  block_4_dist  ...  block_3596  block_3596_dist  \\\n",
            "0             46        5            24  ...           8               85   \n",
            "1             53        1             7  ...           8               16   \n",
            "2             10        8            68  ...           5               38   \n",
            "3              9        1             9  ...           5                7   \n",
            "4             23        1            13  ...           1              127   \n",
            "..           ...      ...           ...  ...         ...              ...   \n",
            "91            51        4            75  ...           8               21   \n",
            "92            15        8            69  ...           8               25   \n",
            "93            57        1            53  ...           4               83   \n",
            "94            17        1            95  ...           1                1   \n",
            "95             4        5            77  ...           5               81   \n",
            "\n",
            "    block_3597  block_3597_dist  block_3598  block_3598_dist  block_3599  \\\n",
            "0            8               48           5               16           5   \n",
            "1            5               11           5               73           1   \n",
            "2            5               43           7               42           6   \n",
            "3            2               39           4                6           5   \n",
            "4            5               20           5               12           6   \n",
            "..         ...              ...         ...              ...         ...   \n",
            "91           5               65           5               13           5   \n",
            "92           1               57           5               48           8   \n",
            "93           6               66           1               78           8   \n",
            "94           5               40           4                8           0   \n",
            "95           5               74           8               74           5   \n",
            "\n",
            "    block_3599_dist  block_3600  block_3600_dist  \n",
            "0                19           3              109  \n",
            "1                 1           8               25  \n",
            "2                 7           1               41  \n",
            "3               117           5               14  \n",
            "4                18           1               70  \n",
            "..              ...         ...              ...  \n",
            "91                2           4               51  \n",
            "92               30           4               32  \n",
            "93               36           1               39  \n",
            "94               89           3                8  \n",
            "95               54           2               37  \n",
            "\n",
            "[96 rows x 7201 columns]\n",
            "\n",
            "Testing data:\n",
            "     xRot   yRot  block_1  block_1_dist  block_2  block_2_dist  block_3  \\\n",
            "0   83.52  22.18        1            21        5           118        1   \n",
            "1  -70.24  37.43        5            58        6            57        4   \n",
            "2  -44.43  84.42        3            31        5            46        5   \n",
            "3   56.68  11.82        6            81        4            39        5   \n",
            "4  -81.53  83.82        5            78        4            15        5   \n",
            "5  -11.53  55.86        1            57        1           100        4   \n",
            "6  -20.00  88.91        4           127        2            20        5   \n",
            "7  -38.84  23.37        1             1        5            26        5   \n",
            "8  -68.90  52.55        1            96        5             1        1   \n",
            "9  -84.10   7.44        1            42        2            77        8   \n",
            "10  43.40   5.35        1            90        5            89        8   \n",
            "11 -35.42  45.03        7           103        1            31        5   \n",
            "12 -43.67   8.92        5             8        4            63        7   \n",
            "13 -84.45  26.44        7            54        5            26        4   \n",
            "14 -82.56  49.10        2            89        2            34        6   \n",
            "15 -29.38  30.14        8            33        2           101        5   \n",
            "16   6.02   2.38        4            72        5            40        7   \n",
            "17  81.45  26.98        0            25        1            63        7   \n",
            "18  30.15  37.94        8           134        0           102        6   \n",
            "19 -22.22  74.72        5            28        0             4        2   \n",
            "20 -56.69  83.12        5            49        6            79        2   \n",
            "21  79.11  84.18        4             5        8             8        3   \n",
            "22 -72.56  75.77        4            20        8            38        4   \n",
            "23 -52.92  19.35        5            75        4             0        5   \n",
            "\n",
            "    block_3_dist  block_4  block_4_dist  ...  block_3596  block_3596_dist  \\\n",
            "0              3        4            29  ...           1              118   \n",
            "1             53        5            18  ...           4               31   \n",
            "2             43        3            38  ...           5               63   \n",
            "3             70        5            57  ...           4               42   \n",
            "4             87        5            36  ...           1               86   \n",
            "5            116        5            55  ...           5               33   \n",
            "6             55        6            38  ...           1              150   \n",
            "7             55        4            60  ...           5               68   \n",
            "8             42        4            34  ...           4               40   \n",
            "9             20        2            88  ...           4               11   \n",
            "10            77        6           120  ...           4                5   \n",
            "11           118        6           132  ...           5              121   \n",
            "12            74        5            92  ...           4               71   \n",
            "13            15        8            53  ...           1               65   \n",
            "14            14        2            29  ...           1               82   \n",
            "15           120        2           108  ...           5               78   \n",
            "16            30        8            50  ...           5               32   \n",
            "17            90        4            59  ...           5              106   \n",
            "18            61        4           149  ...           5              124   \n",
            "19            66        5             3  ...           0               35   \n",
            "20            73        7            54  ...           1               65   \n",
            "21            69        6            95  ...           5               68   \n",
            "22            56        5             6  ...           1               61   \n",
            "23            51        5           107  ...           5                2   \n",
            "\n",
            "    block_3597  block_3597_dist  block_3598  block_3598_dist  block_3599  \\\n",
            "0            7               34           7               65           1   \n",
            "1            1               26           1                6           8   \n",
            "2            1               51           1               84           8   \n",
            "3            7                6           1               94           1   \n",
            "4            4               70           8               40           5   \n",
            "5            8                5           5               14           4   \n",
            "6            1               44           5              106           5   \n",
            "7            1               68           5               22           4   \n",
            "8            1              108           8                2           8   \n",
            "9            8               21           7               10           6   \n",
            "10           5               82           5              134           6   \n",
            "11           1                4           1               96           3   \n",
            "12           1               39           4               17           4   \n",
            "13           5              111           5               74           3   \n",
            "14           5                8           4                7           1   \n",
            "15           5               14           3               28           0   \n",
            "16           4               21           5               19           1   \n",
            "17           5               92           5               33           4   \n",
            "18           5              104           1               12           4   \n",
            "19           7                0           1               62           2   \n",
            "20           1               61           4               80           5   \n",
            "21           5                6           8              140           2   \n",
            "22           5               76           1               30           4   \n",
            "23           4               25           4              109           8   \n",
            "\n",
            "    block_3599_dist  block_3600  block_3600_dist  \n",
            "0               132           6               34  \n",
            "1                12           1               95  \n",
            "2                75           8               37  \n",
            "3                61           5               51  \n",
            "4                82           5               97  \n",
            "5                81           1              124  \n",
            "6                60           8               59  \n",
            "7                 1           1               42  \n",
            "8                 6           6               94  \n",
            "9                23           1                3  \n",
            "10              107           5              132  \n",
            "11               67           5               51  \n",
            "12               14           5                8  \n",
            "13              133           1               17  \n",
            "14               36           4               19  \n",
            "15                8           4               37  \n",
            "16               44           5               66  \n",
            "17               24           5              128  \n",
            "18              118           5               52  \n",
            "19               74           4                2  \n",
            "20              123           4              120  \n",
            "21               63           5              105  \n",
            "22               17           2               10  \n",
            "23               24           1               58  \n",
            "\n",
            "[24 rows x 7201 columns]\n"
          ]
        }
      ]
    },
    {
      "cell_type": "markdown",
      "source": [
        "TensorFlow Model"
      ],
      "metadata": {
        "id": "xk6FQYb8_f-2"
      }
    },
    {
      "cell_type": "code",
      "source": [
        "import tensorflow as tf\n",
        "from tensorflow import keras\n",
        "from tensorflow.keras import layers"
      ],
      "metadata": {
        "id": "k3-zd6OY2gYG"
      },
      "execution_count": 100,
      "outputs": []
    },
    {
      "cell_type": "code",
      "source": [
        "X_train_input = X_NN_train_masked.values  # Masked input\n",
        "y_train_target = X_NN_train.values        # Original target\n",
        "\n",
        "X_test_input = X_NN_test_masked.values\n",
        "y_test_target = X_NN_test.values\n",
        "\n",
        "# Model building\n",
        "input_dim = X_train_input.shape[1]\n",
        "\n",
        "model = keras.Sequential([\n",
        "    layers.Input(shape=(input_dim,)),\n",
        "    layers.Dense(2048, activation='relu'),\n",
        "    layers.Dense(1024, activation='relu'),\n",
        "    layers.Dense(512, activation='relu'),\n",
        "    layers.Dense(input_dim, activation='relu')  # output size = input size, activation relu to ensure positive output\n",
        "])\n",
        "\n",
        "model.summary()\n"
      ],
      "metadata": {
        "id": "GNL0Fl3Y_g_Z",
        "outputId": "4d03bafa-3e87-4ef7-db56-0c8237df838b",
        "colab": {
          "base_uri": "https://localhost:8080/",
          "height": 257
        }
      },
      "execution_count": 101,
      "outputs": [
        {
          "output_type": "display_data",
          "data": {
            "text/plain": [
              "\u001b[1mModel: \"sequential_2\"\u001b[0m\n"
            ],
            "text/html": [
              "<pre style=\"white-space:pre;overflow-x:auto;line-height:normal;font-family:Menlo,'DejaVu Sans Mono',consolas,'Courier New',monospace\"><span style=\"font-weight: bold\">Model: \"sequential_2\"</span>\n",
              "</pre>\n"
            ]
          },
          "metadata": {}
        },
        {
          "output_type": "display_data",
          "data": {
            "text/plain": [
              "┏━━━━━━━━━━━━━━━━━━━━━━━━━━━━━━━━━┳━━━━━━━━━━━━━━━━━━━━━━━━┳━━━━━━━━━━━━━━━┓\n",
              "┃\u001b[1m \u001b[0m\u001b[1mLayer (type)                   \u001b[0m\u001b[1m \u001b[0m┃\u001b[1m \u001b[0m\u001b[1mOutput Shape          \u001b[0m\u001b[1m \u001b[0m┃\u001b[1m \u001b[0m\u001b[1m      Param #\u001b[0m\u001b[1m \u001b[0m┃\n",
              "┡━━━━━━━━━━━━━━━━━━━━━━━━━━━━━━━━━╇━━━━━━━━━━━━━━━━━━━━━━━━╇━━━━━━━━━━━━━━━┩\n",
              "│ dense_8 (\u001b[38;5;33mDense\u001b[0m)                 │ (\u001b[38;5;45mNone\u001b[0m, \u001b[38;5;34m2048\u001b[0m)           │    \u001b[38;5;34m14,749,696\u001b[0m │\n",
              "├─────────────────────────────────┼────────────────────────┼───────────────┤\n",
              "│ dense_9 (\u001b[38;5;33mDense\u001b[0m)                 │ (\u001b[38;5;45mNone\u001b[0m, \u001b[38;5;34m1024\u001b[0m)           │     \u001b[38;5;34m2,098,176\u001b[0m │\n",
              "├─────────────────────────────────┼────────────────────────┼───────────────┤\n",
              "│ dense_10 (\u001b[38;5;33mDense\u001b[0m)                │ (\u001b[38;5;45mNone\u001b[0m, \u001b[38;5;34m512\u001b[0m)            │       \u001b[38;5;34m524,800\u001b[0m │\n",
              "├─────────────────────────────────┼────────────────────────┼───────────────┤\n",
              "│ dense_11 (\u001b[38;5;33mDense\u001b[0m)                │ (\u001b[38;5;45mNone\u001b[0m, \u001b[38;5;34m7201\u001b[0m)           │     \u001b[38;5;34m3,694,113\u001b[0m │\n",
              "└─────────────────────────────────┴────────────────────────┴───────────────┘\n"
            ],
            "text/html": [
              "<pre style=\"white-space:pre;overflow-x:auto;line-height:normal;font-family:Menlo,'DejaVu Sans Mono',consolas,'Courier New',monospace\">┏━━━━━━━━━━━━━━━━━━━━━━━━━━━━━━━━━┳━━━━━━━━━━━━━━━━━━━━━━━━┳━━━━━━━━━━━━━━━┓\n",
              "┃<span style=\"font-weight: bold\"> Layer (type)                    </span>┃<span style=\"font-weight: bold\"> Output Shape           </span>┃<span style=\"font-weight: bold\">       Param # </span>┃\n",
              "┡━━━━━━━━━━━━━━━━━━━━━━━━━━━━━━━━━╇━━━━━━━━━━━━━━━━━━━━━━━━╇━━━━━━━━━━━━━━━┩\n",
              "│ dense_8 (<span style=\"color: #0087ff; text-decoration-color: #0087ff\">Dense</span>)                 │ (<span style=\"color: #00d7ff; text-decoration-color: #00d7ff\">None</span>, <span style=\"color: #00af00; text-decoration-color: #00af00\">2048</span>)           │    <span style=\"color: #00af00; text-decoration-color: #00af00\">14,749,696</span> │\n",
              "├─────────────────────────────────┼────────────────────────┼───────────────┤\n",
              "│ dense_9 (<span style=\"color: #0087ff; text-decoration-color: #0087ff\">Dense</span>)                 │ (<span style=\"color: #00d7ff; text-decoration-color: #00d7ff\">None</span>, <span style=\"color: #00af00; text-decoration-color: #00af00\">1024</span>)           │     <span style=\"color: #00af00; text-decoration-color: #00af00\">2,098,176</span> │\n",
              "├─────────────────────────────────┼────────────────────────┼───────────────┤\n",
              "│ dense_10 (<span style=\"color: #0087ff; text-decoration-color: #0087ff\">Dense</span>)                │ (<span style=\"color: #00d7ff; text-decoration-color: #00d7ff\">None</span>, <span style=\"color: #00af00; text-decoration-color: #00af00\">512</span>)            │       <span style=\"color: #00af00; text-decoration-color: #00af00\">524,800</span> │\n",
              "├─────────────────────────────────┼────────────────────────┼───────────────┤\n",
              "│ dense_11 (<span style=\"color: #0087ff; text-decoration-color: #0087ff\">Dense</span>)                │ (<span style=\"color: #00d7ff; text-decoration-color: #00d7ff\">None</span>, <span style=\"color: #00af00; text-decoration-color: #00af00\">7201</span>)           │     <span style=\"color: #00af00; text-decoration-color: #00af00\">3,694,113</span> │\n",
              "└─────────────────────────────────┴────────────────────────┴───────────────┘\n",
              "</pre>\n"
            ]
          },
          "metadata": {}
        },
        {
          "output_type": "display_data",
          "data": {
            "text/plain": [
              "\u001b[1m Total params: \u001b[0m\u001b[38;5;34m21,066,785\u001b[0m (80.36 MB)\n"
            ],
            "text/html": [
              "<pre style=\"white-space:pre;overflow-x:auto;line-height:normal;font-family:Menlo,'DejaVu Sans Mono',consolas,'Courier New',monospace\"><span style=\"font-weight: bold\"> Total params: </span><span style=\"color: #00af00; text-decoration-color: #00af00\">21,066,785</span> (80.36 MB)\n",
              "</pre>\n"
            ]
          },
          "metadata": {}
        },
        {
          "output_type": "display_data",
          "data": {
            "text/plain": [
              "\u001b[1m Trainable params: \u001b[0m\u001b[38;5;34m21,066,785\u001b[0m (80.36 MB)\n"
            ],
            "text/html": [
              "<pre style=\"white-space:pre;overflow-x:auto;line-height:normal;font-family:Menlo,'DejaVu Sans Mono',consolas,'Courier New',monospace\"><span style=\"font-weight: bold\"> Trainable params: </span><span style=\"color: #00af00; text-decoration-color: #00af00\">21,066,785</span> (80.36 MB)\n",
              "</pre>\n"
            ]
          },
          "metadata": {}
        },
        {
          "output_type": "display_data",
          "data": {
            "text/plain": [
              "\u001b[1m Non-trainable params: \u001b[0m\u001b[38;5;34m0\u001b[0m (0.00 B)\n"
            ],
            "text/html": [
              "<pre style=\"white-space:pre;overflow-x:auto;line-height:normal;font-family:Menlo,'DejaVu Sans Mono',consolas,'Courier New',monospace\"><span style=\"font-weight: bold\"> Non-trainable params: </span><span style=\"color: #00af00; text-decoration-color: #00af00\">0</span> (0.00 B)\n",
              "</pre>\n"
            ]
          },
          "metadata": {}
        }
      ]
    },
    {
      "cell_type": "code",
      "source": [
        "# Define the loss function\n",
        "def masked_mse_loss(y_true, y_pred):\n",
        "    missing_val = 9.0  # whatever you used during masking\n",
        "\n",
        "    # Create a mask: 1 if y_true == missing_val, else 0\n",
        "    mask = tf.cast(tf.equal(y_true, missing_val), dtype=tf.float32)\n",
        "\n",
        "    # Loss only where mask == 1\n",
        "    loss = tf.square(y_true - y_pred) * mask\n",
        "\n",
        "    # Average the loss only over the masked elements\n",
        "    loss_sum = tf.reduce_sum(loss)\n",
        "    num_masked = tf.reduce_sum(mask)\n",
        "\n",
        "    # avoid division by zero\n",
        "    return tf.cond(num_masked > 0, lambda: loss_sum / num_masked, lambda: tf.constant(0.0))\n"
      ],
      "metadata": {
        "id": "LMqcunPY__do"
      },
      "execution_count": 102,
      "outputs": []
    },
    {
      "cell_type": "code",
      "source": [
        "# compile TensorFlow model\n",
        "model.compile(optimizer='adam', loss=masked_mse_loss)"
      ],
      "metadata": {
        "id": "Dmx4sQr3AHbj"
      },
      "execution_count": 103,
      "outputs": []
    },
    {
      "cell_type": "code",
      "source": [
        "# Model Training and Hyperparameters\n",
        "history = model.fit(\n",
        "    X_train_input, y_train_target,\n",
        "    validation_data=(X_test_input, y_test_target),\n",
        "    epochs=50,\n",
        "    batch_size=32\n",
        ")"
      ],
      "metadata": {
        "id": "K9yOug9iAQkY",
        "outputId": "0ea74b60-ee8f-42e2-fb22-fc3348b3dadd",
        "colab": {
          "base_uri": "https://localhost:8080/"
        }
      },
      "execution_count": 104,
      "outputs": [
        {
          "output_type": "stream",
          "name": "stdout",
          "text": [
            "Epoch 1/50\n",
            "\u001b[1m3/3\u001b[0m \u001b[32m━━━━━━━━━━━━━━━━━━━━\u001b[0m\u001b[37m\u001b[0m \u001b[1m3s\u001b[0m 477ms/step - loss: 213.8961 - val_loss: 77.0132\n",
            "Epoch 2/50\n",
            "\u001b[1m3/3\u001b[0m \u001b[32m━━━━━━━━━━━━━━━━━━━━\u001b[0m\u001b[37m\u001b[0m \u001b[1m2s\u001b[0m 390ms/step - loss: 64.8721 - val_loss: 55.7476\n",
            "Epoch 3/50\n",
            "\u001b[1m3/3\u001b[0m \u001b[32m━━━━━━━━━━━━━━━━━━━━\u001b[0m\u001b[37m\u001b[0m \u001b[1m1s\u001b[0m 359ms/step - loss: 54.5521 - val_loss: 55.7424\n",
            "Epoch 4/50\n",
            "\u001b[1m3/3\u001b[0m \u001b[32m━━━━━━━━━━━━━━━━━━━━\u001b[0m\u001b[37m\u001b[0m \u001b[1m1s\u001b[0m 449ms/step - loss: 52.0925 - val_loss: 52.2694\n",
            "Epoch 5/50\n",
            "\u001b[1m3/3\u001b[0m \u001b[32m━━━━━━━━━━━━━━━━━━━━\u001b[0m\u001b[37m\u001b[0m \u001b[1m2s\u001b[0m 535ms/step - loss: 46.6626 - val_loss: 48.2000\n",
            "Epoch 6/50\n",
            "\u001b[1m3/3\u001b[0m \u001b[32m━━━━━━━━━━━━━━━━━━━━\u001b[0m\u001b[37m\u001b[0m \u001b[1m2s\u001b[0m 342ms/step - loss: 42.8405 - val_loss: 47.6847\n",
            "Epoch 7/50\n",
            "\u001b[1m3/3\u001b[0m \u001b[32m━━━━━━━━━━━━━━━━━━━━\u001b[0m\u001b[37m\u001b[0m \u001b[1m1s\u001b[0m 339ms/step - loss: 38.2944 - val_loss: 43.5279\n",
            "Epoch 8/50\n",
            "\u001b[1m3/3\u001b[0m \u001b[32m━━━━━━━━━━━━━━━━━━━━\u001b[0m\u001b[37m\u001b[0m \u001b[1m1s\u001b[0m 341ms/step - loss: 35.5049 - val_loss: 42.8834\n",
            "Epoch 9/50\n",
            "\u001b[1m3/3\u001b[0m \u001b[32m━━━━━━━━━━━━━━━━━━━━\u001b[0m\u001b[37m\u001b[0m \u001b[1m1s\u001b[0m 372ms/step - loss: 32.9772 - val_loss: 42.0477\n",
            "Epoch 10/50\n",
            "\u001b[1m3/3\u001b[0m \u001b[32m━━━━━━━━━━━━━━━━━━━━\u001b[0m\u001b[37m\u001b[0m \u001b[1m1s\u001b[0m 355ms/step - loss: 29.9655 - val_loss: 40.0513\n",
            "Epoch 11/50\n",
            "\u001b[1m3/3\u001b[0m \u001b[32m━━━━━━━━━━━━━━━━━━━━\u001b[0m\u001b[37m\u001b[0m \u001b[1m1s\u001b[0m 377ms/step - loss: 28.0415 - val_loss: 40.3870\n",
            "Epoch 12/50\n",
            "\u001b[1m3/3\u001b[0m \u001b[32m━━━━━━━━━━━━━━━━━━━━\u001b[0m\u001b[37m\u001b[0m \u001b[1m1s\u001b[0m 375ms/step - loss: 25.4742 - val_loss: 37.6044\n",
            "Epoch 13/50\n",
            "\u001b[1m3/3\u001b[0m \u001b[32m━━━━━━━━━━━━━━━━━━━━\u001b[0m\u001b[37m\u001b[0m \u001b[1m1s\u001b[0m 391ms/step - loss: 22.3462 - val_loss: 34.5565\n",
            "Epoch 14/50\n",
            "\u001b[1m3/3\u001b[0m \u001b[32m━━━━━━━━━━━━━━━━━━━━\u001b[0m\u001b[37m\u001b[0m \u001b[1m2s\u001b[0m 537ms/step - loss: 21.0981 - val_loss: 33.3739\n",
            "Epoch 15/50\n",
            "\u001b[1m3/3\u001b[0m \u001b[32m━━━━━━━━━━━━━━━━━━━━\u001b[0m\u001b[37m\u001b[0m \u001b[1m2s\u001b[0m 593ms/step - loss: 19.8971 - val_loss: 34.6950\n",
            "Epoch 16/50\n",
            "\u001b[1m3/3\u001b[0m \u001b[32m━━━━━━━━━━━━━━━━━━━━\u001b[0m\u001b[37m\u001b[0m \u001b[1m1s\u001b[0m 366ms/step - loss: 20.3900 - val_loss: 33.1402\n",
            "Epoch 17/50\n",
            "\u001b[1m3/3\u001b[0m \u001b[32m━━━━━━━━━━━━━━━━━━━━\u001b[0m\u001b[37m\u001b[0m \u001b[1m1s\u001b[0m 360ms/step - loss: 20.2252 - val_loss: 34.8232\n",
            "Epoch 18/50\n",
            "\u001b[1m3/3\u001b[0m \u001b[32m━━━━━━━━━━━━━━━━━━━━\u001b[0m\u001b[37m\u001b[0m \u001b[1m1s\u001b[0m 369ms/step - loss: 19.9494 - val_loss: 35.7348\n",
            "Epoch 19/50\n",
            "\u001b[1m3/3\u001b[0m \u001b[32m━━━━━━━━━━━━━━━━━━━━\u001b[0m\u001b[37m\u001b[0m \u001b[1m1s\u001b[0m 342ms/step - loss: 19.0006 - val_loss: 31.7928\n",
            "Epoch 20/50\n",
            "\u001b[1m3/3\u001b[0m \u001b[32m━━━━━━━━━━━━━━━━━━━━\u001b[0m\u001b[37m\u001b[0m \u001b[1m1s\u001b[0m 338ms/step - loss: 17.7759 - val_loss: 32.8497\n",
            "Epoch 21/50\n",
            "\u001b[1m3/3\u001b[0m \u001b[32m━━━━━━━━━━━━━━━━━━━━\u001b[0m\u001b[37m\u001b[0m \u001b[1m1s\u001b[0m 356ms/step - loss: 18.2294 - val_loss: 32.7773\n",
            "Epoch 22/50\n",
            "\u001b[1m3/3\u001b[0m \u001b[32m━━━━━━━━━━━━━━━━━━━━\u001b[0m\u001b[37m\u001b[0m \u001b[1m1s\u001b[0m 344ms/step - loss: 17.8848 - val_loss: 32.9958\n",
            "Epoch 23/50\n",
            "\u001b[1m3/3\u001b[0m \u001b[32m━━━━━━━━━━━━━━━━━━━━\u001b[0m\u001b[37m\u001b[0m \u001b[1m1s\u001b[0m 354ms/step - loss: 17.0182 - val_loss: 32.5546\n",
            "Epoch 24/50\n",
            "\u001b[1m3/3\u001b[0m \u001b[32m━━━━━━━━━━━━━━━━━━━━\u001b[0m\u001b[37m\u001b[0m \u001b[1m1s\u001b[0m 349ms/step - loss: 17.8085 - val_loss: 31.0637\n",
            "Epoch 25/50\n",
            "\u001b[1m3/3\u001b[0m \u001b[32m━━━━━━━━━━━━━━━━━━━━\u001b[0m\u001b[37m\u001b[0m \u001b[1m2s\u001b[0m 596ms/step - loss: 16.7080 - val_loss: 33.4239\n",
            "Epoch 26/50\n",
            "\u001b[1m3/3\u001b[0m \u001b[32m━━━━━━━━━━━━━━━━━━━━\u001b[0m\u001b[37m\u001b[0m \u001b[1m1s\u001b[0m 411ms/step - loss: 16.6742 - val_loss: 32.2888\n",
            "Epoch 27/50\n",
            "\u001b[1m3/3\u001b[0m \u001b[32m━━━━━━━━━━━━━━━━━━━━\u001b[0m\u001b[37m\u001b[0m \u001b[1m1s\u001b[0m 350ms/step - loss: 16.9512 - val_loss: 31.4412\n",
            "Epoch 28/50\n",
            "\u001b[1m3/3\u001b[0m \u001b[32m━━━━━━━━━━━━━━━━━━━━\u001b[0m\u001b[37m\u001b[0m \u001b[1m1s\u001b[0m 363ms/step - loss: 15.8966 - val_loss: 31.0596\n",
            "Epoch 29/50\n",
            "\u001b[1m3/3\u001b[0m \u001b[32m━━━━━━━━━━━━━━━━━━━━\u001b[0m\u001b[37m\u001b[0m \u001b[1m2s\u001b[0m 607ms/step - loss: 15.5138 - val_loss: 30.7118\n",
            "Epoch 30/50\n",
            "\u001b[1m3/3\u001b[0m \u001b[32m━━━━━━━━━━━━━━━━━━━━\u001b[0m\u001b[37m\u001b[0m \u001b[1m2s\u001b[0m 352ms/step - loss: 15.2925 - val_loss: 30.9853\n",
            "Epoch 31/50\n",
            "\u001b[1m3/3\u001b[0m \u001b[32m━━━━━━━━━━━━━━━━━━━━\u001b[0m\u001b[37m\u001b[0m \u001b[1m1s\u001b[0m 370ms/step - loss: 14.7649 - val_loss: 30.2673\n",
            "Epoch 32/50\n",
            "\u001b[1m3/3\u001b[0m \u001b[32m━━━━━━━━━━━━━━━━━━━━\u001b[0m\u001b[37m\u001b[0m \u001b[1m1s\u001b[0m 353ms/step - loss: 14.8776 - val_loss: 30.3282\n",
            "Epoch 33/50\n",
            "\u001b[1m3/3\u001b[0m \u001b[32m━━━━━━━━━━━━━━━━━━━━\u001b[0m\u001b[37m\u001b[0m \u001b[1m1s\u001b[0m 359ms/step - loss: 14.8786 - val_loss: 30.1159\n",
            "Epoch 34/50\n",
            "\u001b[1m3/3\u001b[0m \u001b[32m━━━━━━━━━━━━━━━━━━━━\u001b[0m\u001b[37m\u001b[0m \u001b[1m2s\u001b[0m 578ms/step - loss: 14.8966 - val_loss: 30.0312\n",
            "Epoch 35/50\n",
            "\u001b[1m3/3\u001b[0m \u001b[32m━━━━━━━━━━━━━━━━━━━━\u001b[0m\u001b[37m\u001b[0m \u001b[1m2s\u001b[0m 348ms/step - loss: 14.9307 - val_loss: 30.0593\n",
            "Epoch 36/50\n",
            "\u001b[1m3/3\u001b[0m \u001b[32m━━━━━━━━━━━━━━━━━━━━\u001b[0m\u001b[37m\u001b[0m \u001b[1m1s\u001b[0m 342ms/step - loss: 14.6931 - val_loss: 29.8637\n",
            "Epoch 37/50\n",
            "\u001b[1m3/3\u001b[0m \u001b[32m━━━━━━━━━━━━━━━━━━━━\u001b[0m\u001b[37m\u001b[0m \u001b[1m1s\u001b[0m 370ms/step - loss: 14.5855 - val_loss: 29.8646\n",
            "Epoch 38/50\n",
            "\u001b[1m3/3\u001b[0m \u001b[32m━━━━━━━━━━━━━━━━━━━━\u001b[0m\u001b[37m\u001b[0m \u001b[1m1s\u001b[0m 357ms/step - loss: 14.7292 - val_loss: 29.9197\n",
            "Epoch 39/50\n",
            "\u001b[1m3/3\u001b[0m \u001b[32m━━━━━━━━━━━━━━━━━━━━\u001b[0m\u001b[37m\u001b[0m \u001b[1m1s\u001b[0m 361ms/step - loss: 14.0723 - val_loss: 29.7372\n",
            "Epoch 40/50\n",
            "\u001b[1m3/3\u001b[0m \u001b[32m━━━━━━━━━━━━━━━━━━━━\u001b[0m\u001b[37m\u001b[0m \u001b[1m1s\u001b[0m 349ms/step - loss: 14.6356 - val_loss: 29.7403\n",
            "Epoch 41/50\n",
            "\u001b[1m3/3\u001b[0m \u001b[32m━━━━━━━━━━━━━━━━━━━━\u001b[0m\u001b[37m\u001b[0m \u001b[1m2s\u001b[0m 547ms/step - loss: 14.2834 - val_loss: 29.6314\n",
            "Epoch 42/50\n",
            "\u001b[1m3/3\u001b[0m \u001b[32m━━━━━━━━━━━━━━━━━━━━\u001b[0m\u001b[37m\u001b[0m \u001b[1m3s\u001b[0m 556ms/step - loss: 14.7787 - val_loss: 29.6062\n",
            "Epoch 43/50\n",
            "\u001b[1m3/3\u001b[0m \u001b[32m━━━━━━━━━━━━━━━━━━━━\u001b[0m\u001b[37m\u001b[0m \u001b[1m1s\u001b[0m 353ms/step - loss: 15.1584 - val_loss: 29.5928\n",
            "Epoch 44/50\n",
            "\u001b[1m3/3\u001b[0m \u001b[32m━━━━━━━━━━━━━━━━━━━━\u001b[0m\u001b[37m\u001b[0m \u001b[1m1s\u001b[0m 362ms/step - loss: 14.6880 - val_loss: 29.5226\n",
            "Epoch 45/50\n",
            "\u001b[1m3/3\u001b[0m \u001b[32m━━━━━━━━━━━━━━━━━━━━\u001b[0m\u001b[37m\u001b[0m \u001b[1m1s\u001b[0m 368ms/step - loss: 14.6404 - val_loss: 29.5023\n",
            "Epoch 46/50\n",
            "\u001b[1m3/3\u001b[0m \u001b[32m━━━━━━━━━━━━━━━━━━━━\u001b[0m\u001b[37m\u001b[0m \u001b[1m1s\u001b[0m 367ms/step - loss: 14.4937 - val_loss: 29.4887\n",
            "Epoch 47/50\n",
            "\u001b[1m3/3\u001b[0m \u001b[32m━━━━━━━━━━━━━━━━━━━━\u001b[0m\u001b[37m\u001b[0m \u001b[1m1s\u001b[0m 355ms/step - loss: 14.8812 - val_loss: 29.4976\n",
            "Epoch 48/50\n",
            "\u001b[1m3/3\u001b[0m \u001b[32m━━━━━━━━━━━━━━━━━━━━\u001b[0m\u001b[37m\u001b[0m \u001b[1m1s\u001b[0m 351ms/step - loss: 14.5994 - val_loss: 29.4929\n",
            "Epoch 49/50\n",
            "\u001b[1m3/3\u001b[0m \u001b[32m━━━━━━━━━━━━━━━━━━━━\u001b[0m\u001b[37m\u001b[0m \u001b[1m1s\u001b[0m 359ms/step - loss: 14.8575 - val_loss: 29.3953\n",
            "Epoch 50/50\n",
            "\u001b[1m3/3\u001b[0m \u001b[32m━━━━━━━━━━━━━━━━━━━━\u001b[0m\u001b[37m\u001b[0m \u001b[1m1s\u001b[0m 351ms/step - loss: 14.2082 - val_loss: 29.3798\n"
          ]
        }
      ]
    },
    {
      "cell_type": "code",
      "source": [
        "# applying the model to make our predictions\n",
        "predictions = model.predict(X_test_input)"
      ],
      "metadata": {
        "id": "N1GbCar4AT7c",
        "outputId": "74aa45ab-aa39-4cd6-fde6-5dd196956b7e",
        "colab": {
          "base_uri": "https://localhost:8080/"
        }
      },
      "execution_count": 105,
      "outputs": [
        {
          "output_type": "stream",
          "name": "stdout",
          "text": [
            "\u001b[1m1/1\u001b[0m \u001b[32m━━━━━━━━━━━━━━━━━━━━\u001b[0m\u001b[37m\u001b[0m \u001b[1m0s\u001b[0m 111ms/step\n"
          ]
        }
      ]
    },
    {
      "cell_type": "code",
      "source": [
        "# Get the prediction values into a df to analyze\n",
        "# print(predictions)\n",
        "predictions_df = pd.DataFrame(predictions, columns=X_NN_test.columns)\n",
        "print(predictions_df)"
      ],
      "metadata": {
        "id": "5O47opnOBBco",
        "outputId": "c6a08786-d8c9-44f4-b109-00647502211b",
        "colab": {
          "base_uri": "https://localhost:8080/"
        }
      },
      "execution_count": 106,
      "outputs": [
        {
          "output_type": "stream",
          "name": "stdout",
          "text": [
            "    xRot  yRot   block_1  block_1_dist   block_2  block_2_dist  block_3  \\\n",
            "0    0.0   0.0  6.891947      9.966906  1.832385      9.516568      0.0   \n",
            "1    0.0   0.0  5.244509      7.935826  1.309313      8.027783      0.0   \n",
            "2    0.0   0.0  5.142097      7.769250  1.408448      7.972327      0.0   \n",
            "3    0.0   0.0  5.455933      8.457329  1.637509      8.609462      0.0   \n",
            "4    0.0   0.0  5.767933      8.847560  1.284629      8.545814      0.0   \n",
            "5    0.0   0.0  6.902079      9.577205  1.783046      9.229426      0.0   \n",
            "6    0.0   0.0  7.932167     11.817129  1.843844     11.882269      0.0   \n",
            "7    0.0   0.0  5.537533      7.863121  1.387936      7.874790      0.0   \n",
            "8    0.0   0.0  8.315626     12.508320  2.155065     11.720694      0.0   \n",
            "9    0.0   0.0  6.232268      9.170422  1.382449      8.972816      0.0   \n",
            "10   0.0   0.0  8.247041     11.517239  2.147715     10.918870      0.0   \n",
            "11   0.0   0.0  8.788035     12.017735  2.579837     11.377140      0.0   \n",
            "12   0.0   0.0  5.556789      8.095392  1.299109      8.017118      0.0   \n",
            "13   0.0   0.0  6.634141      9.358905  1.432777      9.476954      0.0   \n",
            "14   0.0   0.0  6.204946      9.095417  1.575711      9.019337      0.0   \n",
            "15   0.0   0.0  6.266705      9.463682  1.557664      9.408936      0.0   \n",
            "16   0.0   0.0  5.125018      7.762847  1.528924      7.652174      0.0   \n",
            "17   0.0   0.0  7.017537     10.080821  1.765127      9.727172      0.0   \n",
            "18   0.0   0.0  8.127061     12.315434  1.799229     11.806942      0.0   \n",
            "19   0.0   0.0  5.305932      7.931578  1.311582      7.733665      0.0   \n",
            "20   0.0   0.0  7.803118     11.793637  1.795000     11.475493      0.0   \n",
            "21   0.0   0.0  7.258919     10.894519  2.043813     11.119087      0.0   \n",
            "22   0.0   0.0  5.368454      8.190307  1.424414      8.161619      0.0   \n",
            "23   0.0   0.0  5.975586      8.790921  1.517278      8.706062      0.0   \n",
            "\n",
            "    block_3_dist   block_4  block_4_dist  ...  block_3596  block_3596_dist  \\\n",
            "0            0.0  4.595346      8.979903  ...    1.841150              0.0   \n",
            "1            0.0  3.315125      6.949919  ...    1.380706              0.0   \n",
            "2            0.0  3.456348      6.853327  ...    1.721392              0.0   \n",
            "3            0.0  3.806278      6.995294  ...    1.756286              0.0   \n",
            "4            0.0  3.481082      8.115591  ...    1.659465              0.0   \n",
            "5            0.0  4.916292      8.260021  ...    1.526249              0.0   \n",
            "6            0.0  4.958932     10.890216  ...    2.461491              0.0   \n",
            "7            0.0  3.794227      6.657802  ...    1.238621              0.0   \n",
            "8            0.0  5.171176     11.050221  ...    1.733560              0.0   \n",
            "9            0.0  3.789128      8.227124  ...    1.375329              0.0   \n",
            "10           0.0  5.394894     10.386599  ...    1.606805              0.0   \n",
            "11           0.0  6.019953     10.445871  ...    1.501951              0.0   \n",
            "12           0.0  3.593726      7.074451  ...    1.276835              0.0   \n",
            "13           0.0  4.160766      8.728618  ...    1.602509              0.0   \n",
            "14           0.0  4.170121      7.705400  ...    1.569916              0.0   \n",
            "15           0.0  4.094454      8.279985  ...    1.859770              0.0   \n",
            "16           0.0  3.211215      7.016907  ...    1.396888              0.0   \n",
            "17           0.0  4.651266      8.524444  ...    1.257519              0.0   \n",
            "18           0.0  5.018734     10.551692  ...    1.535746              0.0   \n",
            "19           0.0  3.416198      6.937341  ...    1.330015              0.0   \n",
            "20           0.0  5.125430     10.809939  ...    2.709712              0.0   \n",
            "21           0.0  4.905045      9.884125  ...    2.716105              0.0   \n",
            "22           0.0  3.676185      6.939415  ...    1.691303              0.0   \n",
            "23           0.0  3.973055      7.819829  ...    1.772138              0.0   \n",
            "\n",
            "    block_3597  block_3597_dist  block_3598  block_3598_dist  block_3599  \\\n",
            "0     6.271631         9.562707    3.722895        10.429101         0.0   \n",
            "1     4.883511         8.125611    2.966296         8.598859         0.0   \n",
            "2     4.576347         8.057346    3.084594         8.719256         0.0   \n",
            "3     5.119221         8.374261    2.994509         9.055367         0.0   \n",
            "4     5.232441         8.869569    3.355261         9.173484         0.0   \n",
            "5     6.294787         9.504896    4.031765         9.827641         0.0   \n",
            "6     7.081427        12.142367    4.503333        12.901125         0.0   \n",
            "7     4.914971         7.917360    3.067151         8.694599         0.0   \n",
            "8     7.759304        12.110505    4.850395        12.688483         0.0   \n",
            "9     5.826144         9.099692    3.258359         9.554403         0.0   \n",
            "10    7.696738        11.167306    4.524004        11.819554         0.0   \n",
            "11    8.097990        11.491479    4.896728        12.474549         0.0   \n",
            "12    5.006401         8.104819    3.009249         8.896749         0.0   \n",
            "13    6.103333         9.952128    3.885905        10.092963         0.0   \n",
            "14    5.829796         9.004737    3.361982         8.967640         0.0   \n",
            "15    5.877577         9.458396    3.459810         9.547150         0.0   \n",
            "16    4.755329         7.782785    3.060942         8.416889         0.0   \n",
            "17    6.306684         9.882008    3.924355        10.888797         0.0   \n",
            "18    7.760752        12.065446    4.408327        12.479547         0.0   \n",
            "19    4.826773         7.831506    2.952272         8.434917         0.0   \n",
            "20    6.918442        11.675374    4.355804        12.524790         0.0   \n",
            "21    6.787556        11.022386    4.016454        11.404120         0.0   \n",
            "22    4.872576         8.063952    2.939710         8.659354         0.0   \n",
            "23    5.303338         8.768582    3.337045         9.511729         0.0   \n",
            "\n",
            "    block_3599_dist  block_3600  block_3600_dist  \n",
            "0          4.517680         0.0         5.691017  \n",
            "1          4.099589         0.0         4.688194  \n",
            "2          4.257096         0.0         4.655043  \n",
            "3          4.184794         0.0         4.847674  \n",
            "4          4.475986         0.0         5.202657  \n",
            "5          5.076967         0.0         5.909675  \n",
            "6          6.002953         0.0         6.978589  \n",
            "7          4.235043         0.0         4.799508  \n",
            "8          6.388654         0.0         7.400092  \n",
            "9          4.280330         0.0         5.316113  \n",
            "10         5.437948         0.0         6.787382  \n",
            "11         6.089163         0.0         7.263552  \n",
            "12         4.052863         0.0         4.776412  \n",
            "13         4.977762         0.0         5.767479  \n",
            "14         4.641893         0.0         5.485487  \n",
            "15         4.665857         0.0         5.561112  \n",
            "16         4.040924         0.0         4.551554  \n",
            "17         5.377864         0.0         6.112288  \n",
            "18         5.978759         0.0         7.189825  \n",
            "19         3.978262         0.0         4.653165  \n",
            "20         5.463707         0.0         6.710616  \n",
            "21         5.061231         0.0         6.217856  \n",
            "22         4.067818         0.0         4.753431  \n",
            "23         4.423192         0.0         5.176524  \n",
            "\n",
            "[24 rows x 7201 columns]\n"
          ]
        }
      ]
    },
    {
      "cell_type": "code",
      "source": [
        "# Data evaluations\n",
        "\n",
        "# Get only the masked entries for evaluation\n",
        "masked_positions = test_mask  # DataFrame with same shape\n",
        "\n",
        "# Pull ground truth values where we masked\n",
        "true_values = X_NN_test[masked_positions]\n",
        "\n",
        "# Pull model predictions where we masked\n",
        "predicted_values = predictions_df[masked_positions].round()\n",
        "\n",
        "# print(predicted_values)\n",
        "# print()\n",
        "# print(true_values)"
      ],
      "metadata": {
        "id": "JlFDU8sU1ffL"
      },
      "execution_count": 107,
      "outputs": []
    },
    {
      "cell_type": "code",
      "source": [
        "# Flatten into 1D arrays for comparison\n",
        "y_true = true_values.values.flatten()\n",
        "y_pred = predicted_values.values.flatten()\n",
        "\n",
        "\n",
        "# Find only where y_true is NOT NaN\n",
        "valid_mask = ~np.isnan(y_true)\n",
        "valid_mask &= ~np.isnan(y_pred)\n",
        "\n",
        "# Apply mask\n",
        "y_true_valid = y_true[valid_mask].astype(int)\n",
        "y_pred_valid = y_pred[valid_mask].astype(int)\n",
        "\n",
        "\n",
        "# Only compare where there was actually a masked entry\n",
        "correct = (y_true_valid == y_pred_valid).sum()\n",
        "total = len(y_true)\n",
        "\n",
        "accuracy = correct / total\n",
        "print(f\"Masked prediction accuracy: {accuracy:.4f}\")"
      ],
      "metadata": {
        "id": "GH41yE7D7PDk",
        "outputId": "323510cf-fa03-400e-e358-e15f35a8fb33",
        "colab": {
          "base_uri": "https://localhost:8080/"
        }
      },
      "execution_count": 108,
      "outputs": [
        {
          "output_type": "stream",
          "name": "stdout",
          "text": [
            "Masked prediction accuracy: 0.0035\n"
          ]
        }
      ]
    },
    {
      "cell_type": "code",
      "source": [
        "## Confusion matrix:\n",
        "from sklearn.metrics import confusion_matrix, ConfusionMatrixDisplay\n",
        "import matplotlib.pyplot as plt\n",
        "\n",
        "# Build confusion matrix\n",
        "cm = confusion_matrix(y_true_valid, y_pred_valid)\n",
        "\n",
        "# Plot\n",
        "fig, ax = plt.subplots(figsize=(20, 20))\n",
        "disp = ConfusionMatrixDisplay(confusion_matrix=cm)\n",
        "disp.plot(ax=ax, cmap='Blues', colorbar=True)\n",
        "plt.title('Confusion Matrix of Predicted Block Types')\n",
        "plt.xlabel('Predicted Label')\n",
        "plt.ylabel('True Label')\n",
        "plt.show()"
      ],
      "metadata": {
        "id": "lKxWxcOQ7u5z",
        "outputId": "c030a6d9-595a-4f43-e176-ca772836956f",
        "colab": {
          "base_uri": "https://localhost:8080/",
          "height": 1000
        }
      },
      "execution_count": 109,
      "outputs": [
        {
          "output_type": "display_data",
          "data": {
            "text/plain": [
              "<Figure size 2000x2000 with 2 Axes>"
            ],
            "image/png": "[encoded data removed]"
          },
          "metadata": {}
        }
      ]
    },
    {
      "cell_type": "code",
      "source": [],
      "metadata": {
        "id": "FZ7hmMfm_VB7"
      },
      "execution_count": 109,
      "outputs": []
    }
  ]
}