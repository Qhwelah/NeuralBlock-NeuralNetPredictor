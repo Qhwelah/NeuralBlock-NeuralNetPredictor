{
  "nbformat": 4,
  "nbformat_minor": 0,
  "metadata": {
    "colab": {
      "provenance": [],
      "include_colab_link": true
    },
    "kernelspec": {
      "name": "python3",
      "display_name": "Python 3"
    },
    "language_info": {
      "name": "python"
    }
  },
  "cells": [
    {
      "cell_type": "markdown",
      "metadata": {
        "id": "view-in-github",
        "colab_type": "text"
      },
      "source": [
        "<a href=\"https://colab.research.google.com/github/Qhwelah/NeuralBlock-NeuralNetPredictor/blob/main/NeuralNetPredictor.ipynb\" target=\"_parent\"><img src=\"https://colab.research.google.com/assets/colab-badge.svg\" alt=\"Open In Colab\"/></a>"
      ]
    },
    {
      "cell_type": "markdown",
      "source": [
        "**Data Prepping for the Models**"
      ],
      "metadata": {
        "id": "5aLihYq0EbOO"
      }
    },
    {
      "cell_type": "code",
      "execution_count": 64,
      "metadata": {
        "colab": {
          "base_uri": "https://localhost:8080/",
          "height": 104
        },
        "id": "zmBCDAj_Lwt9",
        "outputId": "35ae5357-226f-4e51-f3e3-46995bfa6c2a"
      },
      "outputs": [
        {
          "output_type": "stream",
          "name": "stderr",
          "text": [
            "Downloading...\n",
            "From: https://drive.google.com/uc?id=1UPXnC2oy20r4Yesw7lPuDRHlsoR0l0DV\n",
            "To: /content/data.csv\n",
            "100%|██████████| 8.96M/8.96M [00:00<00:00, 44.0MB/s]\n"
          ]
        },
        {
          "output_type": "execute_result",
          "data": {
            "text/plain": [
              "'data.csv'"
            ],
            "application/vnd.google.colaboratory.intrinsic+json": {
              "type": "string"
            }
          },
          "metadata": {},
          "execution_count": 64
        }
      ],
      "source": [
        "# !pip3 uninstall gdown -y && pip3 install gdown\n",
        "import gdown\n",
        "\n",
        "url = \"https://drive.google.com/uc?id=1UPXnC2oy20r4Yesw7lPuDRHlsoR0l0DV\"\n",
        "output = \"data.csv\"\n",
        "gdown.download(url, output, quiet=False)"
      ]
    },
    {
      "cell_type": "code",
      "source": [
        "## import the data\n",
        "import pandas as pd\n",
        "\n",
        "df = pd.read_csv(\"data.csv\")\n",
        "\n",
        "print(df)"
      ],
      "metadata": {
        "colab": {
          "base_uri": "https://localhost:8080/"
        },
        "id": "eze8HudGY4e0",
        "outputId": "01be807d-cec7-43fc-f75f-4ee18640b660"
      },
      "execution_count": 65,
      "outputs": [
        {
          "output_type": "stream",
          "name": "stdout",
          "text": [
            "      xRot   yRot                block_1  block_1_dist                block_2  \\\n",
            "0    81.45  26.98   minecraft:oak_leaves             6   minecraft:oak_planks   \n",
            "1    59.47   2.02   minecraft:oak_planks             4        minecraft:water   \n",
            "2   -58.81   3.46         minecraft:dirt           159        minecraft:stone   \n",
            "3    61.45  36.54   minecraft:oak_leaves            40        minecraft:stone   \n",
            "4   -44.43  84.42  minecraft:grass_block            56        minecraft:stone   \n",
            "..     ...    ...                    ...           ...                    ...   \n",
            "115  23.38  11.33   minecraft:oak_planks            11        minecraft:water   \n",
            "116   1.92  50.17         minecraft:dirt            72   minecraft:oak_planks   \n",
            "117 -64.33  83.93   minecraft:oak_planks            21  minecraft:grass_block   \n",
            "118  -1.77   5.55        minecraft:stone           146        minecraft:stone   \n",
            "119  11.65  76.97          minecraft:air           113   minecraft:oak_planks   \n",
            "\n",
            "     block_2_dist                block_3  block_3_dist                block_4  \\\n",
            "0              94      minecraft:oak_log           121          minecraft:air   \n",
            "1               9          minecraft:air            14   minecraft:oak_planks   \n",
            "2              75          minecraft:air           141        minecraft:stone   \n",
            "3              21          minecraft:air            34        minecraft:stone   \n",
            "4              41        minecraft:stone           130  minecraft:grass_block   \n",
            "..            ...                    ...           ...                    ...   \n",
            "115            50          minecraft:air           142   minecraft:oak_planks   \n",
            "116            93   minecraft:oak_planks           108   minecraft:oak_planks   \n",
            "117           110        minecraft:stone            63   minecraft:oak_leaves   \n",
            "118           151        minecraft:stone            26        minecraft:stone   \n",
            "119            18  minecraft:grass_block            35   minecraft:oak_planks   \n",
            "\n",
            "     block_4_dist  ...            block_3596  block_3596_dist  \\\n",
            "0              90  ...       minecraft:stone              137   \n",
            "1              41  ...  minecraft:oak_planks               75   \n",
            "2             136  ...       minecraft:stone               37   \n",
            "3              98  ...  minecraft:oak_planks               18   \n",
            "4              49  ...       minecraft:stone               24   \n",
            "..            ...  ...                   ...              ...   \n",
            "115            47  ...  minecraft:oak_leaves               25   \n",
            "116           108  ...       minecraft:stone              136   \n",
            "117            19  ...  minecraft:oak_planks              140   \n",
            "118            50  ...         minecraft:air               89   \n",
            "119            22  ...       minecraft:stone               68   \n",
            "\n",
            "               block_3597  block_3597_dist            block_3598  \\\n",
            "0         minecraft:stone              123       minecraft:stone   \n",
            "1    minecraft:oak_planks               69         minecraft:air   \n",
            "2           minecraft:air               98       minecraft:water   \n",
            "3         minecraft:stone              144  minecraft:oak_planks   \n",
            "4    minecraft:oak_planks              138  minecraft:oak_planks   \n",
            "..                    ...              ...                   ...   \n",
            "115       minecraft:stone               74       minecraft:stone   \n",
            "116       minecraft:stone              111       minecraft:stone   \n",
            "117         minecraft:air              148        minecraft:dirt   \n",
            "118       minecraft:stone              146     minecraft:oak_log   \n",
            "119  minecraft:oak_planks                8       minecraft:stone   \n",
            "\n",
            "     block_3598_dist            block_3599  block_3599_dist  \\\n",
            "0                 64         minecraft:air               55   \n",
            "1                 96  minecraft:oak_planks               23   \n",
            "2                 20  minecraft:oak_planks               43   \n",
            "3                107  minecraft:oak_planks                4   \n",
            "4                  3         minecraft:air               12   \n",
            "..               ...                   ...              ...   \n",
            "115              136        minecraft:dirt               48   \n",
            "116              134       minecraft:stone               46   \n",
            "117               99  minecraft:oak_planks                1   \n",
            "118              127  minecraft:oak_planks              146   \n",
            "119              152       minecraft:stone               40   \n",
            "\n",
            "               block_3600  block_3600_dist  \n",
            "0         minecraft:stone              159  \n",
            "1         minecraft:stone              148  \n",
            "2    minecraft:oak_planks              118  \n",
            "3          minecraft:dirt              104  \n",
            "4    minecraft:oak_leaves              124  \n",
            "..                    ...              ...  \n",
            "115       minecraft:stone               48  \n",
            "116       minecraft:stone              113  \n",
            "117         minecraft:air               95  \n",
            "118       minecraft:water               43  \n",
            "119       minecraft:stone               47  \n",
            "\n",
            "[120 rows x 7202 columns]\n"
          ]
        }
      ]
    },
    {
      "cell_type": "code",
      "source": [
        "## Getting all values of non-numeric types only\n",
        "df.info()\n",
        "non_numeric_values = df.select_dtypes(exclude=[\"float\", \"int\"])\n",
        "# print(non_numeric_values)"
      ],
      "metadata": {
        "id": "j2kNoW6LZ6Sa",
        "colab": {
          "base_uri": "https://localhost:8080/"
        },
        "outputId": "a21103fe-5d8f-421c-f634-9ac52ca657d3"
      },
      "execution_count": 66,
      "outputs": [
        {
          "output_type": "stream",
          "name": "stdout",
          "text": [
            "<class 'pandas.core.frame.DataFrame'>\n",
            "RangeIndex: 120 entries, 0 to 119\n",
            "Columns: 7202 entries, xRot to block_3600_dist\n",
            "dtypes: float64(2), int64(3600), object(3600)\n",
            "memory usage: 6.6+ MB\n"
          ]
        }
      ]
    },
    {
      "cell_type": "code",
      "source": [
        "## Mapping all non-numeric data values to some numeric values\n",
        "\n",
        "# parameters:\n",
        "columns_to_check_for_unique_values = 20\n",
        "\n",
        "# internal values:\n",
        "block_mapping_conversions = []\n",
        "\n",
        "print(\"Event log for block conversion pushes: \")\n",
        "j = 1  # iterator for determining which block column to use\n",
        "while(j < columns_to_check_for_unique_values+1):\n",
        "  block_column = f\"block_{j}\"\n",
        "  block_mapping = df[block_column].factorize()\n",
        "  # print(f\"Conversion values for {block_column}: \")\n",
        "  # print(block_mapping)\n",
        "  # print()\n",
        "  i = 0  # iterator for checking within a single column's conversion mapping\n",
        "  while i < len(block_mapping[0]):\n",
        "    mapped_index = block_mapping[0][i]\n",
        "    if mapped_index == -1:\n",
        "      i += 1\n",
        "      continue\n",
        "    new_conversion = block_mapping[1][mapped_index]\n",
        "    if new_conversion not in block_mapping_conversions:\n",
        "      block_mapping_conversions.append(new_conversion)\n",
        "      print(f\"pushing {new_conversion} to values at index {len(block_mapping_conversions)-1}\")\n",
        "    i += 1\n",
        "  j += 1\n",
        "\n",
        "block_mapping_conversions.append('unknown')\n",
        "print(f\"pushing unknown to values at index {len(block_mapping_conversions)-1}\")\n",
        "\n",
        "print()\n",
        "print(\"Final conversion values: \")\n",
        "print(block_mapping_conversions)"
      ],
      "metadata": {
        "colab": {
          "base_uri": "https://localhost:8080/"
        },
        "id": "jTs8WbC5yilR",
        "outputId": "25a3e604-8ab3-4188-cd03-c9d8ed6ec443"
      },
      "execution_count": 67,
      "outputs": [
        {
          "output_type": "stream",
          "name": "stdout",
          "text": [
            "Event log for block conversion pushes: \n",
            "pushing minecraft:oak_leaves to values at index 0\n",
            "pushing minecraft:oak_planks to values at index 1\n",
            "pushing minecraft:dirt to values at index 2\n",
            "pushing minecraft:grass_block to values at index 3\n",
            "pushing minecraft:air to values at index 4\n",
            "pushing minecraft:stone to values at index 5\n",
            "pushing minecraft:water to values at index 6\n",
            "pushing minecraft:oak_log to values at index 7\n",
            "pushing unknown to values at index 8\n",
            "\n",
            "Final conversion values: \n",
            "['minecraft:oak_leaves', 'minecraft:oak_planks', 'minecraft:dirt', 'minecraft:grass_block', 'minecraft:air', 'minecraft:stone', 'minecraft:water', 'minecraft:oak_log', 'unknown']\n"
          ]
        }
      ]
    },
    {
      "cell_type": "code",
      "source": [
        "## Converting actual data values in the dataframe to numbers using block mapping\n",
        "def convertBlock(val):\n",
        "  for i in range(len(block_mapping_conversions)):\n",
        "    if val == block_mapping_conversions[i]:\n",
        "      return i\n",
        "  return -1\n",
        "\n",
        "block_columns = [col for col in df.columns if col.startswith(\"block_\") and not col.endswith(\"_dist\")]\n",
        "# print(block_columns)\n",
        "df_numerical = df.copy() # make a backup copy of the dataframe to reference later\n",
        "for col in block_columns:\n",
        "  df_numerical[col] = df_numerical[col].apply(convertBlock)\n",
        "\n",
        "print()\n",
        "print(df_numerical) # the numerized dataframe"
      ],
      "metadata": {
        "id": "gB1rPfzT3T17",
        "colab": {
          "base_uri": "https://localhost:8080/"
        },
        "outputId": "7d6dc8fc-1c35-46bf-da3a-0cb0777c9160"
      },
      "execution_count": 68,
      "outputs": [
        {
          "output_type": "stream",
          "name": "stdout",
          "text": [
            "\n",
            "      xRot   yRot  block_1  block_1_dist  block_2  block_2_dist  block_3  \\\n",
            "0    81.45  26.98        0             6        1            94        7   \n",
            "1    59.47   2.02        1             4        6             9        4   \n",
            "2   -58.81   3.46        2           159        5            75        4   \n",
            "3    61.45  36.54        0            40        5            21        4   \n",
            "4   -44.43  84.42        3            56        5            41        5   \n",
            "..     ...    ...      ...           ...      ...           ...      ...   \n",
            "115  23.38  11.33        1            11        6            50        4   \n",
            "116   1.92  50.17        2            72        1            93        1   \n",
            "117 -64.33  83.93        1            21        3           110        5   \n",
            "118  -1.77   5.55        5           146        5           151        5   \n",
            "119  11.65  76.97        4           113        1            18        3   \n",
            "\n",
            "     block_3_dist  block_4  block_4_dist  ...  block_3596  block_3596_dist  \\\n",
            "0             121        4            90  ...           5              137   \n",
            "1              14        1            41  ...           1               75   \n",
            "2             141        5           136  ...           5               37   \n",
            "3              34        5            98  ...           1               18   \n",
            "4             130        3            49  ...           5               24   \n",
            "..            ...      ...           ...  ...         ...              ...   \n",
            "115           142        1            47  ...           0               25   \n",
            "116           108        1           108  ...           5              136   \n",
            "117            63        0            19  ...           1              140   \n",
            "118            26        5            50  ...           4               89   \n",
            "119            35        1            22  ...           5               68   \n",
            "\n",
            "     block_3597  block_3597_dist  block_3598  block_3598_dist  block_3599  \\\n",
            "0             5              123           5               64           4   \n",
            "1             1               69           4               96           1   \n",
            "2             4               98           6               20           1   \n",
            "3             5              144           1              107           1   \n",
            "4             1              138           1                3           4   \n",
            "..          ...              ...         ...              ...         ...   \n",
            "115           5               74           5              136           2   \n",
            "116           5              111           5              134           5   \n",
            "117           4              148           2               99           1   \n",
            "118           5              146           7              127           1   \n",
            "119           1                8           5              152           5   \n",
            "\n",
            "     block_3599_dist  block_3600  block_3600_dist  \n",
            "0                 55           5              159  \n",
            "1                 23           5              148  \n",
            "2                 43           1              118  \n",
            "3                  4           2              104  \n",
            "4                 12           0              124  \n",
            "..               ...         ...              ...  \n",
            "115               48           5               48  \n",
            "116               46           5              113  \n",
            "117                1           4               95  \n",
            "118              146           6               43  \n",
            "119               40           5               47  \n",
            "\n",
            "[120 rows x 7202 columns]\n"
          ]
        }
      ]
    },
    {
      "cell_type": "markdown",
      "source": [
        "**KNN Model Predictions**"
      ],
      "metadata": {
        "id": "ZHQlVDRLB2K5"
      }
    },
    {
      "cell_type": "code",
      "source": [
        "from sklearn.model_selection import train_test_split\n",
        "from sklearn.neighbors import KNeighborsClassifier\n",
        "from sklearn.metrics import accuracy_score"
      ],
      "metadata": {
        "id": "6pg0J5NMyMjy"
      },
      "execution_count": 69,
      "outputs": []
    },
    {
      "cell_type": "code",
      "source": [
        "distance_columns = [col for col in df_numerical.columns if 'dist' in col]\n",
        "\n",
        "target_distance_column = 'block_5_dist'\n",
        "\n",
        "for col in distance_columns:\n",
        "    if col != target_distance_column:\n",
        "        df_numerical[col] = (df_numerical[col] - df_numerical[target_distance_column]).abs()\n",
        "\n",
        "df_numerical = df_numerical.drop(columns=[target_distance_column])"
      ],
      "metadata": {
        "id": "y3OrH_xadk8f"
      },
      "execution_count": 70,
      "outputs": []
    },
    {
      "cell_type": "code",
      "source": [
        "target_block = 'block_5'\n",
        "\n",
        "X = df_numerical.drop(columns=[target_block])\n",
        "y = df_numerical[target_block]\n",
        "\n",
        "X_train, X_test, y_train, y_test = train_test_split(\n",
        "    X, y, test_size=0.2, random_state=42\n",
        ")"
      ],
      "metadata": {
        "id": "omhjEdKJ-s85"
      },
      "execution_count": 71,
      "outputs": []
    },
    {
      "cell_type": "code",
      "source": [
        "knn = KNeighborsClassifier(n_neighbors=26, weights='distance')\n",
        "knn.fit(X_train, y_train)"
      ],
      "metadata": {
        "colab": {
          "base_uri": "https://localhost:8080/",
          "height": 80
        },
        "id": "m565E2yR-usf",
        "outputId": "5d48f455-4626-4d8a-a4cf-70d20cbd3957"
      },
      "execution_count": 72,
      "outputs": [
        {
          "output_type": "execute_result",
          "data": {
            "text/plain": [
              "KNeighborsClassifier(n_neighbors=26, weights='distance')"
            ],
            "text/html": [
              "<style>#sk-container-id-3 {\n",
              "  /* Definition of color scheme common for light and dark mode */\n",
              "  --sklearn-color-text: #000;\n",
              "  --sklearn-color-text-muted: #666;\n",
              "  --sklearn-color-line: gray;\n",
              "  /* Definition of color scheme for unfitted estimators */\n",
              "  --sklearn-color-unfitted-level-0: #fff5e6;\n",
              "  --sklearn-color-unfitted-level-1: #f6e4d2;\n",
              "  --sklearn-color-unfitted-level-2: #ffe0b3;\n",
              "  --sklearn-color-unfitted-level-3: chocolate;\n",
              "  /* Definition of color scheme for fitted estimators */\n",
              "  --sklearn-color-fitted-level-0: #f0f8ff;\n",
              "  --sklearn-color-fitted-level-1: #d4ebff;\n",
              "  --sklearn-color-fitted-level-2: #b3dbfd;\n",
              "  --sklearn-color-fitted-level-3: cornflowerblue;\n",
              "\n",
              "  /* Specific color for light theme */\n",
              "  --sklearn-color-text-on-default-background: var(--sg-text-color, var(--theme-code-foreground, var(--jp-content-font-color1, black)));\n",
              "  --sklearn-color-background: var(--sg-background-color, var(--theme-background, var(--jp-layout-color0, white)));\n",
              "  --sklearn-color-border-box: var(--sg-text-color, var(--theme-code-foreground, var(--jp-content-font-color1, black)));\n",
              "  --sklearn-color-icon: #696969;\n",
              "\n",
              "  @media (prefers-color-scheme: dark) {\n",
              "    /* Redefinition of color scheme for dark theme */\n",
              "    --sklearn-color-text-on-default-background: var(--sg-text-color, var(--theme-code-foreground, var(--jp-content-font-color1, white)));\n",
              "    --sklearn-color-background: var(--sg-background-color, var(--theme-background, var(--jp-layout-color0, #111)));\n",
              "    --sklearn-color-border-box: var(--sg-text-color, var(--theme-code-foreground, var(--jp-content-font-color1, white)));\n",
              "    --sklearn-color-icon: #878787;\n",
              "  }\n",
              "}\n",
              "\n",
              "#sk-container-id-3 {\n",
              "  color: var(--sklearn-color-text);\n",
              "}\n",
              "\n",
              "#sk-container-id-3 pre {\n",
              "  padding: 0;\n",
              "}\n",
              "\n",
              "#sk-container-id-3 input.sk-hidden--visually {\n",
              "  border: 0;\n",
              "  clip: rect(1px 1px 1px 1px);\n",
              "  clip: rect(1px, 1px, 1px, 1px);\n",
              "  height: 1px;\n",
              "  margin: -1px;\n",
              "  overflow: hidden;\n",
              "  padding: 0;\n",
              "  position: absolute;\n",
              "  width: 1px;\n",
              "}\n",
              "\n",
              "#sk-container-id-3 div.sk-dashed-wrapped {\n",
              "  border: 1px dashed var(--sklearn-color-line);\n",
              "  margin: 0 0.4em 0.5em 0.4em;\n",
              "  box-sizing: border-box;\n",
              "  padding-bottom: 0.4em;\n",
              "  background-color: var(--sklearn-color-background);\n",
              "}\n",
              "\n",
              "#sk-container-id-3 div.sk-container {\n",
              "  /* jupyter's `normalize.less` sets `[hidden] { display: none; }`\n",
              "     but bootstrap.min.css set `[hidden] { display: none !important; }`\n",
              "     so we also need the `!important` here to be able to override the\n",
              "     default hidden behavior on the sphinx rendered scikit-learn.org.\n",
              "     See: https://github.com/scikit-learn/scikit-learn/issues/21755 */\n",
              "  display: inline-block !important;\n",
              "  position: relative;\n",
              "}\n",
              "\n",
              "#sk-container-id-3 div.sk-text-repr-fallback {\n",
              "  display: none;\n",
              "}\n",
              "\n",
              "div.sk-parallel-item,\n",
              "div.sk-serial,\n",
              "div.sk-item {\n",
              "  /* draw centered vertical line to link estimators */\n",
              "  background-image: linear-gradient(var(--sklearn-color-text-on-default-background), var(--sklearn-color-text-on-default-background));\n",
              "  background-size: 2px 100%;\n",
              "  background-repeat: no-repeat;\n",
              "  background-position: center center;\n",
              "}\n",
              "\n",
              "/* Parallel-specific style estimator block */\n",
              "\n",
              "#sk-container-id-3 div.sk-parallel-item::after {\n",
              "  content: \"\";\n",
              "  width: 100%;\n",
              "  border-bottom: 2px solid var(--sklearn-color-text-on-default-background);\n",
              "  flex-grow: 1;\n",
              "}\n",
              "\n",
              "#sk-container-id-3 div.sk-parallel {\n",
              "  display: flex;\n",
              "  align-items: stretch;\n",
              "  justify-content: center;\n",
              "  background-color: var(--sklearn-color-background);\n",
              "  position: relative;\n",
              "}\n",
              "\n",
              "#sk-container-id-3 div.sk-parallel-item {\n",
              "  display: flex;\n",
              "  flex-direction: column;\n",
              "}\n",
              "\n",
              "#sk-container-id-3 div.sk-parallel-item:first-child::after {\n",
              "  align-self: flex-end;\n",
              "  width: 50%;\n",
              "}\n",
              "\n",
              "#sk-container-id-3 div.sk-parallel-item:last-child::after {\n",
              "  align-self: flex-start;\n",
              "  width: 50%;\n",
              "}\n",
              "\n",
              "#sk-container-id-3 div.sk-parallel-item:only-child::after {\n",
              "  width: 0;\n",
              "}\n",
              "\n",
              "/* Serial-specific style estimator block */\n",
              "\n",
              "#sk-container-id-3 div.sk-serial {\n",
              "  display: flex;\n",
              "  flex-direction: column;\n",
              "  align-items: center;\n",
              "  background-color: var(--sklearn-color-background);\n",
              "  padding-right: 1em;\n",
              "  padding-left: 1em;\n",
              "}\n",
              "\n",
              "\n",
              "/* Toggleable style: style used for estimator/Pipeline/ColumnTransformer box that is\n",
              "clickable and can be expanded/collapsed.\n",
              "- Pipeline and ColumnTransformer use this feature and define the default style\n",
              "- Estimators will overwrite some part of the style using the `sk-estimator` class\n",
              "*/\n",
              "\n",
              "/* Pipeline and ColumnTransformer style (default) */\n",
              "\n",
              "#sk-container-id-3 div.sk-toggleable {\n",
              "  /* Default theme specific background. It is overwritten whether we have a\n",
              "  specific estimator or a Pipeline/ColumnTransformer */\n",
              "  background-color: var(--sklearn-color-background);\n",
              "}\n",
              "\n",
              "/* Toggleable label */\n",
              "#sk-container-id-3 label.sk-toggleable__label {\n",
              "  cursor: pointer;\n",
              "  display: flex;\n",
              "  width: 100%;\n",
              "  margin-bottom: 0;\n",
              "  padding: 0.5em;\n",
              "  box-sizing: border-box;\n",
              "  text-align: center;\n",
              "  align-items: start;\n",
              "  justify-content: space-between;\n",
              "  gap: 0.5em;\n",
              "}\n",
              "\n",
              "#sk-container-id-3 label.sk-toggleable__label .caption {\n",
              "  font-size: 0.6rem;\n",
              "  font-weight: lighter;\n",
              "  color: var(--sklearn-color-text-muted);\n",
              "}\n",
              "\n",
              "#sk-container-id-3 label.sk-toggleable__label-arrow:before {\n",
              "  /* Arrow on the left of the label */\n",
              "  content: \"▸\";\n",
              "  float: left;\n",
              "  margin-right: 0.25em;\n",
              "  color: var(--sklearn-color-icon);\n",
              "}\n",
              "\n",
              "#sk-container-id-3 label.sk-toggleable__label-arrow:hover:before {\n",
              "  color: var(--sklearn-color-text);\n",
              "}\n",
              "\n",
              "/* Toggleable content - dropdown */\n",
              "\n",
              "#sk-container-id-3 div.sk-toggleable__content {\n",
              "  max-height: 0;\n",
              "  max-width: 0;\n",
              "  overflow: hidden;\n",
              "  text-align: left;\n",
              "  /* unfitted */\n",
              "  background-color: var(--sklearn-color-unfitted-level-0);\n",
              "}\n",
              "\n",
              "#sk-container-id-3 div.sk-toggleable__content.fitted {\n",
              "  /* fitted */\n",
              "  background-color: var(--sklearn-color-fitted-level-0);\n",
              "}\n",
              "\n",
              "#sk-container-id-3 div.sk-toggleable__content pre {\n",
              "  margin: 0.2em;\n",
              "  border-radius: 0.25em;\n",
              "  color: var(--sklearn-color-text);\n",
              "  /* unfitted */\n",
              "  background-color: var(--sklearn-color-unfitted-level-0);\n",
              "}\n",
              "\n",
              "#sk-container-id-3 div.sk-toggleable__content.fitted pre {\n",
              "  /* unfitted */\n",
              "  background-color: var(--sklearn-color-fitted-level-0);\n",
              "}\n",
              "\n",
              "#sk-container-id-3 input.sk-toggleable__control:checked~div.sk-toggleable__content {\n",
              "  /* Expand drop-down */\n",
              "  max-height: 200px;\n",
              "  max-width: 100%;\n",
              "  overflow: auto;\n",
              "}\n",
              "\n",
              "#sk-container-id-3 input.sk-toggleable__control:checked~label.sk-toggleable__label-arrow:before {\n",
              "  content: \"▾\";\n",
              "}\n",
              "\n",
              "/* Pipeline/ColumnTransformer-specific style */\n",
              "\n",
              "#sk-container-id-3 div.sk-label input.sk-toggleable__control:checked~label.sk-toggleable__label {\n",
              "  color: var(--sklearn-color-text);\n",
              "  background-color: var(--sklearn-color-unfitted-level-2);\n",
              "}\n",
              "\n",
              "#sk-container-id-3 div.sk-label.fitted input.sk-toggleable__control:checked~label.sk-toggleable__label {\n",
              "  background-color: var(--sklearn-color-fitted-level-2);\n",
              "}\n",
              "\n",
              "/* Estimator-specific style */\n",
              "\n",
              "/* Colorize estimator box */\n",
              "#sk-container-id-3 div.sk-estimator input.sk-toggleable__control:checked~label.sk-toggleable__label {\n",
              "  /* unfitted */\n",
              "  background-color: var(--sklearn-color-unfitted-level-2);\n",
              "}\n",
              "\n",
              "#sk-container-id-3 div.sk-estimator.fitted input.sk-toggleable__control:checked~label.sk-toggleable__label {\n",
              "  /* fitted */\n",
              "  background-color: var(--sklearn-color-fitted-level-2);\n",
              "}\n",
              "\n",
              "#sk-container-id-3 div.sk-label label.sk-toggleable__label,\n",
              "#sk-container-id-3 div.sk-label label {\n",
              "  /* The background is the default theme color */\n",
              "  color: var(--sklearn-color-text-on-default-background);\n",
              "}\n",
              "\n",
              "/* On hover, darken the color of the background */\n",
              "#sk-container-id-3 div.sk-label:hover label.sk-toggleable__label {\n",
              "  color: var(--sklearn-color-text);\n",
              "  background-color: var(--sklearn-color-unfitted-level-2);\n",
              "}\n",
              "\n",
              "/* Label box, darken color on hover, fitted */\n",
              "#sk-container-id-3 div.sk-label.fitted:hover label.sk-toggleable__label.fitted {\n",
              "  color: var(--sklearn-color-text);\n",
              "  background-color: var(--sklearn-color-fitted-level-2);\n",
              "}\n",
              "\n",
              "/* Estimator label */\n",
              "\n",
              "#sk-container-id-3 div.sk-label label {\n",
              "  font-family: monospace;\n",
              "  font-weight: bold;\n",
              "  display: inline-block;\n",
              "  line-height: 1.2em;\n",
              "}\n",
              "\n",
              "#sk-container-id-3 div.sk-label-container {\n",
              "  text-align: center;\n",
              "}\n",
              "\n",
              "/* Estimator-specific */\n",
              "#sk-container-id-3 div.sk-estimator {\n",
              "  font-family: monospace;\n",
              "  border: 1px dotted var(--sklearn-color-border-box);\n",
              "  border-radius: 0.25em;\n",
              "  box-sizing: border-box;\n",
              "  margin-bottom: 0.5em;\n",
              "  /* unfitted */\n",
              "  background-color: var(--sklearn-color-unfitted-level-0);\n",
              "}\n",
              "\n",
              "#sk-container-id-3 div.sk-estimator.fitted {\n",
              "  /* fitted */\n",
              "  background-color: var(--sklearn-color-fitted-level-0);\n",
              "}\n",
              "\n",
              "/* on hover */\n",
              "#sk-container-id-3 div.sk-estimator:hover {\n",
              "  /* unfitted */\n",
              "  background-color: var(--sklearn-color-unfitted-level-2);\n",
              "}\n",
              "\n",
              "#sk-container-id-3 div.sk-estimator.fitted:hover {\n",
              "  /* fitted */\n",
              "  background-color: var(--sklearn-color-fitted-level-2);\n",
              "}\n",
              "\n",
              "/* Specification for estimator info (e.g. \"i\" and \"?\") */\n",
              "\n",
              "/* Common style for \"i\" and \"?\" */\n",
              "\n",
              ".sk-estimator-doc-link,\n",
              "a:link.sk-estimator-doc-link,\n",
              "a:visited.sk-estimator-doc-link {\n",
              "  float: right;\n",
              "  font-size: smaller;\n",
              "  line-height: 1em;\n",
              "  font-family: monospace;\n",
              "  background-color: var(--sklearn-color-background);\n",
              "  border-radius: 1em;\n",
              "  height: 1em;\n",
              "  width: 1em;\n",
              "  text-decoration: none !important;\n",
              "  margin-left: 0.5em;\n",
              "  text-align: center;\n",
              "  /* unfitted */\n",
              "  border: var(--sklearn-color-unfitted-level-1) 1pt solid;\n",
              "  color: var(--sklearn-color-unfitted-level-1);\n",
              "}\n",
              "\n",
              ".sk-estimator-doc-link.fitted,\n",
              "a:link.sk-estimator-doc-link.fitted,\n",
              "a:visited.sk-estimator-doc-link.fitted {\n",
              "  /* fitted */\n",
              "  border: var(--sklearn-color-fitted-level-1) 1pt solid;\n",
              "  color: var(--sklearn-color-fitted-level-1);\n",
              "}\n",
              "\n",
              "/* On hover */\n",
              "div.sk-estimator:hover .sk-estimator-doc-link:hover,\n",
              ".sk-estimator-doc-link:hover,\n",
              "div.sk-label-container:hover .sk-estimator-doc-link:hover,\n",
              ".sk-estimator-doc-link:hover {\n",
              "  /* unfitted */\n",
              "  background-color: var(--sklearn-color-unfitted-level-3);\n",
              "  color: var(--sklearn-color-background);\n",
              "  text-decoration: none;\n",
              "}\n",
              "\n",
              "div.sk-estimator.fitted:hover .sk-estimator-doc-link.fitted:hover,\n",
              ".sk-estimator-doc-link.fitted:hover,\n",
              "div.sk-label-container:hover .sk-estimator-doc-link.fitted:hover,\n",
              ".sk-estimator-doc-link.fitted:hover {\n",
              "  /* fitted */\n",
              "  background-color: var(--sklearn-color-fitted-level-3);\n",
              "  color: var(--sklearn-color-background);\n",
              "  text-decoration: none;\n",
              "}\n",
              "\n",
              "/* Span, style for the box shown on hovering the info icon */\n",
              ".sk-estimator-doc-link span {\n",
              "  display: none;\n",
              "  z-index: 9999;\n",
              "  position: relative;\n",
              "  font-weight: normal;\n",
              "  right: .2ex;\n",
              "  padding: .5ex;\n",
              "  margin: .5ex;\n",
              "  width: min-content;\n",
              "  min-width: 20ex;\n",
              "  max-width: 50ex;\n",
              "  color: var(--sklearn-color-text);\n",
              "  box-shadow: 2pt 2pt 4pt #999;\n",
              "  /* unfitted */\n",
              "  background: var(--sklearn-color-unfitted-level-0);\n",
              "  border: .5pt solid var(--sklearn-color-unfitted-level-3);\n",
              "}\n",
              "\n",
              ".sk-estimator-doc-link.fitted span {\n",
              "  /* fitted */\n",
              "  background: var(--sklearn-color-fitted-level-0);\n",
              "  border: var(--sklearn-color-fitted-level-3);\n",
              "}\n",
              "\n",
              ".sk-estimator-doc-link:hover span {\n",
              "  display: block;\n",
              "}\n",
              "\n",
              "/* \"?\"-specific style due to the `<a>` HTML tag */\n",
              "\n",
              "#sk-container-id-3 a.estimator_doc_link {\n",
              "  float: right;\n",
              "  font-size: 1rem;\n",
              "  line-height: 1em;\n",
              "  font-family: monospace;\n",
              "  background-color: var(--sklearn-color-background);\n",
              "  border-radius: 1rem;\n",
              "  height: 1rem;\n",
              "  width: 1rem;\n",
              "  text-decoration: none;\n",
              "  /* unfitted */\n",
              "  color: var(--sklearn-color-unfitted-level-1);\n",
              "  border: var(--sklearn-color-unfitted-level-1) 1pt solid;\n",
              "}\n",
              "\n",
              "#sk-container-id-3 a.estimator_doc_link.fitted {\n",
              "  /* fitted */\n",
              "  border: var(--sklearn-color-fitted-level-1) 1pt solid;\n",
              "  color: var(--sklearn-color-fitted-level-1);\n",
              "}\n",
              "\n",
              "/* On hover */\n",
              "#sk-container-id-3 a.estimator_doc_link:hover {\n",
              "  /* unfitted */\n",
              "  background-color: var(--sklearn-color-unfitted-level-3);\n",
              "  color: var(--sklearn-color-background);\n",
              "  text-decoration: none;\n",
              "}\n",
              "\n",
              "#sk-container-id-3 a.estimator_doc_link.fitted:hover {\n",
              "  /* fitted */\n",
              "  background-color: var(--sklearn-color-fitted-level-3);\n",
              "}\n",
              "</style><div id=\"sk-container-id-3\" class=\"sk-top-container\"><div class=\"sk-text-repr-fallback\"><pre>KNeighborsClassifier(n_neighbors=26, weights=&#x27;distance&#x27;)</pre><b>In a Jupyter environment, please rerun this cell to show the HTML representation or trust the notebook. <br />On GitHub, the HTML representation is unable to render, please try loading this page with nbviewer.org.</b></div><div class=\"sk-container\" hidden><div class=\"sk-item\"><div class=\"sk-estimator fitted sk-toggleable\"><input class=\"sk-toggleable__control sk-hidden--visually\" id=\"sk-estimator-id-3\" type=\"checkbox\" checked><label for=\"sk-estimator-id-3\" class=\"sk-toggleable__label fitted sk-toggleable__label-arrow\"><div><div>KNeighborsClassifier</div></div><div><a class=\"sk-estimator-doc-link fitted\" rel=\"noreferrer\" target=\"_blank\" href=\"https://scikit-learn.org/1.6/modules/generated/sklearn.neighbors.KNeighborsClassifier.html\">?<span>Documentation for KNeighborsClassifier</span></a><span class=\"sk-estimator-doc-link fitted\">i<span>Fitted</span></span></div></label><div class=\"sk-toggleable__content fitted\"><pre>KNeighborsClassifier(n_neighbors=26, weights=&#x27;distance&#x27;)</pre></div> </div></div></div></div>"
            ]
          },
          "metadata": {},
          "execution_count": 72
        }
      ]
    },
    {
      "cell_type": "code",
      "source": [
        "y_pred = knn.predict(X_test)\n",
        "accuracy = accuracy_score(y_test, y_pred)\n",
        "\n",
        "print(f\"KNN model accuracy: {accuracy:.2f}\")"
      ],
      "metadata": {
        "colab": {
          "base_uri": "https://localhost:8080/"
        },
        "id": "a53YivXQ-wUG",
        "outputId": "b19ab13c-8e4e-4cbf-a440-9e78879b48a2"
      },
      "execution_count": 73,
      "outputs": [
        {
          "output_type": "stream",
          "name": "stdout",
          "text": [
            "KNN model accuracy: 0.38\n"
          ]
        }
      ]
    },
    {
      "cell_type": "markdown",
      "source": [
        "**Neural Network via TensorFlow Predictions**"
      ],
      "metadata": {
        "id": "U3OGhK72B_jw"
      }
    },
    {
      "cell_type": "code",
      "source": [
        "import numpy as np\n",
        "import tensorflow as tf\n",
        "from tensorflow import keras\n",
        "from tensorflow.keras import layers"
      ],
      "metadata": {
        "id": "a7jN-ej9CRhJ"
      },
      "execution_count": 74,
      "outputs": []
    },
    {
      "cell_type": "markdown",
      "source": [
        "Data Masking and Test/Train Splits"
      ],
      "metadata": {
        "id": "cZnhdsvD-ZTv"
      }
    },
    {
      "cell_type": "code",
      "source": [
        "def mask_entries(X, mask_candidate_column_indices, missing_val=9, missing_rate=0.1):\n",
        "    print(\"started\")\n",
        "    X_masked = X.copy()\n",
        "    mask = pd.DataFrame(False, index=X.index, columns=X.columns)\n",
        "    print(\"copies made\")\n",
        "\n",
        "    # Randomly selects (missing_rate)% of the data columns provided in mask_candidate_column_indices\n",
        "    #  to \"mask\" (swap out for the missing_val) for each individual data row.\n",
        "    for i in range(X.shape[0]):  # for each row\n",
        "        num_mask = max(1, int(len(mask_candidate_column_indices) * missing_rate))\n",
        "        mask_indices = np.random.choice(mask_candidate_column_indices, num_mask, replace=False)\n",
        "        mask_columns = X.columns[mask_indices]\n",
        "        # print(mask_indices)\n",
        "        X_masked.loc[i, mask_columns] = missing_val\n",
        "        mask.loc[i, mask_columns] = True  # track what was masked\n",
        "\n",
        "    print(\"Exited masking loop\")\n",
        "    return X_masked, mask"
      ],
      "metadata": {
        "id": "WEeQMRgzCx-5"
      },
      "execution_count": 75,
      "outputs": []
    },
    {
      "cell_type": "code",
      "source": [
        "## Parameters --- ##\n",
        "# Percentage of data to mask and ask the model to fill in (0-1):\n",
        "missing_rate = 0.1\n",
        "# The location in the conversion list where the 'unknown' conversion was appended\n",
        "missing_val = len(block_mapping_conversions)-1\n",
        "## -------------- ##\n",
        "\n",
        "# Data prepping\n",
        "X_NN = df_numerical.copy()\n",
        "print(X_NN.shape)\n",
        "\n",
        "# Train/Test splits\n",
        "from sklearn.model_selection import train_test_split\n",
        "X_NN_train, X_NN_test = train_test_split(X_NN, test_size=0.2, random_state=42)\n",
        "\n",
        "# Save current indices from overall list and reset the train/test indices each starting at index 0\n",
        "train_indices = X_NN_train.index.copy()\n",
        "test_indices = X_NN_test.index.copy()\n",
        "X_NN_train = X_NN_train.reset_index(drop=True)\n",
        "X_NN_test = X_NN_test.reset_index(drop=True)\n",
        "\n",
        "# Masking data in each row for prediction later\n",
        "masking_candidates = [col for col in df_numerical.columns if not col.endswith(\"_dist\") and not col.endswith(\"Rot\")]\n",
        "  # exclude rotation values from masking, as well as distance values. Currently it only subs in fake *block ids*, not distances.\n",
        "masking_candidate_indices = [df_numerical.columns.get_loc(col) for col in masking_candidates]\n",
        "\n",
        "X_NN_train_masked, train_mask = mask_entries(X_NN_train, masking_candidate_indices, missing_val, missing_rate)\n",
        "X_NN_test_masked, test_mask = mask_entries(X_NN_test, masking_candidate_indices, missing_val, missing_rate)\n",
        "\n",
        "print(\"Training data:\")\n",
        "print(X_NN_train_masked.shape)\n",
        "\n",
        "print()\n",
        "print(\"Testing data:\")\n",
        "print(X_NN_test_masked.shape)"
      ],
      "metadata": {
        "colab": {
          "base_uri": "https://localhost:8080/"
        },
        "id": "X0XuxNN1ljyE",
        "outputId": "b7257d5f-2cef-45df-e347-4996d7557a1a"
      },
      "execution_count": 76,
      "outputs": [
        {
          "output_type": "stream",
          "name": "stdout",
          "text": [
            "(120, 7201)\n",
            "started\n",
            "copies made\n",
            "Exited masking loop\n",
            "started\n",
            "copies made\n",
            "Exited masking loop\n",
            "Training data:\n",
            "(96, 7201)\n",
            "\n",
            "Testing data:\n",
            "(24, 7201)\n"
          ]
        }
      ]
    },
    {
      "cell_type": "code",
      "source": [
        "print(\"Training data:\")\n",
        "print(X_NN_train_masked)\n",
        "\n",
        "print()\n",
        "print(\"Testing data:\")\n",
        "print(X_NN_test_masked)"
      ],
      "metadata": {
        "colab": {
          "base_uri": "https://localhost:8080/"
        },
        "id": "K8JEWX-0oaiW",
        "outputId": "74052ced-acf2-4ccb-9b6a-2c38d2e18bdb"
      },
      "execution_count": 77,
      "outputs": [
        {
          "output_type": "stream",
          "name": "stdout",
          "text": [
            "Training data:\n",
            "     xRot   yRot  block_1  block_1_dist  block_2  block_2_dist  block_3  \\\n",
            "0  -63.50  25.09        7            58        5             8        1   \n",
            "1   22.69  22.52        5            35        5            38        7   \n",
            "2  -30.97  52.76        4            48        8            40        5   \n",
            "3  -83.30  15.05        2            51        6            11        5   \n",
            "4   60.84  11.27        4            93        6            89        7   \n",
            "..    ...    ...      ...           ...      ...           ...      ...   \n",
            "91  81.58  28.55        5            19        6             4        1   \n",
            "92  21.75  81.58        7            55        8            11        1   \n",
            "93 -41.43  10.16        4            86        5            38        1   \n",
            "94   2.65   8.53        8            44        8             9        1   \n",
            "95 -71.45  54.84        1            95        3             2        0   \n",
            "\n",
            "    block_3_dist  block_4  block_4_dist  ...  block_3596  block_3596_dist  \\\n",
            "0             46        5            24  ...           5               85   \n",
            "1             53        1             7  ...           8               16   \n",
            "2             10        5            68  ...           5               38   \n",
            "3              9        1             9  ...           5                7   \n",
            "4             23        1            13  ...           1              127   \n",
            "..           ...      ...           ...  ...         ...              ...   \n",
            "91            51        4            75  ...           2               21   \n",
            "92            15        5            69  ...           1               25   \n",
            "93            57        1            53  ...           4               83   \n",
            "94            17        8            95  ...           1                1   \n",
            "95             4        8            77  ...           5               81   \n",
            "\n",
            "    block_3597  block_3597_dist  block_3598  block_3598_dist  block_3599  \\\n",
            "0            2               48           5               16           8   \n",
            "1            5               11           5               73           1   \n",
            "2            5               43           7               42           6   \n",
            "3            2               39           4                6           5   \n",
            "4            5               20           5               12           6   \n",
            "..         ...              ...         ...              ...         ...   \n",
            "91           5               65           5               13           5   \n",
            "92           1               57           5               48           8   \n",
            "93           6               66           1               78           5   \n",
            "94           5               40           4                8           0   \n",
            "95           5               74           7               74           5   \n",
            "\n",
            "    block_3599_dist  block_3600  block_3600_dist  \n",
            "0                19           3              109  \n",
            "1                 1           5               25  \n",
            "2                 7           1               41  \n",
            "3               117           8               14  \n",
            "4                18           1               70  \n",
            "..              ...         ...              ...  \n",
            "91                2           4               51  \n",
            "92               30           4               32  \n",
            "93               36           1               39  \n",
            "94               89           8                8  \n",
            "95               54           2               37  \n",
            "\n",
            "[96 rows x 7201 columns]\n",
            "\n",
            "Testing data:\n",
            "     xRot   yRot  block_1  block_1_dist  block_2  block_2_dist  block_3  \\\n",
            "0   83.52  22.18        1            21        5           118        8   \n",
            "1  -70.24  37.43        5            58        6            57        4   \n",
            "2  -44.43  84.42        3            31        5            46        5   \n",
            "3   56.68  11.82        6            81        4            39        5   \n",
            "4  -81.53  83.82        5            78        4            15        5   \n",
            "5  -11.53  55.86        1            57        1           100        4   \n",
            "6  -20.00  88.91        8           127        2            20        5   \n",
            "7  -38.84  23.37        1             1        5            26        5   \n",
            "8  -68.90  52.55        1            96        5             1        1   \n",
            "9  -84.10   7.44        1            42        8            77        4   \n",
            "10  43.40   5.35        1            90        5            89        5   \n",
            "11 -35.42  45.03        7           103        1            31        5   \n",
            "12 -43.67   8.92        5             8        4            63        7   \n",
            "13 -84.45  26.44        7            54        8            26        4   \n",
            "14 -82.56  49.10        2            89        2            34        6   \n",
            "15 -29.38  30.14        1            33        2           101        5   \n",
            "16   6.02   2.38        4            72        5            40        7   \n",
            "17  81.45  26.98        0            25        1            63        8   \n",
            "18  30.15  37.94        4           134        0           102        6   \n",
            "19 -22.22  74.72        5            28        0             4        2   \n",
            "20 -56.69  83.12        5            49        8            79        2   \n",
            "21  79.11  84.18        4             5        4             8        3   \n",
            "22 -72.56  75.77        4            20        5            38        4   \n",
            "23 -52.92  19.35        5            75        4             0        8   \n",
            "\n",
            "    block_3_dist  block_4  block_4_dist  ...  block_3596  block_3596_dist  \\\n",
            "0              3        4            29  ...           1              118   \n",
            "1             53        8            18  ...           4               31   \n",
            "2             43        3            38  ...           5               63   \n",
            "3             70        5            57  ...           4               42   \n",
            "4             87        5            36  ...           1               86   \n",
            "5            116        5            55  ...           5               33   \n",
            "6             55        6            38  ...           1              150   \n",
            "7             55        4            60  ...           8               68   \n",
            "8             42        4            34  ...           4               40   \n",
            "9             20        8            88  ...           4               11   \n",
            "10            77        6           120  ...           4                5   \n",
            "11           118        8           132  ...           5              121   \n",
            "12            74        5            92  ...           4               71   \n",
            "13            15        5            53  ...           1               65   \n",
            "14            14        2            29  ...           1               82   \n",
            "15           120        2           108  ...           8               78   \n",
            "16            30        4            50  ...           5               32   \n",
            "17            90        4            59  ...           5              106   \n",
            "18            61        4           149  ...           5              124   \n",
            "19            66        5             3  ...           0               35   \n",
            "20            73        7            54  ...           1               65   \n",
            "21            69        6            95  ...           5               68   \n",
            "22            56        5             6  ...           1               61   \n",
            "23            51        5           107  ...           5                2   \n",
            "\n",
            "    block_3597  block_3597_dist  block_3598  block_3598_dist  block_3599  \\\n",
            "0            7               34           7               65           1   \n",
            "1            1               26           1                6           5   \n",
            "2            1               51           1               84           4   \n",
            "3            7                6           8               94           1   \n",
            "4            4               70           8               40           5   \n",
            "5            5                5           5               14           8   \n",
            "6            1               44           5              106           5   \n",
            "7            8               68           5               22           4   \n",
            "8            8              108           5                2           5   \n",
            "9            2               21           7               10           8   \n",
            "10           8               82           5              134           6   \n",
            "11           1                4           1               96           3   \n",
            "12           1               39           4               17           8   \n",
            "13           5              111           5               74           3   \n",
            "14           5                8           4                7           8   \n",
            "15           5               14           3               28           0   \n",
            "16           4               21           5               19           1   \n",
            "17           5               92           5               33           4   \n",
            "18           8              104           1               12           8   \n",
            "19           7                0           1               62           2   \n",
            "20           1               61           4               80           5   \n",
            "21           5                6           1              140           2   \n",
            "22           5               76           1               30           4   \n",
            "23           4               25           4              109           2   \n",
            "\n",
            "    block_3599_dist  block_3600  block_3600_dist  \n",
            "0               132           6               34  \n",
            "1                12           1               95  \n",
            "2                75           0               37  \n",
            "3                61           5               51  \n",
            "4                82           5               97  \n",
            "5                81           1              124  \n",
            "6                60           1               59  \n",
            "7                 1           1               42  \n",
            "8                 6           8               94  \n",
            "9                23           1                3  \n",
            "10              107           5              132  \n",
            "11               67           5               51  \n",
            "12               14           5                8  \n",
            "13              133           8               17  \n",
            "14               36           8               19  \n",
            "15                8           4               37  \n",
            "16               44           5               66  \n",
            "17               24           5              128  \n",
            "18              118           5               52  \n",
            "19               74           4                2  \n",
            "20              123           4              120  \n",
            "21               63           5              105  \n",
            "22               17           2               10  \n",
            "23               24           1               58  \n",
            "\n",
            "[24 rows x 7201 columns]\n"
          ]
        }
      ]
    },
    {
      "cell_type": "markdown",
      "source": [
        "TensorFlow Model"
      ],
      "metadata": {
        "id": "xk6FQYb8_f-2"
      }
    },
    {
      "cell_type": "code",
      "source": [
        "import tensorflow as tf\n",
        "from tensorflow import keras\n",
        "from tensorflow.keras import layers"
      ],
      "metadata": {
        "id": "k3-zd6OY2gYG"
      },
      "execution_count": 78,
      "outputs": []
    },
    {
      "cell_type": "code",
      "source": [
        "X_train_input = X_NN_train_masked.values  # Masked input\n",
        "y_train_target = X_NN_train.values        # Original target\n",
        "\n",
        "X_test_input = X_NN_test_masked.values\n",
        "y_test_target = X_NN_test.values\n",
        "\n",
        "# Model building\n",
        "input_dim = X_train_input.shape[1]\n",
        "\n",
        "model = keras.Sequential([\n",
        "    layers.Input(shape=(input_dim,)),\n",
        "    layers.Dense(2048, activation='relu'),\n",
        "    layers.Dense(1024, activation='relu'),\n",
        "    layers.Dense(512, activation='relu'),\n",
        "    layers.Dense(input_dim)  # output size = input size, no activation\n",
        "])\n",
        "\n",
        "model.summary()\n"
      ],
      "metadata": {
        "id": "GNL0Fl3Y_g_Z",
        "outputId": "b48c7d41-eed3-4839-951b-0fbc02472192",
        "colab": {
          "base_uri": "https://localhost:8080/",
          "height": 257
        }
      },
      "execution_count": 79,
      "outputs": [
        {
          "output_type": "display_data",
          "data": {
            "text/plain": [
              "\u001b[1mModel: \"sequential_1\"\u001b[0m\n"
            ],
            "text/html": [
              "<pre style=\"white-space:pre;overflow-x:auto;line-height:normal;font-family:Menlo,'DejaVu Sans Mono',consolas,'Courier New',monospace\"><span style=\"font-weight: bold\">Model: \"sequential_1\"</span>\n",
              "</pre>\n"
            ]
          },
          "metadata": {}
        },
        {
          "output_type": "display_data",
          "data": {
            "text/plain": [
              "┏━━━━━━━━━━━━━━━━━━━━━━━━━━━━━━━━━┳━━━━━━━━━━━━━━━━━━━━━━━━┳━━━━━━━━━━━━━━━┓\n",
              "┃\u001b[1m \u001b[0m\u001b[1mLayer (type)                   \u001b[0m\u001b[1m \u001b[0m┃\u001b[1m \u001b[0m\u001b[1mOutput Shape          \u001b[0m\u001b[1m \u001b[0m┃\u001b[1m \u001b[0m\u001b[1m      Param #\u001b[0m\u001b[1m \u001b[0m┃\n",
              "┡━━━━━━━━━━━━━━━━━━━━━━━━━━━━━━━━━╇━━━━━━━━━━━━━━━━━━━━━━━━╇━━━━━━━━━━━━━━━┩\n",
              "│ dense_4 (\u001b[38;5;33mDense\u001b[0m)                 │ (\u001b[38;5;45mNone\u001b[0m, \u001b[38;5;34m2048\u001b[0m)           │    \u001b[38;5;34m14,749,696\u001b[0m │\n",
              "├─────────────────────────────────┼────────────────────────┼───────────────┤\n",
              "│ dense_5 (\u001b[38;5;33mDense\u001b[0m)                 │ (\u001b[38;5;45mNone\u001b[0m, \u001b[38;5;34m1024\u001b[0m)           │     \u001b[38;5;34m2,098,176\u001b[0m │\n",
              "├─────────────────────────────────┼────────────────────────┼───────────────┤\n",
              "│ dense_6 (\u001b[38;5;33mDense\u001b[0m)                 │ (\u001b[38;5;45mNone\u001b[0m, \u001b[38;5;34m512\u001b[0m)            │       \u001b[38;5;34m524,800\u001b[0m │\n",
              "├─────────────────────────────────┼────────────────────────┼───────────────┤\n",
              "│ dense_7 (\u001b[38;5;33mDense\u001b[0m)                 │ (\u001b[38;5;45mNone\u001b[0m, \u001b[38;5;34m7201\u001b[0m)           │     \u001b[38;5;34m3,694,113\u001b[0m │\n",
              "└─────────────────────────────────┴────────────────────────┴───────────────┘\n"
            ],
            "text/html": [
              "<pre style=\"white-space:pre;overflow-x:auto;line-height:normal;font-family:Menlo,'DejaVu Sans Mono',consolas,'Courier New',monospace\">┏━━━━━━━━━━━━━━━━━━━━━━━━━━━━━━━━━┳━━━━━━━━━━━━━━━━━━━━━━━━┳━━━━━━━━━━━━━━━┓\n",
              "┃<span style=\"font-weight: bold\"> Layer (type)                    </span>┃<span style=\"font-weight: bold\"> Output Shape           </span>┃<span style=\"font-weight: bold\">       Param # </span>┃\n",
              "┡━━━━━━━━━━━━━━━━━━━━━━━━━━━━━━━━━╇━━━━━━━━━━━━━━━━━━━━━━━━╇━━━━━━━━━━━━━━━┩\n",
              "│ dense_4 (<span style=\"color: #0087ff; text-decoration-color: #0087ff\">Dense</span>)                 │ (<span style=\"color: #00d7ff; text-decoration-color: #00d7ff\">None</span>, <span style=\"color: #00af00; text-decoration-color: #00af00\">2048</span>)           │    <span style=\"color: #00af00; text-decoration-color: #00af00\">14,749,696</span> │\n",
              "├─────────────────────────────────┼────────────────────────┼───────────────┤\n",
              "│ dense_5 (<span style=\"color: #0087ff; text-decoration-color: #0087ff\">Dense</span>)                 │ (<span style=\"color: #00d7ff; text-decoration-color: #00d7ff\">None</span>, <span style=\"color: #00af00; text-decoration-color: #00af00\">1024</span>)           │     <span style=\"color: #00af00; text-decoration-color: #00af00\">2,098,176</span> │\n",
              "├─────────────────────────────────┼────────────────────────┼───────────────┤\n",
              "│ dense_6 (<span style=\"color: #0087ff; text-decoration-color: #0087ff\">Dense</span>)                 │ (<span style=\"color: #00d7ff; text-decoration-color: #00d7ff\">None</span>, <span style=\"color: #00af00; text-decoration-color: #00af00\">512</span>)            │       <span style=\"color: #00af00; text-decoration-color: #00af00\">524,800</span> │\n",
              "├─────────────────────────────────┼────────────────────────┼───────────────┤\n",
              "│ dense_7 (<span style=\"color: #0087ff; text-decoration-color: #0087ff\">Dense</span>)                 │ (<span style=\"color: #00d7ff; text-decoration-color: #00d7ff\">None</span>, <span style=\"color: #00af00; text-decoration-color: #00af00\">7201</span>)           │     <span style=\"color: #00af00; text-decoration-color: #00af00\">3,694,113</span> │\n",
              "└─────────────────────────────────┴────────────────────────┴───────────────┘\n",
              "</pre>\n"
            ]
          },
          "metadata": {}
        },
        {
          "output_type": "display_data",
          "data": {
            "text/plain": [
              "\u001b[1m Total params: \u001b[0m\u001b[38;5;34m21,066,785\u001b[0m (80.36 MB)\n"
            ],
            "text/html": [
              "<pre style=\"white-space:pre;overflow-x:auto;line-height:normal;font-family:Menlo,'DejaVu Sans Mono',consolas,'Courier New',monospace\"><span style=\"font-weight: bold\"> Total params: </span><span style=\"color: #00af00; text-decoration-color: #00af00\">21,066,785</span> (80.36 MB)\n",
              "</pre>\n"
            ]
          },
          "metadata": {}
        },
        {
          "output_type": "display_data",
          "data": {
            "text/plain": [
              "\u001b[1m Trainable params: \u001b[0m\u001b[38;5;34m21,066,785\u001b[0m (80.36 MB)\n"
            ],
            "text/html": [
              "<pre style=\"white-space:pre;overflow-x:auto;line-height:normal;font-family:Menlo,'DejaVu Sans Mono',consolas,'Courier New',monospace\"><span style=\"font-weight: bold\"> Trainable params: </span><span style=\"color: #00af00; text-decoration-color: #00af00\">21,066,785</span> (80.36 MB)\n",
              "</pre>\n"
            ]
          },
          "metadata": {}
        },
        {
          "output_type": "display_data",
          "data": {
            "text/plain": [
              "\u001b[1m Non-trainable params: \u001b[0m\u001b[38;5;34m0\u001b[0m (0.00 B)\n"
            ],
            "text/html": [
              "<pre style=\"white-space:pre;overflow-x:auto;line-height:normal;font-family:Menlo,'DejaVu Sans Mono',consolas,'Courier New',monospace\"><span style=\"font-weight: bold\"> Non-trainable params: </span><span style=\"color: #00af00; text-decoration-color: #00af00\">0</span> (0.00 B)\n",
              "</pre>\n"
            ]
          },
          "metadata": {}
        }
      ]
    },
    {
      "cell_type": "code",
      "source": [
        "# Define the loss function\n",
        "def masked_mse_loss(y_true, y_pred):\n",
        "    missing_val = 9.0  # whatever you used during masking\n",
        "\n",
        "    # Create a mask: 1 if y_true == missing_val, else 0\n",
        "    mask = tf.cast(tf.equal(y_true, missing_val), dtype=tf.float32)\n",
        "\n",
        "    # Loss only where mask == 1\n",
        "    loss = tf.square(y_true - y_pred) * mask\n",
        "\n",
        "    # Average the loss only over the masked elements\n",
        "    loss_sum = tf.reduce_sum(loss)\n",
        "    num_masked = tf.reduce_sum(mask)\n",
        "\n",
        "    # avoid division by zero\n",
        "    return tf.cond(num_masked > 0, lambda: loss_sum / num_masked, lambda: tf.constant(0.0))\n"
      ],
      "metadata": {
        "id": "LMqcunPY__do"
      },
      "execution_count": 80,
      "outputs": []
    },
    {
      "cell_type": "code",
      "source": [
        "# compile TensorFlow model\n",
        "model.compile(optimizer='adam', loss=masked_mse_loss)"
      ],
      "metadata": {
        "id": "Dmx4sQr3AHbj"
      },
      "execution_count": 81,
      "outputs": []
    },
    {
      "cell_type": "code",
      "source": [
        "# Model Training and Hyperparameters\n",
        "history = model.fit(\n",
        "    X_train_input, y_train_target,\n",
        "    validation_data=(X_test_input, y_test_target),\n",
        "    epochs=50,\n",
        "    batch_size=32\n",
        ")"
      ],
      "metadata": {
        "id": "K9yOug9iAQkY",
        "outputId": "e493bd62-e7bc-4c39-8fad-ee7273b864dd",
        "colab": {
          "base_uri": "https://localhost:8080/"
        }
      },
      "execution_count": 82,
      "outputs": [
        {
          "output_type": "stream",
          "name": "stdout",
          "text": [
            "Epoch 1/50\n",
            "\u001b[1m3/3\u001b[0m \u001b[32m━━━━━━━━━━━━━━━━━━━━\u001b[0m\u001b[37m\u001b[0m \u001b[1m3s\u001b[0m 425ms/step - loss: 301.9956 - val_loss: 154.4536\n",
            "Epoch 2/50\n",
            "\u001b[1m3/3\u001b[0m \u001b[32m━━━━━━━━━━━━━━━━━━━━\u001b[0m\u001b[37m\u001b[0m \u001b[1m2s\u001b[0m 653ms/step - loss: 120.5138 - val_loss: 84.8493\n",
            "Epoch 3/50\n",
            "\u001b[1m3/3\u001b[0m \u001b[32m━━━━━━━━━━━━━━━━━━━━\u001b[0m\u001b[37m\u001b[0m \u001b[1m2s\u001b[0m 359ms/step - loss: 70.5280 - val_loss: 76.2467\n",
            "Epoch 4/50\n",
            "\u001b[1m3/3\u001b[0m \u001b[32m━━━━━━━━━━━━━━━━━━━━\u001b[0m\u001b[37m\u001b[0m \u001b[1m1s\u001b[0m 354ms/step - loss: 54.4414 - val_loss: 64.2219\n",
            "Epoch 5/50\n",
            "\u001b[1m3/3\u001b[0m \u001b[32m━━━━━━━━━━━━━━━━━━━━\u001b[0m\u001b[37m\u001b[0m \u001b[1m1s\u001b[0m 348ms/step - loss: 40.6081 - val_loss: 72.5957\n",
            "Epoch 6/50\n",
            "\u001b[1m3/3\u001b[0m \u001b[32m━━━━━━━━━━━━━━━━━━━━\u001b[0m\u001b[37m\u001b[0m \u001b[1m1s\u001b[0m 350ms/step - loss: 32.0064 - val_loss: 78.1542\n",
            "Epoch 7/50\n",
            "\u001b[1m3/3\u001b[0m \u001b[32m━━━━━━━━━━━━━━━━━━━━\u001b[0m\u001b[37m\u001b[0m \u001b[1m1s\u001b[0m 346ms/step - loss: 31.9285 - val_loss: 64.6208\n",
            "Epoch 8/50\n",
            "\u001b[1m3/3\u001b[0m \u001b[32m━━━━━━━━━━━━━━━━━━━━\u001b[0m\u001b[37m\u001b[0m \u001b[1m1s\u001b[0m 336ms/step - loss: 20.5397 - val_loss: 58.1338\n",
            "Epoch 9/50\n",
            "\u001b[1m3/3\u001b[0m \u001b[32m━━━━━━━━━━━━━━━━━━━━\u001b[0m\u001b[37m\u001b[0m \u001b[1m1s\u001b[0m 337ms/step - loss: 13.8910 - val_loss: 49.9786\n",
            "Epoch 10/50\n",
            "\u001b[1m3/3\u001b[0m \u001b[32m━━━━━━━━━━━━━━━━━━━━\u001b[0m\u001b[37m\u001b[0m \u001b[1m1s\u001b[0m 334ms/step - loss: 10.5926 - val_loss: 42.4643\n",
            "Epoch 11/50\n",
            "\u001b[1m3/3\u001b[0m \u001b[32m━━━━━━━━━━━━━━━━━━━━\u001b[0m\u001b[37m\u001b[0m \u001b[1m1s\u001b[0m 383ms/step - loss: 9.1239 - val_loss: 38.3967\n",
            "Epoch 12/50\n",
            "\u001b[1m3/3\u001b[0m \u001b[32m━━━━━━━━━━━━━━━━━━━━\u001b[0m\u001b[37m\u001b[0m \u001b[1m2s\u001b[0m 562ms/step - loss: 8.3511 - val_loss: 37.4060\n",
            "Epoch 13/50\n",
            "\u001b[1m3/3\u001b[0m \u001b[32m━━━━━━━━━━━━━━━━━━━━\u001b[0m\u001b[37m\u001b[0m \u001b[1m2s\u001b[0m 346ms/step - loss: 7.6194 - val_loss: 37.1256\n",
            "Epoch 14/50\n",
            "\u001b[1m3/3\u001b[0m \u001b[32m━━━━━━━━━━━━━━━━━━━━\u001b[0m\u001b[37m\u001b[0m \u001b[1m1s\u001b[0m 344ms/step - loss: 7.5439 - val_loss: 36.8599\n",
            "Epoch 15/50\n",
            "\u001b[1m3/3\u001b[0m \u001b[32m━━━━━━━━━━━━━━━━━━━━\u001b[0m\u001b[37m\u001b[0m \u001b[1m1s\u001b[0m 349ms/step - loss: 4.7526 - val_loss: 42.9775\n",
            "Epoch 16/50\n",
            "\u001b[1m3/3\u001b[0m \u001b[32m━━━━━━━━━━━━━━━━━━━━\u001b[0m\u001b[37m\u001b[0m \u001b[1m1s\u001b[0m 317ms/step - loss: 4.3006 - val_loss: 42.0659\n",
            "Epoch 17/50\n",
            "\u001b[1m3/3\u001b[0m \u001b[32m━━━━━━━━━━━━━━━━━━━━\u001b[0m\u001b[37m\u001b[0m \u001b[1m1s\u001b[0m 328ms/step - loss: 3.9667 - val_loss: 34.8983\n",
            "Epoch 18/50\n",
            "\u001b[1m3/3\u001b[0m \u001b[32m━━━━━━━━━━━━━━━━━━━━\u001b[0m\u001b[37m\u001b[0m \u001b[1m1s\u001b[0m 340ms/step - loss: 3.0849 - val_loss: 35.1935\n",
            "Epoch 19/50\n",
            "\u001b[1m3/3\u001b[0m \u001b[32m━━━━━━━━━━━━━━━━━━━━\u001b[0m\u001b[37m\u001b[0m \u001b[1m1s\u001b[0m 353ms/step - loss: 3.4300 - val_loss: 34.5084\n",
            "Epoch 20/50\n",
            "\u001b[1m3/3\u001b[0m \u001b[32m━━━━━━━━━━━━━━━━━━━━\u001b[0m\u001b[37m\u001b[0m \u001b[1m1s\u001b[0m 369ms/step - loss: 2.1926 - val_loss: 38.6724\n",
            "Epoch 21/50\n",
            "\u001b[1m3/3\u001b[0m \u001b[32m━━━━━━━━━━━━━━━━━━━━\u001b[0m\u001b[37m\u001b[0m \u001b[1m1s\u001b[0m 506ms/step - loss: 1.4210 - val_loss: 37.4938\n",
            "Epoch 22/50\n",
            "\u001b[1m3/3\u001b[0m \u001b[32m━━━━━━━━━━━━━━━━━━━━\u001b[0m\u001b[37m\u001b[0m \u001b[1m2s\u001b[0m 630ms/step - loss: 1.2636 - val_loss: 36.2124\n",
            "Epoch 23/50\n",
            "\u001b[1m3/3\u001b[0m \u001b[32m━━━━━━━━━━━━━━━━━━━━\u001b[0m\u001b[37m\u001b[0m \u001b[1m2s\u001b[0m 460ms/step - loss: 0.9226 - val_loss: 35.4006\n",
            "Epoch 24/50\n",
            "\u001b[1m3/3\u001b[0m \u001b[32m━━━━━━━━━━━━━━━━━━━━\u001b[0m\u001b[37m\u001b[0m \u001b[1m1s\u001b[0m 390ms/step - loss: 0.7347 - val_loss: 35.9167\n",
            "Epoch 25/50\n",
            "\u001b[1m3/3\u001b[0m \u001b[32m━━━━━━━━━━━━━━━━━━━━\u001b[0m\u001b[37m\u001b[0m \u001b[1m1s\u001b[0m 375ms/step - loss: 0.5913 - val_loss: 36.2281\n",
            "Epoch 26/50\n",
            "\u001b[1m3/3\u001b[0m \u001b[32m━━━━━━━━━━━━━━━━━━━━\u001b[0m\u001b[37m\u001b[0m \u001b[1m2s\u001b[0m 514ms/step - loss: 0.5496 - val_loss: 35.9155\n",
            "Epoch 27/50\n",
            "\u001b[1m3/3\u001b[0m \u001b[32m━━━━━━━━━━━━━━━━━━━━\u001b[0m\u001b[37m\u001b[0m \u001b[1m2s\u001b[0m 553ms/step - loss: 0.4644 - val_loss: 35.1316\n",
            "Epoch 28/50\n",
            "\u001b[1m3/3\u001b[0m \u001b[32m━━━━━━━━━━━━━━━━━━━━\u001b[0m\u001b[37m\u001b[0m \u001b[1m2s\u001b[0m 392ms/step - loss: 0.3815 - val_loss: 34.6416\n",
            "Epoch 29/50\n",
            "\u001b[1m3/3\u001b[0m \u001b[32m━━━━━━━━━━━━━━━━━━━━\u001b[0m\u001b[37m\u001b[0m \u001b[1m1s\u001b[0m 508ms/step - loss: 0.3621 - val_loss: 33.9297\n",
            "Epoch 30/50\n",
            "\u001b[1m3/3\u001b[0m \u001b[32m━━━━━━━━━━━━━━━━━━━━\u001b[0m\u001b[37m\u001b[0m \u001b[1m2s\u001b[0m 735ms/step - loss: 0.4273 - val_loss: 34.1268\n",
            "Epoch 31/50\n",
            "\u001b[1m3/3\u001b[0m \u001b[32m━━━━━━━━━━━━━━━━━━━━\u001b[0m\u001b[37m\u001b[0m \u001b[1m2s\u001b[0m 546ms/step - loss: 0.3669 - val_loss: 34.0662\n",
            "Epoch 32/50\n",
            "\u001b[1m3/3\u001b[0m \u001b[32m━━━━━━━━━━━━━━━━━━━━\u001b[0m\u001b[37m\u001b[0m \u001b[1m2s\u001b[0m 571ms/step - loss: 0.3145 - val_loss: 34.1279\n",
            "Epoch 33/50\n",
            "\u001b[1m3/3\u001b[0m \u001b[32m━━━━━━━━━━━━━━━━━━━━\u001b[0m\u001b[37m\u001b[0m \u001b[1m1s\u001b[0m 356ms/step - loss: 0.2440 - val_loss: 34.3528\n",
            "Epoch 34/50\n",
            "\u001b[1m3/3\u001b[0m \u001b[32m━━━━━━━━━━━━━━━━━━━━\u001b[0m\u001b[37m\u001b[0m \u001b[1m1s\u001b[0m 341ms/step - loss: 0.2156 - val_loss: 34.1143\n",
            "Epoch 35/50\n",
            "\u001b[1m3/3\u001b[0m \u001b[32m━━━━━━━━━━━━━━━━━━━━\u001b[0m\u001b[37m\u001b[0m \u001b[1m1s\u001b[0m 479ms/step - loss: 0.1901 - val_loss: 34.2210\n",
            "Epoch 36/50\n",
            "\u001b[1m3/3\u001b[0m \u001b[32m━━━━━━━━━━━━━━━━━━━━\u001b[0m\u001b[37m\u001b[0m \u001b[1m2s\u001b[0m 369ms/step - loss: 0.1721 - val_loss: 34.0120\n",
            "Epoch 37/50\n",
            "\u001b[1m3/3\u001b[0m \u001b[32m━━━━━━━━━━━━━━━━━━━━\u001b[0m\u001b[37m\u001b[0m \u001b[1m1s\u001b[0m 574ms/step - loss: 0.1669 - val_loss: 33.6814\n",
            "Epoch 38/50\n",
            "\u001b[1m3/3\u001b[0m \u001b[32m━━━━━━━━━━━━━━━━━━━━\u001b[0m\u001b[37m\u001b[0m \u001b[1m2s\u001b[0m 653ms/step - loss: 0.1820 - val_loss: 33.7318\n",
            "Epoch 39/50\n",
            "\u001b[1m3/3\u001b[0m \u001b[32m━━━━━━━━━━━━━━━━━━━━\u001b[0m\u001b[37m\u001b[0m \u001b[1m2s\u001b[0m 478ms/step - loss: 0.1658 - val_loss: 33.4570\n",
            "Epoch 40/50\n",
            "\u001b[1m3/3\u001b[0m \u001b[32m━━━━━━━━━━━━━━━━━━━━\u001b[0m\u001b[37m\u001b[0m \u001b[1m2s\u001b[0m 553ms/step - loss: 0.2452 - val_loss: 33.6337\n",
            "Epoch 41/50\n",
            "\u001b[1m3/3\u001b[0m \u001b[32m━━━━━━━━━━━━━━━━━━━━\u001b[0m\u001b[37m\u001b[0m \u001b[1m2s\u001b[0m 358ms/step - loss: 0.2166 - val_loss: 34.7445\n",
            "Epoch 42/50\n",
            "\u001b[1m3/3\u001b[0m \u001b[32m━━━━━━━━━━━━━━━━━━━━\u001b[0m\u001b[37m\u001b[0m \u001b[1m1s\u001b[0m 337ms/step - loss: 0.1387 - val_loss: 34.4031\n",
            "Epoch 43/50\n",
            "\u001b[1m3/3\u001b[0m \u001b[32m━━━━━━━━━━━━━━━━━━━━\u001b[0m\u001b[37m\u001b[0m \u001b[1m1s\u001b[0m 344ms/step - loss: 0.1309 - val_loss: 35.3707\n",
            "Epoch 44/50\n",
            "\u001b[1m3/3\u001b[0m \u001b[32m━━━━━━━━━━━━━━━━━━━━\u001b[0m\u001b[37m\u001b[0m \u001b[1m1s\u001b[0m 357ms/step - loss: 0.2715 - val_loss: 34.7005\n",
            "Epoch 45/50\n",
            "\u001b[1m3/3\u001b[0m \u001b[32m━━━━━━━━━━━━━━━━━━━━\u001b[0m\u001b[37m\u001b[0m \u001b[1m1s\u001b[0m 357ms/step - loss: 0.2694 - val_loss: 33.4916\n",
            "Epoch 46/50\n",
            "\u001b[1m3/3\u001b[0m \u001b[32m━━━━━━━━━━━━━━━━━━━━\u001b[0m\u001b[37m\u001b[0m \u001b[1m2s\u001b[0m 532ms/step - loss: 0.1671 - val_loss: 33.3892\n",
            "Epoch 47/50\n",
            "\u001b[1m3/3\u001b[0m \u001b[32m━━━━━━━━━━━━━━━━━━━━\u001b[0m\u001b[37m\u001b[0m \u001b[1m1s\u001b[0m 483ms/step - loss: 0.1658 - val_loss: 33.7994\n",
            "Epoch 48/50\n",
            "\u001b[1m3/3\u001b[0m \u001b[32m━━━━━━━━━━━━━━━━━━━━\u001b[0m\u001b[37m\u001b[0m \u001b[1m2s\u001b[0m 345ms/step - loss: 0.1170 - val_loss: 34.6831\n",
            "Epoch 49/50\n",
            "\u001b[1m3/3\u001b[0m \u001b[32m━━━━━━━━━━━━━━━━━━━━\u001b[0m\u001b[37m\u001b[0m \u001b[1m1s\u001b[0m 361ms/step - loss: 0.1207 - val_loss: 34.8506\n",
            "Epoch 50/50\n",
            "\u001b[1m3/3\u001b[0m \u001b[32m━━━━━━━━━━━━━━━━━━━━\u001b[0m\u001b[37m\u001b[0m \u001b[1m1s\u001b[0m 359ms/step - loss: 0.2397 - val_loss: 33.0978\n"
          ]
        }
      ]
    },
    {
      "cell_type": "code",
      "source": [
        "# applying the model to make our predictions\n",
        "predictions = model.predict(X_test_input)"
      ],
      "metadata": {
        "id": "N1GbCar4AT7c",
        "outputId": "d473e4c0-2914-4ba5-ffb7-96ee92034a33",
        "colab": {
          "base_uri": "https://localhost:8080/"
        }
      },
      "execution_count": 83,
      "outputs": [
        {
          "output_type": "stream",
          "name": "stdout",
          "text": [
            "\u001b[1m1/1\u001b[0m \u001b[32m━━━━━━━━━━━━━━━━━━━━\u001b[0m\u001b[37m\u001b[0m \u001b[1m0s\u001b[0m 100ms/step\n"
          ]
        }
      ]
    },
    {
      "cell_type": "code",
      "source": [
        "print(predictions)"
      ],
      "metadata": {
        "id": "0njcx5o-BAXZ",
        "outputId": "99d06c04-8663-4161-dec1-5c7ea86d2b06",
        "colab": {
          "base_uri": "https://localhost:8080/"
        }
      },
      "execution_count": 84,
      "outputs": [
        {
          "output_type": "stream",
          "name": "stdout",
          "text": [
            "[[ 1.7210871 -3.1851954  3.245874  ... -4.8067675  4.656707  -2.2068124]\n",
            " [ 2.222076  -2.695091   2.5393176 ... -4.0886908  3.433571  -1.7120732]\n",
            " [ 1.6621848 -2.601854   2.5674028 ... -3.9741967  3.4968452 -1.8197329]\n",
            " ...\n",
            " [ 2.436329  -3.6374373  3.5539448 ... -4.889296   4.223875  -2.5482621]\n",
            " [ 1.8860097 -2.7537384  2.613662  ... -3.3857663  2.9287193 -1.5278008]\n",
            " [ 1.805586  -3.2791007  3.1268415 ... -3.9903526  4.23667   -1.8596596]]\n"
          ]
        }
      ]
    },
    {
      "cell_type": "code",
      "source": [],
      "metadata": {
        "id": "5O47opnOBBco"
      },
      "execution_count": null,
      "outputs": []
    }
  ]
}