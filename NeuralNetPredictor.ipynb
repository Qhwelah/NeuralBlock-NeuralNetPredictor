{
  "nbformat": 4,
  "nbformat_minor": 0,
  "metadata": {
    "colab": {
      "provenance": [],
      "authorship_tag": "ABX9TyNSKz7n3humwUEBLx4bvvCE",
      "include_colab_link": true
    },
    "kernelspec": {
      "name": "python3",
      "display_name": "Python 3"
    },
    "language_info": {
      "name": "python"
    }
  },
  "cells": [
    {
      "cell_type": "markdown",
      "metadata": {
        "id": "view-in-github",
        "colab_type": "text"
      },
      "source": [
        "<a href=\"https://colab.research.google.com/github/Qhwelah/NeuralBlock-NeuralNetPredictor/blob/main/NeuralNetPredictor.ipynb\" target=\"_parent\"><img src=\"https://colab.research.google.com/assets/colab-badge.svg\" alt=\"Open In Colab\"/></a>"
      ]
    },
    {
      "cell_type": "code",
      "execution_count": 1,
      "metadata": {
        "colab": {
          "base_uri": "https://localhost:8080/",
          "height": 104
        },
        "id": "zmBCDAj_Lwt9",
        "outputId": "f33f9275-7119-44f5-e971-016220321ff1"
      },
      "outputs": [
        {
          "output_type": "stream",
          "name": "stderr",
          "text": [
            "Downloading...\n",
            "From: https://drive.google.com/uc?id=1UPXnC2oy20r4Yesw7lPuDRHlsoR0l0DV\n",
            "To: /content/data.csv\n",
            "100%|██████████| 8.96M/8.96M [00:00<00:00, 48.7MB/s]\n"
          ]
        },
        {
          "output_type": "execute_result",
          "data": {
            "text/plain": [
              "'data.csv'"
            ],
            "application/vnd.google.colaboratory.intrinsic+json": {
              "type": "string"
            }
          },
          "metadata": {},
          "execution_count": 1
        }
      ],
      "source": [
        "# !pip3 uninstall gdown -y && pip3 install gdown\n",
        "import gdown\n",
        "\n",
        "url = \"https://drive.google.com/uc?id=1UPXnC2oy20r4Yesw7lPuDRHlsoR0l0DV\"\n",
        "output = \"data.csv\"\n",
        "gdown.download(url, output, quiet=False)"
      ]
    },
    {
      "cell_type": "code",
      "source": [
        "import pandas as pd\n",
        "\n",
        "df = pd.read_csv(\"data.csv\")\n",
        "\n",
        "print(df)"
      ],
      "metadata": {
        "colab": {
          "base_uri": "https://localhost:8080/"
        },
        "id": "eze8HudGY4e0",
        "outputId": "e7252180-948a-40a4-c238-c58ab7362fb5"
      },
      "execution_count": 2,
      "outputs": [
        {
          "output_type": "stream",
          "name": "stdout",
          "text": [
            "      xRot   yRot                block_1  block_1_dist                block_2  \\\n",
            "0    81.45  26.98   minecraft:oak_leaves             6   minecraft:oak_planks   \n",
            "1    59.47   2.02   minecraft:oak_planks             4        minecraft:water   \n",
            "2   -58.81   3.46         minecraft:dirt           159        minecraft:stone   \n",
            "3    61.45  36.54   minecraft:oak_leaves            40        minecraft:stone   \n",
            "4   -44.43  84.42  minecraft:grass_block            56        minecraft:stone   \n",
            "..     ...    ...                    ...           ...                    ...   \n",
            "115  23.38  11.33   minecraft:oak_planks            11        minecraft:water   \n",
            "116   1.92  50.17         minecraft:dirt            72   minecraft:oak_planks   \n",
            "117 -64.33  83.93   minecraft:oak_planks            21  minecraft:grass_block   \n",
            "118  -1.77   5.55        minecraft:stone           146        minecraft:stone   \n",
            "119  11.65  76.97          minecraft:air           113   minecraft:oak_planks   \n",
            "\n",
            "     block_2_dist                block_3  block_3_dist                block_4  \\\n",
            "0              94      minecraft:oak_log           121          minecraft:air   \n",
            "1               9          minecraft:air            14   minecraft:oak_planks   \n",
            "2              75          minecraft:air           141        minecraft:stone   \n",
            "3              21          minecraft:air            34        minecraft:stone   \n",
            "4              41        minecraft:stone           130  minecraft:grass_block   \n",
            "..            ...                    ...           ...                    ...   \n",
            "115            50          minecraft:air           142   minecraft:oak_planks   \n",
            "116            93   minecraft:oak_planks           108   minecraft:oak_planks   \n",
            "117           110        minecraft:stone            63   minecraft:oak_leaves   \n",
            "118           151        minecraft:stone            26        minecraft:stone   \n",
            "119            18  minecraft:grass_block            35   minecraft:oak_planks   \n",
            "\n",
            "     block_4_dist  ...            block_3596  block_3596_dist  \\\n",
            "0              90  ...       minecraft:stone              137   \n",
            "1              41  ...  minecraft:oak_planks               75   \n",
            "2             136  ...       minecraft:stone               37   \n",
            "3              98  ...  minecraft:oak_planks               18   \n",
            "4              49  ...       minecraft:stone               24   \n",
            "..            ...  ...                   ...              ...   \n",
            "115            47  ...  minecraft:oak_leaves               25   \n",
            "116           108  ...       minecraft:stone              136   \n",
            "117            19  ...  minecraft:oak_planks              140   \n",
            "118            50  ...         minecraft:air               89   \n",
            "119            22  ...       minecraft:stone               68   \n",
            "\n",
            "               block_3597  block_3597_dist            block_3598  \\\n",
            "0         minecraft:stone              123       minecraft:stone   \n",
            "1    minecraft:oak_planks               69         minecraft:air   \n",
            "2           minecraft:air               98       minecraft:water   \n",
            "3         minecraft:stone              144  minecraft:oak_planks   \n",
            "4    minecraft:oak_planks              138  minecraft:oak_planks   \n",
            "..                    ...              ...                   ...   \n",
            "115       minecraft:stone               74       minecraft:stone   \n",
            "116       minecraft:stone              111       minecraft:stone   \n",
            "117         minecraft:air              148        minecraft:dirt   \n",
            "118       minecraft:stone              146     minecraft:oak_log   \n",
            "119  minecraft:oak_planks                8       minecraft:stone   \n",
            "\n",
            "     block_3598_dist            block_3599  block_3599_dist  \\\n",
            "0                 64         minecraft:air               55   \n",
            "1                 96  minecraft:oak_planks               23   \n",
            "2                 20  minecraft:oak_planks               43   \n",
            "3                107  minecraft:oak_planks                4   \n",
            "4                  3         minecraft:air               12   \n",
            "..               ...                   ...              ...   \n",
            "115              136        minecraft:dirt               48   \n",
            "116              134       minecraft:stone               46   \n",
            "117               99  minecraft:oak_planks                1   \n",
            "118              127  minecraft:oak_planks              146   \n",
            "119              152       minecraft:stone               40   \n",
            "\n",
            "               block_3600  block_3600_dist  \n",
            "0         minecraft:stone              159  \n",
            "1         minecraft:stone              148  \n",
            "2    minecraft:oak_planks              118  \n",
            "3          minecraft:dirt              104  \n",
            "4    minecraft:oak_leaves              124  \n",
            "..                    ...              ...  \n",
            "115       minecraft:stone               48  \n",
            "116       minecraft:stone              113  \n",
            "117         minecraft:air               95  \n",
            "118       minecraft:water               43  \n",
            "119       minecraft:stone               47  \n",
            "\n",
            "[120 rows x 7202 columns]\n"
          ]
        }
      ]
    },
    {
      "cell_type": "code",
      "source": [
        "print(df[\"block_1_dist\"][2])"
      ],
      "metadata": {
        "colab": {
          "base_uri": "https://localhost:8080/"
        },
        "id": "4VDgQ_lIycve",
        "outputId": "a8fb50f1-1425-421d-e619-290ef9de5577"
      },
      "execution_count": 3,
      "outputs": [
        {
          "output_type": "stream",
          "name": "stdout",
          "text": [
            "159\n"
          ]
        }
      ]
    },
    {
      "cell_type": "code",
      "source": [
        "## Getting all values of non-numeric types only\n",
        "df.info()\n",
        "non_numeric_values = df.select_dtypes(exclude=[\"float\", \"int\"])\n",
        "# print(non_numeric_values)"
      ],
      "metadata": {
        "id": "j2kNoW6LZ6Sa",
        "colab": {
          "base_uri": "https://localhost:8080/"
        },
        "outputId": "ba3a1901-3ac2-4c95-d01d-30fc30f4558e"
      },
      "execution_count": 9,
      "outputs": [
        {
          "output_type": "stream",
          "name": "stdout",
          "text": [
            "<class 'pandas.core.frame.DataFrame'>\n",
            "RangeIndex: 120 entries, 0 to 119\n",
            "Columns: 7202 entries, xRot to block_3600_dist\n",
            "dtypes: float64(2), int64(7200)\n",
            "memory usage: 6.6 MB\n"
          ]
        }
      ]
    },
    {
      "cell_type": "code",
      "source": [
        "## Mapping all non-numeric data values to numeric values\n",
        "block_mapping = df.block_1.factorize()\n",
        "print(\"Conversion values: \")\n",
        "print(block_mapping)\n",
        "print()\n",
        "\n",
        "block_mapping_conversions = []\n",
        "\n",
        "print(\"Event log for block conversion pushes: \")\n",
        "i = 0\n",
        "while i < len(block_mapping[0]):\n",
        "    included = False\n",
        "    if block_mapping[0][i] < len(block_mapping_conversions):\n",
        "      included = True\n",
        "    if not included:\n",
        "      new_conversion = block_mapping[1][block_mapping[0][i]]\n",
        "      block_mapping_conversions.append(new_conversion)\n",
        "      print(f\"pushing {new_conversion} to values at index {len(block_mapping_conversions)-1}\")\n",
        "    i += 1\n",
        "\n",
        "block_mapping_conversions.append('unknown')\n",
        "\n",
        "print()\n",
        "print(\"Final conversion values: \")\n",
        "# print(block_mapping_two)\n",
        "print(block_mapping_conversions)"
      ],
      "metadata": {
        "colab": {
          "base_uri": "https://localhost:8080/"
        },
        "id": "jTs8WbC5yilR",
        "outputId": "12dc8e03-047a-4297-bc86-4539546378a1"
      },
      "execution_count": 5,
      "outputs": [
        {
          "output_type": "stream",
          "name": "stdout",
          "text": [
            "Conversion values: \n",
            "(array([0, 1, 2, 0, 3, 4, 5, 6, 5, 1, 1, 5, 5, 5, 7, 4, 4, 5, 1, 5, 1, 5,\n",
            "       5, 2, 2, 5, 5, 4, 7, 3, 6, 4, 1, 1, 1, 2, 7, 5, 0, 5, 1, 6, 7, 5,\n",
            "       1, 4, 1, 5, 5, 7, 1, 5, 1, 4, 1, 6, 5, 2, 4, 5, 6, 5, 7, 5, 1, 5,\n",
            "       5, 5, 4, 4, 5, 5, 5, 4, 5, 4, 4, 6, 5, 4, 1, 1, 6, 1, 1, 5, 5, 5,\n",
            "       4, 2, 1, 1, 4, 1, 4, 1, 5, 5, 4, 5, 5, 1, 1, 0, 5, 5, 5, 1, 5, 4,\n",
            "       2, 6, 1, 5, 2, 1, 2, 1, 5, 4]), Index(['minecraft:oak_leaves', 'minecraft:oak_planks', 'minecraft:dirt',\n",
            "       'minecraft:grass_block', 'minecraft:air', 'minecraft:stone',\n",
            "       'minecraft:water', 'minecraft:oak_log'],\n",
            "      dtype='object'))\n",
            "\n",
            "Event log for block conversion pushes: \n",
            "pushing minecraft:oak_leaves to values at index 0\n",
            "pushing minecraft:oak_planks to values at index 1\n",
            "pushing minecraft:dirt to values at index 2\n",
            "pushing minecraft:grass_block to values at index 3\n",
            "pushing minecraft:air to values at index 4\n",
            "pushing minecraft:stone to values at index 5\n",
            "pushing minecraft:water to values at index 6\n",
            "pushing minecraft:oak_log to values at index 7\n",
            "\n",
            "Final conversion values: \n",
            "['minecraft:oak_leaves', 'minecraft:oak_planks', 'minecraft:dirt', 'minecraft:grass_block', 'minecraft:air', 'minecraft:stone', 'minecraft:water', 'minecraft:oak_log', 'unknown']\n"
          ]
        }
      ]
    },
    {
      "cell_type": "code",
      "source": [
        "## Converting actual data values to numbers using block mapping\n",
        "def convertBlock(val):\n",
        "  for i in range(len(block_mapping_conversions)):\n",
        "    if val == block_mapping_conversions[i]:\n",
        "      return i\n",
        "  return -1\n",
        "\n",
        "block_columns = [col for col in df.columns if col.startswith(\"block_\") and not col.endswith(\"_dist\")]\n",
        "print(block_columns)\n",
        "df_original = df.copy() # make a backup copy of the dataframe to reference later\n",
        "for col in block_columns:\n",
        "  df[col] = df[col].apply(convertBlock)\n",
        "\n",
        "print()\n",
        "print(df) # the numerized dataframe"
      ],
      "metadata": {
        "id": "gB1rPfzT3T17",
        "outputId": "b5c19280-3ed1-4fed-ce91-3531b50a2e41",
        "colab": {
          "base_uri": "https://localhost:8080/"
        }
      },
      "execution_count": 8,
      "outputs": [
        {
          "output_type": "stream",
          "name": "stdout",
          "text": [
            "['block_1', 'block_2', 'block_3', 'block_4', 'block_5', 'block_6', 'block_7', 'block_8', 'block_9', 'block_10', 'block_11', 'block_12', 'block_13', 'block_14', 'block_15', 'block_16', 'block_17', 'block_18', 'block_19', 'block_20', 'block_21', 'block_22', 'block_23', 'block_24', 'block_25', 'block_26', 'block_27', 'block_28', 'block_29', 'block_30', 'block_31', 'block_32', 'block_33', 'block_34', 'block_35', 'block_36', 'block_37', 'block_38', 'block_39', 'block_40', 'block_41', 'block_42', 'block_43', 'block_44', 'block_45', 'block_46', 'block_47', 'block_48', 'block_49', 'block_50', 'block_51', 'block_52', 'block_53', 'block_54', 'block_55', 'block_56', 'block_57', 'block_58', 'block_59', 'block_60', 'block_61', 'block_62', 'block_63', 'block_64', 'block_65', 'block_66', 'block_67', 'block_68', 'block_69', 'block_70', 'block_71', 'block_72', 'block_73', 'block_74', 'block_75', 'block_76', 'block_77', 'block_78', 'block_79', 'block_80', 'block_81', 'block_82', 'block_83', 'block_84', 'block_85', 'block_86', 'block_87', 'block_88', 'block_89', 'block_90', 'block_91', 'block_92', 'block_93', 'block_94', 'block_95', 'block_96', 'block_97', 'block_98', 'block_99', 'block_100', 'block_101', 'block_102', 'block_103', 'block_104', 'block_105', 'block_106', 'block_107', 'block_108', 'block_109', 'block_110', 'block_111', 'block_112', 'block_113', 'block_114', 'block_115', 'block_116', 'block_117', 'block_118', 'block_119', 'block_120', 'block_121', 'block_122', 'block_123', 'block_124', 'block_125', 'block_126', 'block_127', 'block_128', 'block_129', 'block_130', 'block_131', 'block_132', 'block_133', 'block_134', 'block_135', 'block_136', 'block_137', 'block_138', 'block_139', 'block_140', 'block_141', 'block_142', 'block_143', 'block_144', 'block_145', 'block_146', 'block_147', 'block_148', 'block_149', 'block_150', 'block_151', 'block_152', 'block_153', 'block_154', 'block_155', 'block_156', 'block_157', 'block_158', 'block_159', 'block_160', 'block_161', 'block_162', 'block_163', 'block_164', 'block_165', 'block_166', 'block_167', 'block_168', 'block_169', 'block_170', 'block_171', 'block_172', 'block_173', 'block_174', 'block_175', 'block_176', 'block_177', 'block_178', 'block_179', 'block_180', 'block_181', 'block_182', 'block_183', 'block_184', 'block_185', 'block_186', 'block_187', 'block_188', 'block_189', 'block_190', 'block_191', 'block_192', 'block_193', 'block_194', 'block_195', 'block_196', 'block_197', 'block_198', 'block_199', 'block_200', 'block_201', 'block_202', 'block_203', 'block_204', 'block_205', 'block_206', 'block_207', 'block_208', 'block_209', 'block_210', 'block_211', 'block_212', 'block_213', 'block_214', 'block_215', 'block_216', 'block_217', 'block_218', 'block_219', 'block_220', 'block_221', 'block_222', 'block_223', 'block_224', 'block_225', 'block_226', 'block_227', 'block_228', 'block_229', 'block_230', 'block_231', 'block_232', 'block_233', 'block_234', 'block_235', 'block_236', 'block_237', 'block_238', 'block_239', 'block_240', 'block_241', 'block_242', 'block_243', 'block_244', 'block_245', 'block_246', 'block_247', 'block_248', 'block_249', 'block_250', 'block_251', 'block_252', 'block_253', 'block_254', 'block_255', 'block_256', 'block_257', 'block_258', 'block_259', 'block_260', 'block_261', 'block_262', 'block_263', 'block_264', 'block_265', 'block_266', 'block_267', 'block_268', 'block_269', 'block_270', 'block_271', 'block_272', 'block_273', 'block_274', 'block_275', 'block_276', 'block_277', 'block_278', 'block_279', 'block_280', 'block_281', 'block_282', 'block_283', 'block_284', 'block_285', 'block_286', 'block_287', 'block_288', 'block_289', 'block_290', 'block_291', 'block_292', 'block_293', 'block_294', 'block_295', 'block_296', 'block_297', 'block_298', 'block_299', 'block_300', 'block_301', 'block_302', 'block_303', 'block_304', 'block_305', 'block_306', 'block_307', 'block_308', 'block_309', 'block_310', 'block_311', 'block_312', 'block_313', 'block_314', 'block_315', 'block_316', 'block_317', 'block_318', 'block_319', 'block_320', 'block_321', 'block_322', 'block_323', 'block_324', 'block_325', 'block_326', 'block_327', 'block_328', 'block_329', 'block_330', 'block_331', 'block_332', 'block_333', 'block_334', 'block_335', 'block_336', 'block_337', 'block_338', 'block_339', 'block_340', 'block_341', 'block_342', 'block_343', 'block_344', 'block_345', 'block_346', 'block_347', 'block_348', 'block_349', 'block_350', 'block_351', 'block_352', 'block_353', 'block_354', 'block_355', 'block_356', 'block_357', 'block_358', 'block_359', 'block_360', 'block_361', 'block_362', 'block_363', 'block_364', 'block_365', 'block_366', 'block_367', 'block_368', 'block_369', 'block_370', 'block_371', 'block_372', 'block_373', 'block_374', 'block_375', 'block_376', 'block_377', 'block_378', 'block_379', 'block_380', 'block_381', 'block_382', 'block_383', 'block_384', 'block_385', 'block_386', 'block_387', 'block_388', 'block_389', 'block_390', 'block_391', 'block_392', 'block_393', 'block_394', 'block_395', 'block_396', 'block_397', 'block_398', 'block_399', 'block_400', 'block_401', 'block_402', 'block_403', 'block_404', 'block_405', 'block_406', 'block_407', 'block_408', 'block_409', 'block_410', 'block_411', 'block_412', 'block_413', 'block_414', 'block_415', 'block_416', 'block_417', 'block_418', 'block_419', 'block_420', 'block_421', 'block_422', 'block_423', 'block_424', 'block_425', 'block_426', 'block_427', 'block_428', 'block_429', 'block_430', 'block_431', 'block_432', 'block_433', 'block_434', 'block_435', 'block_436', 'block_437', 'block_438', 'block_439', 'block_440', 'block_441', 'block_442', 'block_443', 'block_444', 'block_445', 'block_446', 'block_447', 'block_448', 'block_449', 'block_450', 'block_451', 'block_452', 'block_453', 'block_454', 'block_455', 'block_456', 'block_457', 'block_458', 'block_459', 'block_460', 'block_461', 'block_462', 'block_463', 'block_464', 'block_465', 'block_466', 'block_467', 'block_468', 'block_469', 'block_470', 'block_471', 'block_472', 'block_473', 'block_474', 'block_475', 'block_476', 'block_477', 'block_478', 'block_479', 'block_480', 'block_481', 'block_482', 'block_483', 'block_484', 'block_485', 'block_486', 'block_487', 'block_488', 'block_489', 'block_490', 'block_491', 'block_492', 'block_493', 'block_494', 'block_495', 'block_496', 'block_497', 'block_498', 'block_499', 'block_500', 'block_501', 'block_502', 'block_503', 'block_504', 'block_505', 'block_506', 'block_507', 'block_508', 'block_509', 'block_510', 'block_511', 'block_512', 'block_513', 'block_514', 'block_515', 'block_516', 'block_517', 'block_518', 'block_519', 'block_520', 'block_521', 'block_522', 'block_523', 'block_524', 'block_525', 'block_526', 'block_527', 'block_528', 'block_529', 'block_530', 'block_531', 'block_532', 'block_533', 'block_534', 'block_535', 'block_536', 'block_537', 'block_538', 'block_539', 'block_540', 'block_541', 'block_542', 'block_543', 'block_544', 'block_545', 'block_546', 'block_547', 'block_548', 'block_549', 'block_550', 'block_551', 'block_552', 'block_553', 'block_554', 'block_555', 'block_556', 'block_557', 'block_558', 'block_559', 'block_560', 'block_561', 'block_562', 'block_563', 'block_564', 'block_565', 'block_566', 'block_567', 'block_568', 'block_569', 'block_570', 'block_571', 'block_572', 'block_573', 'block_574', 'block_575', 'block_576', 'block_577', 'block_578', 'block_579', 'block_580', 'block_581', 'block_582', 'block_583', 'block_584', 'block_585', 'block_586', 'block_587', 'block_588', 'block_589', 'block_590', 'block_591', 'block_592', 'block_593', 'block_594', 'block_595', 'block_596', 'block_597', 'block_598', 'block_599', 'block_600', 'block_601', 'block_602', 'block_603', 'block_604', 'block_605', 'block_606', 'block_607', 'block_608', 'block_609', 'block_610', 'block_611', 'block_612', 'block_613', 'block_614', 'block_615', 'block_616', 'block_617', 'block_618', 'block_619', 'block_620', 'block_621', 'block_622', 'block_623', 'block_624', 'block_625', 'block_626', 'block_627', 'block_628', 'block_629', 'block_630', 'block_631', 'block_632', 'block_633', 'block_634', 'block_635', 'block_636', 'block_637', 'block_638', 'block_639', 'block_640', 'block_641', 'block_642', 'block_643', 'block_644', 'block_645', 'block_646', 'block_647', 'block_648', 'block_649', 'block_650', 'block_651', 'block_652', 'block_653', 'block_654', 'block_655', 'block_656', 'block_657', 'block_658', 'block_659', 'block_660', 'block_661', 'block_662', 'block_663', 'block_664', 'block_665', 'block_666', 'block_667', 'block_668', 'block_669', 'block_670', 'block_671', 'block_672', 'block_673', 'block_674', 'block_675', 'block_676', 'block_677', 'block_678', 'block_679', 'block_680', 'block_681', 'block_682', 'block_683', 'block_684', 'block_685', 'block_686', 'block_687', 'block_688', 'block_689', 'block_690', 'block_691', 'block_692', 'block_693', 'block_694', 'block_695', 'block_696', 'block_697', 'block_698', 'block_699', 'block_700', 'block_701', 'block_702', 'block_703', 'block_704', 'block_705', 'block_706', 'block_707', 'block_708', 'block_709', 'block_710', 'block_711', 'block_712', 'block_713', 'block_714', 'block_715', 'block_716', 'block_717', 'block_718', 'block_719', 'block_720', 'block_721', 'block_722', 'block_723', 'block_724', 'block_725', 'block_726', 'block_727', 'block_728', 'block_729', 'block_730', 'block_731', 'block_732', 'block_733', 'block_734', 'block_735', 'block_736', 'block_737', 'block_738', 'block_739', 'block_740', 'block_741', 'block_742', 'block_743', 'block_744', 'block_745', 'block_746', 'block_747', 'block_748', 'block_749', 'block_750', 'block_751', 'block_752', 'block_753', 'block_754', 'block_755', 'block_756', 'block_757', 'block_758', 'block_759', 'block_760', 'block_761', 'block_762', 'block_763', 'block_764', 'block_765', 'block_766', 'block_767', 'block_768', 'block_769', 'block_770', 'block_771', 'block_772', 'block_773', 'block_774', 'block_775', 'block_776', 'block_777', 'block_778', 'block_779', 'block_780', 'block_781', 'block_782', 'block_783', 'block_784', 'block_785', 'block_786', 'block_787', 'block_788', 'block_789', 'block_790', 'block_791', 'block_792', 'block_793', 'block_794', 'block_795', 'block_796', 'block_797', 'block_798', 'block_799', 'block_800', 'block_801', 'block_802', 'block_803', 'block_804', 'block_805', 'block_806', 'block_807', 'block_808', 'block_809', 'block_810', 'block_811', 'block_812', 'block_813', 'block_814', 'block_815', 'block_816', 'block_817', 'block_818', 'block_819', 'block_820', 'block_821', 'block_822', 'block_823', 'block_824', 'block_825', 'block_826', 'block_827', 'block_828', 'block_829', 'block_830', 'block_831', 'block_832', 'block_833', 'block_834', 'block_835', 'block_836', 'block_837', 'block_838', 'block_839', 'block_840', 'block_841', 'block_842', 'block_843', 'block_844', 'block_845', 'block_846', 'block_847', 'block_848', 'block_849', 'block_850', 'block_851', 'block_852', 'block_853', 'block_854', 'block_855', 'block_856', 'block_857', 'block_858', 'block_859', 'block_860', 'block_861', 'block_862', 'block_863', 'block_864', 'block_865', 'block_866', 'block_867', 'block_868', 'block_869', 'block_870', 'block_871', 'block_872', 'block_873', 'block_874', 'block_875', 'block_876', 'block_877', 'block_878', 'block_879', 'block_880', 'block_881', 'block_882', 'block_883', 'block_884', 'block_885', 'block_886', 'block_887', 'block_888', 'block_889', 'block_890', 'block_891', 'block_892', 'block_893', 'block_894', 'block_895', 'block_896', 'block_897', 'block_898', 'block_899', 'block_900', 'block_901', 'block_902', 'block_903', 'block_904', 'block_905', 'block_906', 'block_907', 'block_908', 'block_909', 'block_910', 'block_911', 'block_912', 'block_913', 'block_914', 'block_915', 'block_916', 'block_917', 'block_918', 'block_919', 'block_920', 'block_921', 'block_922', 'block_923', 'block_924', 'block_925', 'block_926', 'block_927', 'block_928', 'block_929', 'block_930', 'block_931', 'block_932', 'block_933', 'block_934', 'block_935', 'block_936', 'block_937', 'block_938', 'block_939', 'block_940', 'block_941', 'block_942', 'block_943', 'block_944', 'block_945', 'block_946', 'block_947', 'block_948', 'block_949', 'block_950', 'block_951', 'block_952', 'block_953', 'block_954', 'block_955', 'block_956', 'block_957', 'block_958', 'block_959', 'block_960', 'block_961', 'block_962', 'block_963', 'block_964', 'block_965', 'block_966', 'block_967', 'block_968', 'block_969', 'block_970', 'block_971', 'block_972', 'block_973', 'block_974', 'block_975', 'block_976', 'block_977', 'block_978', 'block_979', 'block_980', 'block_981', 'block_982', 'block_983', 'block_984', 'block_985', 'block_986', 'block_987', 'block_988', 'block_989', 'block_990', 'block_991', 'block_992', 'block_993', 'block_994', 'block_995', 'block_996', 'block_997', 'block_998', 'block_999', 'block_1000', 'block_1001', 'block_1002', 'block_1003', 'block_1004', 'block_1005', 'block_1006', 'block_1007', 'block_1008', 'block_1009', 'block_1010', 'block_1011', 'block_1012', 'block_1013', 'block_1014', 'block_1015', 'block_1016', 'block_1017', 'block_1018', 'block_1019', 'block_1020', 'block_1021', 'block_1022', 'block_1023', 'block_1024', 'block_1025', 'block_1026', 'block_1027', 'block_1028', 'block_1029', 'block_1030', 'block_1031', 'block_1032', 'block_1033', 'block_1034', 'block_1035', 'block_1036', 'block_1037', 'block_1038', 'block_1039', 'block_1040', 'block_1041', 'block_1042', 'block_1043', 'block_1044', 'block_1045', 'block_1046', 'block_1047', 'block_1048', 'block_1049', 'block_1050', 'block_1051', 'block_1052', 'block_1053', 'block_1054', 'block_1055', 'block_1056', 'block_1057', 'block_1058', 'block_1059', 'block_1060', 'block_1061', 'block_1062', 'block_1063', 'block_1064', 'block_1065', 'block_1066', 'block_1067', 'block_1068', 'block_1069', 'block_1070', 'block_1071', 'block_1072', 'block_1073', 'block_1074', 'block_1075', 'block_1076', 'block_1077', 'block_1078', 'block_1079', 'block_1080', 'block_1081', 'block_1082', 'block_1083', 'block_1084', 'block_1085', 'block_1086', 'block_1087', 'block_1088', 'block_1089', 'block_1090', 'block_1091', 'block_1092', 'block_1093', 'block_1094', 'block_1095', 'block_1096', 'block_1097', 'block_1098', 'block_1099', 'block_1100', 'block_1101', 'block_1102', 'block_1103', 'block_1104', 'block_1105', 'block_1106', 'block_1107', 'block_1108', 'block_1109', 'block_1110', 'block_1111', 'block_1112', 'block_1113', 'block_1114', 'block_1115', 'block_1116', 'block_1117', 'block_1118', 'block_1119', 'block_1120', 'block_1121', 'block_1122', 'block_1123', 'block_1124', 'block_1125', 'block_1126', 'block_1127', 'block_1128', 'block_1129', 'block_1130', 'block_1131', 'block_1132', 'block_1133', 'block_1134', 'block_1135', 'block_1136', 'block_1137', 'block_1138', 'block_1139', 'block_1140', 'block_1141', 'block_1142', 'block_1143', 'block_1144', 'block_1145', 'block_1146', 'block_1147', 'block_1148', 'block_1149', 'block_1150', 'block_1151', 'block_1152', 'block_1153', 'block_1154', 'block_1155', 'block_1156', 'block_1157', 'block_1158', 'block_1159', 'block_1160', 'block_1161', 'block_1162', 'block_1163', 'block_1164', 'block_1165', 'block_1166', 'block_1167', 'block_1168', 'block_1169', 'block_1170', 'block_1171', 'block_1172', 'block_1173', 'block_1174', 'block_1175', 'block_1176', 'block_1177', 'block_1178', 'block_1179', 'block_1180', 'block_1181', 'block_1182', 'block_1183', 'block_1184', 'block_1185', 'block_1186', 'block_1187', 'block_1188', 'block_1189', 'block_1190', 'block_1191', 'block_1192', 'block_1193', 'block_1194', 'block_1195', 'block_1196', 'block_1197', 'block_1198', 'block_1199', 'block_1200', 'block_1201', 'block_1202', 'block_1203', 'block_1204', 'block_1205', 'block_1206', 'block_1207', 'block_1208', 'block_1209', 'block_1210', 'block_1211', 'block_1212', 'block_1213', 'block_1214', 'block_1215', 'block_1216', 'block_1217', 'block_1218', 'block_1219', 'block_1220', 'block_1221', 'block_1222', 'block_1223', 'block_1224', 'block_1225', 'block_1226', 'block_1227', 'block_1228', 'block_1229', 'block_1230', 'block_1231', 'block_1232', 'block_1233', 'block_1234', 'block_1235', 'block_1236', 'block_1237', 'block_1238', 'block_1239', 'block_1240', 'block_1241', 'block_1242', 'block_1243', 'block_1244', 'block_1245', 'block_1246', 'block_1247', 'block_1248', 'block_1249', 'block_1250', 'block_1251', 'block_1252', 'block_1253', 'block_1254', 'block_1255', 'block_1256', 'block_1257', 'block_1258', 'block_1259', 'block_1260', 'block_1261', 'block_1262', 'block_1263', 'block_1264', 'block_1265', 'block_1266', 'block_1267', 'block_1268', 'block_1269', 'block_1270', 'block_1271', 'block_1272', 'block_1273', 'block_1274', 'block_1275', 'block_1276', 'block_1277', 'block_1278', 'block_1279', 'block_1280', 'block_1281', 'block_1282', 'block_1283', 'block_1284', 'block_1285', 'block_1286', 'block_1287', 'block_1288', 'block_1289', 'block_1290', 'block_1291', 'block_1292', 'block_1293', 'block_1294', 'block_1295', 'block_1296', 'block_1297', 'block_1298', 'block_1299', 'block_1300', 'block_1301', 'block_1302', 'block_1303', 'block_1304', 'block_1305', 'block_1306', 'block_1307', 'block_1308', 'block_1309', 'block_1310', 'block_1311', 'block_1312', 'block_1313', 'block_1314', 'block_1315', 'block_1316', 'block_1317', 'block_1318', 'block_1319', 'block_1320', 'block_1321', 'block_1322', 'block_1323', 'block_1324', 'block_1325', 'block_1326', 'block_1327', 'block_1328', 'block_1329', 'block_1330', 'block_1331', 'block_1332', 'block_1333', 'block_1334', 'block_1335', 'block_1336', 'block_1337', 'block_1338', 'block_1339', 'block_1340', 'block_1341', 'block_1342', 'block_1343', 'block_1344', 'block_1345', 'block_1346', 'block_1347', 'block_1348', 'block_1349', 'block_1350', 'block_1351', 'block_1352', 'block_1353', 'block_1354', 'block_1355', 'block_1356', 'block_1357', 'block_1358', 'block_1359', 'block_1360', 'block_1361', 'block_1362', 'block_1363', 'block_1364', 'block_1365', 'block_1366', 'block_1367', 'block_1368', 'block_1369', 'block_1370', 'block_1371', 'block_1372', 'block_1373', 'block_1374', 'block_1375', 'block_1376', 'block_1377', 'block_1378', 'block_1379', 'block_1380', 'block_1381', 'block_1382', 'block_1383', 'block_1384', 'block_1385', 'block_1386', 'block_1387', 'block_1388', 'block_1389', 'block_1390', 'block_1391', 'block_1392', 'block_1393', 'block_1394', 'block_1395', 'block_1396', 'block_1397', 'block_1398', 'block_1399', 'block_1400', 'block_1401', 'block_1402', 'block_1403', 'block_1404', 'block_1405', 'block_1406', 'block_1407', 'block_1408', 'block_1409', 'block_1410', 'block_1411', 'block_1412', 'block_1413', 'block_1414', 'block_1415', 'block_1416', 'block_1417', 'block_1418', 'block_1419', 'block_1420', 'block_1421', 'block_1422', 'block_1423', 'block_1424', 'block_1425', 'block_1426', 'block_1427', 'block_1428', 'block_1429', 'block_1430', 'block_1431', 'block_1432', 'block_1433', 'block_1434', 'block_1435', 'block_1436', 'block_1437', 'block_1438', 'block_1439', 'block_1440', 'block_1441', 'block_1442', 'block_1443', 'block_1444', 'block_1445', 'block_1446', 'block_1447', 'block_1448', 'block_1449', 'block_1450', 'block_1451', 'block_1452', 'block_1453', 'block_1454', 'block_1455', 'block_1456', 'block_1457', 'block_1458', 'block_1459', 'block_1460', 'block_1461', 'block_1462', 'block_1463', 'block_1464', 'block_1465', 'block_1466', 'block_1467', 'block_1468', 'block_1469', 'block_1470', 'block_1471', 'block_1472', 'block_1473', 'block_1474', 'block_1475', 'block_1476', 'block_1477', 'block_1478', 'block_1479', 'block_1480', 'block_1481', 'block_1482', 'block_1483', 'block_1484', 'block_1485', 'block_1486', 'block_1487', 'block_1488', 'block_1489', 'block_1490', 'block_1491', 'block_1492', 'block_1493', 'block_1494', 'block_1495', 'block_1496', 'block_1497', 'block_1498', 'block_1499', 'block_1500', 'block_1501', 'block_1502', 'block_1503', 'block_1504', 'block_1505', 'block_1506', 'block_1507', 'block_1508', 'block_1509', 'block_1510', 'block_1511', 'block_1512', 'block_1513', 'block_1514', 'block_1515', 'block_1516', 'block_1517', 'block_1518', 'block_1519', 'block_1520', 'block_1521', 'block_1522', 'block_1523', 'block_1524', 'block_1525', 'block_1526', 'block_1527', 'block_1528', 'block_1529', 'block_1530', 'block_1531', 'block_1532', 'block_1533', 'block_1534', 'block_1535', 'block_1536', 'block_1537', 'block_1538', 'block_1539', 'block_1540', 'block_1541', 'block_1542', 'block_1543', 'block_1544', 'block_1545', 'block_1546', 'block_1547', 'block_1548', 'block_1549', 'block_1550', 'block_1551', 'block_1552', 'block_1553', 'block_1554', 'block_1555', 'block_1556', 'block_1557', 'block_1558', 'block_1559', 'block_1560', 'block_1561', 'block_1562', 'block_1563', 'block_1564', 'block_1565', 'block_1566', 'block_1567', 'block_1568', 'block_1569', 'block_1570', 'block_1571', 'block_1572', 'block_1573', 'block_1574', 'block_1575', 'block_1576', 'block_1577', 'block_1578', 'block_1579', 'block_1580', 'block_1581', 'block_1582', 'block_1583', 'block_1584', 'block_1585', 'block_1586', 'block_1587', 'block_1588', 'block_1589', 'block_1590', 'block_1591', 'block_1592', 'block_1593', 'block_1594', 'block_1595', 'block_1596', 'block_1597', 'block_1598', 'block_1599', 'block_1600', 'block_1601', 'block_1602', 'block_1603', 'block_1604', 'block_1605', 'block_1606', 'block_1607', 'block_1608', 'block_1609', 'block_1610', 'block_1611', 'block_1612', 'block_1613', 'block_1614', 'block_1615', 'block_1616', 'block_1617', 'block_1618', 'block_1619', 'block_1620', 'block_1621', 'block_1622', 'block_1623', 'block_1624', 'block_1625', 'block_1626', 'block_1627', 'block_1628', 'block_1629', 'block_1630', 'block_1631', 'block_1632', 'block_1633', 'block_1634', 'block_1635', 'block_1636', 'block_1637', 'block_1638', 'block_1639', 'block_1640', 'block_1641', 'block_1642', 'block_1643', 'block_1644', 'block_1645', 'block_1646', 'block_1647', 'block_1648', 'block_1649', 'block_1650', 'block_1651', 'block_1652', 'block_1653', 'block_1654', 'block_1655', 'block_1656', 'block_1657', 'block_1658', 'block_1659', 'block_1660', 'block_1661', 'block_1662', 'block_1663', 'block_1664', 'block_1665', 'block_1666', 'block_1667', 'block_1668', 'block_1669', 'block_1670', 'block_1671', 'block_1672', 'block_1673', 'block_1674', 'block_1675', 'block_1676', 'block_1677', 'block_1678', 'block_1679', 'block_1680', 'block_1681', 'block_1682', 'block_1683', 'block_1684', 'block_1685', 'block_1686', 'block_1687', 'block_1688', 'block_1689', 'block_1690', 'block_1691', 'block_1692', 'block_1693', 'block_1694', 'block_1695', 'block_1696', 'block_1697', 'block_1698', 'block_1699', 'block_1700', 'block_1701', 'block_1702', 'block_1703', 'block_1704', 'block_1705', 'block_1706', 'block_1707', 'block_1708', 'block_1709', 'block_1710', 'block_1711', 'block_1712', 'block_1713', 'block_1714', 'block_1715', 'block_1716', 'block_1717', 'block_1718', 'block_1719', 'block_1720', 'block_1721', 'block_1722', 'block_1723', 'block_1724', 'block_1725', 'block_1726', 'block_1727', 'block_1728', 'block_1729', 'block_1730', 'block_1731', 'block_1732', 'block_1733', 'block_1734', 'block_1735', 'block_1736', 'block_1737', 'block_1738', 'block_1739', 'block_1740', 'block_1741', 'block_1742', 'block_1743', 'block_1744', 'block_1745', 'block_1746', 'block_1747', 'block_1748', 'block_1749', 'block_1750', 'block_1751', 'block_1752', 'block_1753', 'block_1754', 'block_1755', 'block_1756', 'block_1757', 'block_1758', 'block_1759', 'block_1760', 'block_1761', 'block_1762', 'block_1763', 'block_1764', 'block_1765', 'block_1766', 'block_1767', 'block_1768', 'block_1769', 'block_1770', 'block_1771', 'block_1772', 'block_1773', 'block_1774', 'block_1775', 'block_1776', 'block_1777', 'block_1778', 'block_1779', 'block_1780', 'block_1781', 'block_1782', 'block_1783', 'block_1784', 'block_1785', 'block_1786', 'block_1787', 'block_1788', 'block_1789', 'block_1790', 'block_1791', 'block_1792', 'block_1793', 'block_1794', 'block_1795', 'block_1796', 'block_1797', 'block_1798', 'block_1799', 'block_1800', 'block_1801', 'block_1802', 'block_1803', 'block_1804', 'block_1805', 'block_1806', 'block_1807', 'block_1808', 'block_1809', 'block_1810', 'block_1811', 'block_1812', 'block_1813', 'block_1814', 'block_1815', 'block_1816', 'block_1817', 'block_1818', 'block_1819', 'block_1820', 'block_1821', 'block_1822', 'block_1823', 'block_1824', 'block_1825', 'block_1826', 'block_1827', 'block_1828', 'block_1829', 'block_1830', 'block_1831', 'block_1832', 'block_1833', 'block_1834', 'block_1835', 'block_1836', 'block_1837', 'block_1838', 'block_1839', 'block_1840', 'block_1841', 'block_1842', 'block_1843', 'block_1844', 'block_1845', 'block_1846', 'block_1847', 'block_1848', 'block_1849', 'block_1850', 'block_1851', 'block_1852', 'block_1853', 'block_1854', 'block_1855', 'block_1856', 'block_1857', 'block_1858', 'block_1859', 'block_1860', 'block_1861', 'block_1862', 'block_1863', 'block_1864', 'block_1865', 'block_1866', 'block_1867', 'block_1868', 'block_1869', 'block_1870', 'block_1871', 'block_1872', 'block_1873', 'block_1874', 'block_1875', 'block_1876', 'block_1877', 'block_1878', 'block_1879', 'block_1880', 'block_1881', 'block_1882', 'block_1883', 'block_1884', 'block_1885', 'block_1886', 'block_1887', 'block_1888', 'block_1889', 'block_1890', 'block_1891', 'block_1892', 'block_1893', 'block_1894', 'block_1895', 'block_1896', 'block_1897', 'block_1898', 'block_1899', 'block_1900', 'block_1901', 'block_1902', 'block_1903', 'block_1904', 'block_1905', 'block_1906', 'block_1907', 'block_1908', 'block_1909', 'block_1910', 'block_1911', 'block_1912', 'block_1913', 'block_1914', 'block_1915', 'block_1916', 'block_1917', 'block_1918', 'block_1919', 'block_1920', 'block_1921', 'block_1922', 'block_1923', 'block_1924', 'block_1925', 'block_1926', 'block_1927', 'block_1928', 'block_1929', 'block_1930', 'block_1931', 'block_1932', 'block_1933', 'block_1934', 'block_1935', 'block_1936', 'block_1937', 'block_1938', 'block_1939', 'block_1940', 'block_1941', 'block_1942', 'block_1943', 'block_1944', 'block_1945', 'block_1946', 'block_1947', 'block_1948', 'block_1949', 'block_1950', 'block_1951', 'block_1952', 'block_1953', 'block_1954', 'block_1955', 'block_1956', 'block_1957', 'block_1958', 'block_1959', 'block_1960', 'block_1961', 'block_1962', 'block_1963', 'block_1964', 'block_1965', 'block_1966', 'block_1967', 'block_1968', 'block_1969', 'block_1970', 'block_1971', 'block_1972', 'block_1973', 'block_1974', 'block_1975', 'block_1976', 'block_1977', 'block_1978', 'block_1979', 'block_1980', 'block_1981', 'block_1982', 'block_1983', 'block_1984', 'block_1985', 'block_1986', 'block_1987', 'block_1988', 'block_1989', 'block_1990', 'block_1991', 'block_1992', 'block_1993', 'block_1994', 'block_1995', 'block_1996', 'block_1997', 'block_1998', 'block_1999', 'block_2000', 'block_2001', 'block_2002', 'block_2003', 'block_2004', 'block_2005', 'block_2006', 'block_2007', 'block_2008', 'block_2009', 'block_2010', 'block_2011', 'block_2012', 'block_2013', 'block_2014', 'block_2015', 'block_2016', 'block_2017', 'block_2018', 'block_2019', 'block_2020', 'block_2021', 'block_2022', 'block_2023', 'block_2024', 'block_2025', 'block_2026', 'block_2027', 'block_2028', 'block_2029', 'block_2030', 'block_2031', 'block_2032', 'block_2033', 'block_2034', 'block_2035', 'block_2036', 'block_2037', 'block_2038', 'block_2039', 'block_2040', 'block_2041', 'block_2042', 'block_2043', 'block_2044', 'block_2045', 'block_2046', 'block_2047', 'block_2048', 'block_2049', 'block_2050', 'block_2051', 'block_2052', 'block_2053', 'block_2054', 'block_2055', 'block_2056', 'block_2057', 'block_2058', 'block_2059', 'block_2060', 'block_2061', 'block_2062', 'block_2063', 'block_2064', 'block_2065', 'block_2066', 'block_2067', 'block_2068', 'block_2069', 'block_2070', 'block_2071', 'block_2072', 'block_2073', 'block_2074', 'block_2075', 'block_2076', 'block_2077', 'block_2078', 'block_2079', 'block_2080', 'block_2081', 'block_2082', 'block_2083', 'block_2084', 'block_2085', 'block_2086', 'block_2087', 'block_2088', 'block_2089', 'block_2090', 'block_2091', 'block_2092', 'block_2093', 'block_2094', 'block_2095', 'block_2096', 'block_2097', 'block_2098', 'block_2099', 'block_2100', 'block_2101', 'block_2102', 'block_2103', 'block_2104', 'block_2105', 'block_2106', 'block_2107', 'block_2108', 'block_2109', 'block_2110', 'block_2111', 'block_2112', 'block_2113', 'block_2114', 'block_2115', 'block_2116', 'block_2117', 'block_2118', 'block_2119', 'block_2120', 'block_2121', 'block_2122', 'block_2123', 'block_2124', 'block_2125', 'block_2126', 'block_2127', 'block_2128', 'block_2129', 'block_2130', 'block_2131', 'block_2132', 'block_2133', 'block_2134', 'block_2135', 'block_2136', 'block_2137', 'block_2138', 'block_2139', 'block_2140', 'block_2141', 'block_2142', 'block_2143', 'block_2144', 'block_2145', 'block_2146', 'block_2147', 'block_2148', 'block_2149', 'block_2150', 'block_2151', 'block_2152', 'block_2153', 'block_2154', 'block_2155', 'block_2156', 'block_2157', 'block_2158', 'block_2159', 'block_2160', 'block_2161', 'block_2162', 'block_2163', 'block_2164', 'block_2165', 'block_2166', 'block_2167', 'block_2168', 'block_2169', 'block_2170', 'block_2171', 'block_2172', 'block_2173', 'block_2174', 'block_2175', 'block_2176', 'block_2177', 'block_2178', 'block_2179', 'block_2180', 'block_2181', 'block_2182', 'block_2183', 'block_2184', 'block_2185', 'block_2186', 'block_2187', 'block_2188', 'block_2189', 'block_2190', 'block_2191', 'block_2192', 'block_2193', 'block_2194', 'block_2195', 'block_2196', 'block_2197', 'block_2198', 'block_2199', 'block_2200', 'block_2201', 'block_2202', 'block_2203', 'block_2204', 'block_2205', 'block_2206', 'block_2207', 'block_2208', 'block_2209', 'block_2210', 'block_2211', 'block_2212', 'block_2213', 'block_2214', 'block_2215', 'block_2216', 'block_2217', 'block_2218', 'block_2219', 'block_2220', 'block_2221', 'block_2222', 'block_2223', 'block_2224', 'block_2225', 'block_2226', 'block_2227', 'block_2228', 'block_2229', 'block_2230', 'block_2231', 'block_2232', 'block_2233', 'block_2234', 'block_2235', 'block_2236', 'block_2237', 'block_2238', 'block_2239', 'block_2240', 'block_2241', 'block_2242', 'block_2243', 'block_2244', 'block_2245', 'block_2246', 'block_2247', 'block_2248', 'block_2249', 'block_2250', 'block_2251', 'block_2252', 'block_2253', 'block_2254', 'block_2255', 'block_2256', 'block_2257', 'block_2258', 'block_2259', 'block_2260', 'block_2261', 'block_2262', 'block_2263', 'block_2264', 'block_2265', 'block_2266', 'block_2267', 'block_2268', 'block_2269', 'block_2270', 'block_2271', 'block_2272', 'block_2273', 'block_2274', 'block_2275', 'block_2276', 'block_2277', 'block_2278', 'block_2279', 'block_2280', 'block_2281', 'block_2282', 'block_2283', 'block_2284', 'block_2285', 'block_2286', 'block_2287', 'block_2288', 'block_2289', 'block_2290', 'block_2291', 'block_2292', 'block_2293', 'block_2294', 'block_2295', 'block_2296', 'block_2297', 'block_2298', 'block_2299', 'block_2300', 'block_2301', 'block_2302', 'block_2303', 'block_2304', 'block_2305', 'block_2306', 'block_2307', 'block_2308', 'block_2309', 'block_2310', 'block_2311', 'block_2312', 'block_2313', 'block_2314', 'block_2315', 'block_2316', 'block_2317', 'block_2318', 'block_2319', 'block_2320', 'block_2321', 'block_2322', 'block_2323', 'block_2324', 'block_2325', 'block_2326', 'block_2327', 'block_2328', 'block_2329', 'block_2330', 'block_2331', 'block_2332', 'block_2333', 'block_2334', 'block_2335', 'block_2336', 'block_2337', 'block_2338', 'block_2339', 'block_2340', 'block_2341', 'block_2342', 'block_2343', 'block_2344', 'block_2345', 'block_2346', 'block_2347', 'block_2348', 'block_2349', 'block_2350', 'block_2351', 'block_2352', 'block_2353', 'block_2354', 'block_2355', 'block_2356', 'block_2357', 'block_2358', 'block_2359', 'block_2360', 'block_2361', 'block_2362', 'block_2363', 'block_2364', 'block_2365', 'block_2366', 'block_2367', 'block_2368', 'block_2369', 'block_2370', 'block_2371', 'block_2372', 'block_2373', 'block_2374', 'block_2375', 'block_2376', 'block_2377', 'block_2378', 'block_2379', 'block_2380', 'block_2381', 'block_2382', 'block_2383', 'block_2384', 'block_2385', 'block_2386', 'block_2387', 'block_2388', 'block_2389', 'block_2390', 'block_2391', 'block_2392', 'block_2393', 'block_2394', 'block_2395', 'block_2396', 'block_2397', 'block_2398', 'block_2399', 'block_2400', 'block_2401', 'block_2402', 'block_2403', 'block_2404', 'block_2405', 'block_2406', 'block_2407', 'block_2408', 'block_2409', 'block_2410', 'block_2411', 'block_2412', 'block_2413', 'block_2414', 'block_2415', 'block_2416', 'block_2417', 'block_2418', 'block_2419', 'block_2420', 'block_2421', 'block_2422', 'block_2423', 'block_2424', 'block_2425', 'block_2426', 'block_2427', 'block_2428', 'block_2429', 'block_2430', 'block_2431', 'block_2432', 'block_2433', 'block_2434', 'block_2435', 'block_2436', 'block_2437', 'block_2438', 'block_2439', 'block_2440', 'block_2441', 'block_2442', 'block_2443', 'block_2444', 'block_2445', 'block_2446', 'block_2447', 'block_2448', 'block_2449', 'block_2450', 'block_2451', 'block_2452', 'block_2453', 'block_2454', 'block_2455', 'block_2456', 'block_2457', 'block_2458', 'block_2459', 'block_2460', 'block_2461', 'block_2462', 'block_2463', 'block_2464', 'block_2465', 'block_2466', 'block_2467', 'block_2468', 'block_2469', 'block_2470', 'block_2471', 'block_2472', 'block_2473', 'block_2474', 'block_2475', 'block_2476', 'block_2477', 'block_2478', 'block_2479', 'block_2480', 'block_2481', 'block_2482', 'block_2483', 'block_2484', 'block_2485', 'block_2486', 'block_2487', 'block_2488', 'block_2489', 'block_2490', 'block_2491', 'block_2492', 'block_2493', 'block_2494', 'block_2495', 'block_2496', 'block_2497', 'block_2498', 'block_2499', 'block_2500', 'block_2501', 'block_2502', 'block_2503', 'block_2504', 'block_2505', 'block_2506', 'block_2507', 'block_2508', 'block_2509', 'block_2510', 'block_2511', 'block_2512', 'block_2513', 'block_2514', 'block_2515', 'block_2516', 'block_2517', 'block_2518', 'block_2519', 'block_2520', 'block_2521', 'block_2522', 'block_2523', 'block_2524', 'block_2525', 'block_2526', 'block_2527', 'block_2528', 'block_2529', 'block_2530', 'block_2531', 'block_2532', 'block_2533', 'block_2534', 'block_2535', 'block_2536', 'block_2537', 'block_2538', 'block_2539', 'block_2540', 'block_2541', 'block_2542', 'block_2543', 'block_2544', 'block_2545', 'block_2546', 'block_2547', 'block_2548', 'block_2549', 'block_2550', 'block_2551', 'block_2552', 'block_2553', 'block_2554', 'block_2555', 'block_2556', 'block_2557', 'block_2558', 'block_2559', 'block_2560', 'block_2561', 'block_2562', 'block_2563', 'block_2564', 'block_2565', 'block_2566', 'block_2567', 'block_2568', 'block_2569', 'block_2570', 'block_2571', 'block_2572', 'block_2573', 'block_2574', 'block_2575', 'block_2576', 'block_2577', 'block_2578', 'block_2579', 'block_2580', 'block_2581', 'block_2582', 'block_2583', 'block_2584', 'block_2585', 'block_2586', 'block_2587', 'block_2588', 'block_2589', 'block_2590', 'block_2591', 'block_2592', 'block_2593', 'block_2594', 'block_2595', 'block_2596', 'block_2597', 'block_2598', 'block_2599', 'block_2600', 'block_2601', 'block_2602', 'block_2603', 'block_2604', 'block_2605', 'block_2606', 'block_2607', 'block_2608', 'block_2609', 'block_2610', 'block_2611', 'block_2612', 'block_2613', 'block_2614', 'block_2615', 'block_2616', 'block_2617', 'block_2618', 'block_2619', 'block_2620', 'block_2621', 'block_2622', 'block_2623', 'block_2624', 'block_2625', 'block_2626', 'block_2627', 'block_2628', 'block_2629', 'block_2630', 'block_2631', 'block_2632', 'block_2633', 'block_2634', 'block_2635', 'block_2636', 'block_2637', 'block_2638', 'block_2639', 'block_2640', 'block_2641', 'block_2642', 'block_2643', 'block_2644', 'block_2645', 'block_2646', 'block_2647', 'block_2648', 'block_2649', 'block_2650', 'block_2651', 'block_2652', 'block_2653', 'block_2654', 'block_2655', 'block_2656', 'block_2657', 'block_2658', 'block_2659', 'block_2660', 'block_2661', 'block_2662', 'block_2663', 'block_2664', 'block_2665', 'block_2666', 'block_2667', 'block_2668', 'block_2669', 'block_2670', 'block_2671', 'block_2672', 'block_2673', 'block_2674', 'block_2675', 'block_2676', 'block_2677', 'block_2678', 'block_2679', 'block_2680', 'block_2681', 'block_2682', 'block_2683', 'block_2684', 'block_2685', 'block_2686', 'block_2687', 'block_2688', 'block_2689', 'block_2690', 'block_2691', 'block_2692', 'block_2693', 'block_2694', 'block_2695', 'block_2696', 'block_2697', 'block_2698', 'block_2699', 'block_2700', 'block_2701', 'block_2702', 'block_2703', 'block_2704', 'block_2705', 'block_2706', 'block_2707', 'block_2708', 'block_2709', 'block_2710', 'block_2711', 'block_2712', 'block_2713', 'block_2714', 'block_2715', 'block_2716', 'block_2717', 'block_2718', 'block_2719', 'block_2720', 'block_2721', 'block_2722', 'block_2723', 'block_2724', 'block_2725', 'block_2726', 'block_2727', 'block_2728', 'block_2729', 'block_2730', 'block_2731', 'block_2732', 'block_2733', 'block_2734', 'block_2735', 'block_2736', 'block_2737', 'block_2738', 'block_2739', 'block_2740', 'block_2741', 'block_2742', 'block_2743', 'block_2744', 'block_2745', 'block_2746', 'block_2747', 'block_2748', 'block_2749', 'block_2750', 'block_2751', 'block_2752', 'block_2753', 'block_2754', 'block_2755', 'block_2756', 'block_2757', 'block_2758', 'block_2759', 'block_2760', 'block_2761', 'block_2762', 'block_2763', 'block_2764', 'block_2765', 'block_2766', 'block_2767', 'block_2768', 'block_2769', 'block_2770', 'block_2771', 'block_2772', 'block_2773', 'block_2774', 'block_2775', 'block_2776', 'block_2777', 'block_2778', 'block_2779', 'block_2780', 'block_2781', 'block_2782', 'block_2783', 'block_2784', 'block_2785', 'block_2786', 'block_2787', 'block_2788', 'block_2789', 'block_2790', 'block_2791', 'block_2792', 'block_2793', 'block_2794', 'block_2795', 'block_2796', 'block_2797', 'block_2798', 'block_2799', 'block_2800', 'block_2801', 'block_2802', 'block_2803', 'block_2804', 'block_2805', 'block_2806', 'block_2807', 'block_2808', 'block_2809', 'block_2810', 'block_2811', 'block_2812', 'block_2813', 'block_2814', 'block_2815', 'block_2816', 'block_2817', 'block_2818', 'block_2819', 'block_2820', 'block_2821', 'block_2822', 'block_2823', 'block_2824', 'block_2825', 'block_2826', 'block_2827', 'block_2828', 'block_2829', 'block_2830', 'block_2831', 'block_2832', 'block_2833', 'block_2834', 'block_2835', 'block_2836', 'block_2837', 'block_2838', 'block_2839', 'block_2840', 'block_2841', 'block_2842', 'block_2843', 'block_2844', 'block_2845', 'block_2846', 'block_2847', 'block_2848', 'block_2849', 'block_2850', 'block_2851', 'block_2852', 'block_2853', 'block_2854', 'block_2855', 'block_2856', 'block_2857', 'block_2858', 'block_2859', 'block_2860', 'block_2861', 'block_2862', 'block_2863', 'block_2864', 'block_2865', 'block_2866', 'block_2867', 'block_2868', 'block_2869', 'block_2870', 'block_2871', 'block_2872', 'block_2873', 'block_2874', 'block_2875', 'block_2876', 'block_2877', 'block_2878', 'block_2879', 'block_2880', 'block_2881', 'block_2882', 'block_2883', 'block_2884', 'block_2885', 'block_2886', 'block_2887', 'block_2888', 'block_2889', 'block_2890', 'block_2891', 'block_2892', 'block_2893', 'block_2894', 'block_2895', 'block_2896', 'block_2897', 'block_2898', 'block_2899', 'block_2900', 'block_2901', 'block_2902', 'block_2903', 'block_2904', 'block_2905', 'block_2906', 'block_2907', 'block_2908', 'block_2909', 'block_2910', 'block_2911', 'block_2912', 'block_2913', 'block_2914', 'block_2915', 'block_2916', 'block_2917', 'block_2918', 'block_2919', 'block_2920', 'block_2921', 'block_2922', 'block_2923', 'block_2924', 'block_2925', 'block_2926', 'block_2927', 'block_2928', 'block_2929', 'block_2930', 'block_2931', 'block_2932', 'block_2933', 'block_2934', 'block_2935', 'block_2936', 'block_2937', 'block_2938', 'block_2939', 'block_2940', 'block_2941', 'block_2942', 'block_2943', 'block_2944', 'block_2945', 'block_2946', 'block_2947', 'block_2948', 'block_2949', 'block_2950', 'block_2951', 'block_2952', 'block_2953', 'block_2954', 'block_2955', 'block_2956', 'block_2957', 'block_2958', 'block_2959', 'block_2960', 'block_2961', 'block_2962', 'block_2963', 'block_2964', 'block_2965', 'block_2966', 'block_2967', 'block_2968', 'block_2969', 'block_2970', 'block_2971', 'block_2972', 'block_2973', 'block_2974', 'block_2975', 'block_2976', 'block_2977', 'block_2978', 'block_2979', 'block_2980', 'block_2981', 'block_2982', 'block_2983', 'block_2984', 'block_2985', 'block_2986', 'block_2987', 'block_2988', 'block_2989', 'block_2990', 'block_2991', 'block_2992', 'block_2993', 'block_2994', 'block_2995', 'block_2996', 'block_2997', 'block_2998', 'block_2999', 'block_3000', 'block_3001', 'block_3002', 'block_3003', 'block_3004', 'block_3005', 'block_3006', 'block_3007', 'block_3008', 'block_3009', 'block_3010', 'block_3011', 'block_3012', 'block_3013', 'block_3014', 'block_3015', 'block_3016', 'block_3017', 'block_3018', 'block_3019', 'block_3020', 'block_3021', 'block_3022', 'block_3023', 'block_3024', 'block_3025', 'block_3026', 'block_3027', 'block_3028', 'block_3029', 'block_3030', 'block_3031', 'block_3032', 'block_3033', 'block_3034', 'block_3035', 'block_3036', 'block_3037', 'block_3038', 'block_3039', 'block_3040', 'block_3041', 'block_3042', 'block_3043', 'block_3044', 'block_3045', 'block_3046', 'block_3047', 'block_3048', 'block_3049', 'block_3050', 'block_3051', 'block_3052', 'block_3053', 'block_3054', 'block_3055', 'block_3056', 'block_3057', 'block_3058', 'block_3059', 'block_3060', 'block_3061', 'block_3062', 'block_3063', 'block_3064', 'block_3065', 'block_3066', 'block_3067', 'block_3068', 'block_3069', 'block_3070', 'block_3071', 'block_3072', 'block_3073', 'block_3074', 'block_3075', 'block_3076', 'block_3077', 'block_3078', 'block_3079', 'block_3080', 'block_3081', 'block_3082', 'block_3083', 'block_3084', 'block_3085', 'block_3086', 'block_3087', 'block_3088', 'block_3089', 'block_3090', 'block_3091', 'block_3092', 'block_3093', 'block_3094', 'block_3095', 'block_3096', 'block_3097', 'block_3098', 'block_3099', 'block_3100', 'block_3101', 'block_3102', 'block_3103', 'block_3104', 'block_3105', 'block_3106', 'block_3107', 'block_3108', 'block_3109', 'block_3110', 'block_3111', 'block_3112', 'block_3113', 'block_3114', 'block_3115', 'block_3116', 'block_3117', 'block_3118', 'block_3119', 'block_3120', 'block_3121', 'block_3122', 'block_3123', 'block_3124', 'block_3125', 'block_3126', 'block_3127', 'block_3128', 'block_3129', 'block_3130', 'block_3131', 'block_3132', 'block_3133', 'block_3134', 'block_3135', 'block_3136', 'block_3137', 'block_3138', 'block_3139', 'block_3140', 'block_3141', 'block_3142', 'block_3143', 'block_3144', 'block_3145', 'block_3146', 'block_3147', 'block_3148', 'block_3149', 'block_3150', 'block_3151', 'block_3152', 'block_3153', 'block_3154', 'block_3155', 'block_3156', 'block_3157', 'block_3158', 'block_3159', 'block_3160', 'block_3161', 'block_3162', 'block_3163', 'block_3164', 'block_3165', 'block_3166', 'block_3167', 'block_3168', 'block_3169', 'block_3170', 'block_3171', 'block_3172', 'block_3173', 'block_3174', 'block_3175', 'block_3176', 'block_3177', 'block_3178', 'block_3179', 'block_3180', 'block_3181', 'block_3182', 'block_3183', 'block_3184', 'block_3185', 'block_3186', 'block_3187', 'block_3188', 'block_3189', 'block_3190', 'block_3191', 'block_3192', 'block_3193', 'block_3194', 'block_3195', 'block_3196', 'block_3197', 'block_3198', 'block_3199', 'block_3200', 'block_3201', 'block_3202', 'block_3203', 'block_3204', 'block_3205', 'block_3206', 'block_3207', 'block_3208', 'block_3209', 'block_3210', 'block_3211', 'block_3212', 'block_3213', 'block_3214', 'block_3215', 'block_3216', 'block_3217', 'block_3218', 'block_3219', 'block_3220', 'block_3221', 'block_3222', 'block_3223', 'block_3224', 'block_3225', 'block_3226', 'block_3227', 'block_3228', 'block_3229', 'block_3230', 'block_3231', 'block_3232', 'block_3233', 'block_3234', 'block_3235', 'block_3236', 'block_3237', 'block_3238', 'block_3239', 'block_3240', 'block_3241', 'block_3242', 'block_3243', 'block_3244', 'block_3245', 'block_3246', 'block_3247', 'block_3248', 'block_3249', 'block_3250', 'block_3251', 'block_3252', 'block_3253', 'block_3254', 'block_3255', 'block_3256', 'block_3257', 'block_3258', 'block_3259', 'block_3260', 'block_3261', 'block_3262', 'block_3263', 'block_3264', 'block_3265', 'block_3266', 'block_3267', 'block_3268', 'block_3269', 'block_3270', 'block_3271', 'block_3272', 'block_3273', 'block_3274', 'block_3275', 'block_3276', 'block_3277', 'block_3278', 'block_3279', 'block_3280', 'block_3281', 'block_3282', 'block_3283', 'block_3284', 'block_3285', 'block_3286', 'block_3287', 'block_3288', 'block_3289', 'block_3290', 'block_3291', 'block_3292', 'block_3293', 'block_3294', 'block_3295', 'block_3296', 'block_3297', 'block_3298', 'block_3299', 'block_3300', 'block_3301', 'block_3302', 'block_3303', 'block_3304', 'block_3305', 'block_3306', 'block_3307', 'block_3308', 'block_3309', 'block_3310', 'block_3311', 'block_3312', 'block_3313', 'block_3314', 'block_3315', 'block_3316', 'block_3317', 'block_3318', 'block_3319', 'block_3320', 'block_3321', 'block_3322', 'block_3323', 'block_3324', 'block_3325', 'block_3326', 'block_3327', 'block_3328', 'block_3329', 'block_3330', 'block_3331', 'block_3332', 'block_3333', 'block_3334', 'block_3335', 'block_3336', 'block_3337', 'block_3338', 'block_3339', 'block_3340', 'block_3341', 'block_3342', 'block_3343', 'block_3344', 'block_3345', 'block_3346', 'block_3347', 'block_3348', 'block_3349', 'block_3350', 'block_3351', 'block_3352', 'block_3353', 'block_3354', 'block_3355', 'block_3356', 'block_3357', 'block_3358', 'block_3359', 'block_3360', 'block_3361', 'block_3362', 'block_3363', 'block_3364', 'block_3365', 'block_3366', 'block_3367', 'block_3368', 'block_3369', 'block_3370', 'block_3371', 'block_3372', 'block_3373', 'block_3374', 'block_3375', 'block_3376', 'block_3377', 'block_3378', 'block_3379', 'block_3380', 'block_3381', 'block_3382', 'block_3383', 'block_3384', 'block_3385', 'block_3386', 'block_3387', 'block_3388', 'block_3389', 'block_3390', 'block_3391', 'block_3392', 'block_3393', 'block_3394', 'block_3395', 'block_3396', 'block_3397', 'block_3398', 'block_3399', 'block_3400', 'block_3401', 'block_3402', 'block_3403', 'block_3404', 'block_3405', 'block_3406', 'block_3407', 'block_3408', 'block_3409', 'block_3410', 'block_3411', 'block_3412', 'block_3413', 'block_3414', 'block_3415', 'block_3416', 'block_3417', 'block_3418', 'block_3419', 'block_3420', 'block_3421', 'block_3422', 'block_3423', 'block_3424', 'block_3425', 'block_3426', 'block_3427', 'block_3428', 'block_3429', 'block_3430', 'block_3431', 'block_3432', 'block_3433', 'block_3434', 'block_3435', 'block_3436', 'block_3437', 'block_3438', 'block_3439', 'block_3440', 'block_3441', 'block_3442', 'block_3443', 'block_3444', 'block_3445', 'block_3446', 'block_3447', 'block_3448', 'block_3449', 'block_3450', 'block_3451', 'block_3452', 'block_3453', 'block_3454', 'block_3455', 'block_3456', 'block_3457', 'block_3458', 'block_3459', 'block_3460', 'block_3461', 'block_3462', 'block_3463', 'block_3464', 'block_3465', 'block_3466', 'block_3467', 'block_3468', 'block_3469', 'block_3470', 'block_3471', 'block_3472', 'block_3473', 'block_3474', 'block_3475', 'block_3476', 'block_3477', 'block_3478', 'block_3479', 'block_3480', 'block_3481', 'block_3482', 'block_3483', 'block_3484', 'block_3485', 'block_3486', 'block_3487', 'block_3488', 'block_3489', 'block_3490', 'block_3491', 'block_3492', 'block_3493', 'block_3494', 'block_3495', 'block_3496', 'block_3497', 'block_3498', 'block_3499', 'block_3500', 'block_3501', 'block_3502', 'block_3503', 'block_3504', 'block_3505', 'block_3506', 'block_3507', 'block_3508', 'block_3509', 'block_3510', 'block_3511', 'block_3512', 'block_3513', 'block_3514', 'block_3515', 'block_3516', 'block_3517', 'block_3518', 'block_3519', 'block_3520', 'block_3521', 'block_3522', 'block_3523', 'block_3524', 'block_3525', 'block_3526', 'block_3527', 'block_3528', 'block_3529', 'block_3530', 'block_3531', 'block_3532', 'block_3533', 'block_3534', 'block_3535', 'block_3536', 'block_3537', 'block_3538', 'block_3539', 'block_3540', 'block_3541', 'block_3542', 'block_3543', 'block_3544', 'block_3545', 'block_3546', 'block_3547', 'block_3548', 'block_3549', 'block_3550', 'block_3551', 'block_3552', 'block_3553', 'block_3554', 'block_3555', 'block_3556', 'block_3557', 'block_3558', 'block_3559', 'block_3560', 'block_3561', 'block_3562', 'block_3563', 'block_3564', 'block_3565', 'block_3566', 'block_3567', 'block_3568', 'block_3569', 'block_3570', 'block_3571', 'block_3572', 'block_3573', 'block_3574', 'block_3575', 'block_3576', 'block_3577', 'block_3578', 'block_3579', 'block_3580', 'block_3581', 'block_3582', 'block_3583', 'block_3584', 'block_3585', 'block_3586', 'block_3587', 'block_3588', 'block_3589', 'block_3590', 'block_3591', 'block_3592', 'block_3593', 'block_3594', 'block_3595', 'block_3596', 'block_3597', 'block_3598', 'block_3599', 'block_3600']\n",
            "\n",
            "      xRot   yRot  block_1  block_1_dist  block_2  block_2_dist  block_3  \\\n",
            "0    81.45  26.98        0             6        1            94        7   \n",
            "1    59.47   2.02        1             4        6             9        4   \n",
            "2   -58.81   3.46        2           159        5            75        4   \n",
            "3    61.45  36.54        0            40        5            21        4   \n",
            "4   -44.43  84.42        3            56        5            41        5   \n",
            "..     ...    ...      ...           ...      ...           ...      ...   \n",
            "115  23.38  11.33        1            11        6            50        4   \n",
            "116   1.92  50.17        2            72        1            93        1   \n",
            "117 -64.33  83.93        1            21        3           110        5   \n",
            "118  -1.77   5.55        5           146        5           151        5   \n",
            "119  11.65  76.97        4           113        1            18        3   \n",
            "\n",
            "     block_3_dist  block_4  block_4_dist  ...  block_3596  block_3596_dist  \\\n",
            "0             121        4            90  ...           5              137   \n",
            "1              14        1            41  ...           1               75   \n",
            "2             141        5           136  ...           5               37   \n",
            "3              34        5            98  ...           1               18   \n",
            "4             130        3            49  ...           5               24   \n",
            "..            ...      ...           ...  ...         ...              ...   \n",
            "115           142        1            47  ...           0               25   \n",
            "116           108        1           108  ...           5              136   \n",
            "117            63        0            19  ...           1              140   \n",
            "118            26        5            50  ...           4               89   \n",
            "119            35        1            22  ...           5               68   \n",
            "\n",
            "     block_3597  block_3597_dist  block_3598  block_3598_dist  block_3599  \\\n",
            "0             5              123           5               64           4   \n",
            "1             1               69           4               96           1   \n",
            "2             4               98           6               20           1   \n",
            "3             5              144           1              107           1   \n",
            "4             1              138           1                3           4   \n",
            "..          ...              ...         ...              ...         ...   \n",
            "115           5               74           5              136           2   \n",
            "116           5              111           5              134           5   \n",
            "117           4              148           2               99           1   \n",
            "118           5              146           7              127           1   \n",
            "119           1                8           5              152           5   \n",
            "\n",
            "     block_3599_dist  block_3600  block_3600_dist  \n",
            "0                 55           5              159  \n",
            "1                 23           5              148  \n",
            "2                 43           1              118  \n",
            "3                  4           2              104  \n",
            "4                 12           0              124  \n",
            "..               ...         ...              ...  \n",
            "115               48           5               48  \n",
            "116               46           5              113  \n",
            "117                1           4               95  \n",
            "118              146           6               43  \n",
            "119               40           5               47  \n",
            "\n",
            "[120 rows x 7202 columns]\n"
          ]
        }
      ]
    },
    {
      "cell_type": "code",
      "source": [],
      "metadata": {
        "id": "6pg0J5NMyMjy"
      },
      "execution_count": null,
      "outputs": []
    }
  ]
}