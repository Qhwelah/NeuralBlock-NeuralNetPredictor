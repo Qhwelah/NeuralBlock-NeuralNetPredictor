{
  "nbformat": 4,
  "nbformat_minor": 0,
  "metadata": {
    "colab": {
      "provenance": [],
      "gpuType": "T4",
      "include_colab_link": true
    },
    "kernelspec": {
      "name": "python3",
      "display_name": "Python 3"
    },
    "language_info": {
      "name": "python"
    },
    "accelerator": "GPU"
  },
  "cells": [
    {
      "cell_type": "markdown",
      "metadata": {
        "id": "view-in-github",
        "colab_type": "text"
      },
      "source": [
        "<a href=\"https://colab.research.google.com/github/Qhwelah/NeuralBlock-NeuralNetPredictor/blob/main/NeuralNetPredictor.ipynb\" target=\"_parent\"><img src=\"https://colab.research.google.com/assets/colab-badge.svg\" alt=\"Open In Colab\"/></a>"
      ]
    },
    {
      "cell_type": "markdown",
      "source": [
        "# **Data Prepping for the Models**"
      ],
      "metadata": {
        "id": "5aLihYq0EbOO"
      }
    },
    {
      "cell_type": "code",
      "execution_count": 52,
      "metadata": {
        "colab": {
          "base_uri": "https://localhost:8080/",
          "height": 122
        },
        "id": "zmBCDAj_Lwt9",
        "outputId": "7f6062fe-d70b-461e-d7be-d79f9dc04d7f"
      },
      "outputs": [
        {
          "output_type": "stream",
          "name": "stderr",
          "text": [
            "Downloading...\n",
            "From (original): https://drive.google.com/uc?id=1TOCQLuu6jvplsd3wzFwPSNG-mFSbKzAa\n",
            "From (redirected): https://drive.google.com/uc?id=1TOCQLuu6jvplsd3wzFwPSNG-mFSbKzAa&confirm=t&uuid=b2002847-3682-49bb-a90c-519465f5e139\n",
            "To: /content/data.csv\n",
            "100%|██████████| 469M/469M [00:03<00:00, 148MB/s]\n"
          ]
        },
        {
          "output_type": "execute_result",
          "data": {
            "text/plain": [
              "'data.csv'"
            ],
            "application/vnd.google.colaboratory.intrinsic+json": {
              "type": "string"
            }
          },
          "metadata": {},
          "execution_count": 52
        }
      ],
      "source": [
        "# !pip3 uninstall gdown -y && pip3 install gdown\n",
        "import gdown\n",
        "\n",
        "url = \"https://drive.google.com/uc?id=1TOCQLuu6jvplsd3wzFwPSNG-mFSbKzAa\"\n",
        "output = \"data.csv\"\n",
        "gdown.download(url, output, quiet=False)"
      ]
    },
    {
      "cell_type": "code",
      "source": [
        "## import the data\n",
        "import pandas as pd\n",
        "\n",
        "df = pd.read_csv(\"data.csv\")\n",
        "\n",
        "print(df)"
      ],
      "metadata": {
        "colab": {
          "base_uri": "https://localhost:8080/"
        },
        "id": "eze8HudGY4e0",
        "outputId": "e9d83991-aa4c-4ef9-d9c6-35cb9071514d"
      },
      "execution_count": 53,
      "outputs": [
        {
          "output_type": "stream",
          "name": "stdout",
          "text": [
            "       xRot   yRot        block_1  block_1_dist        block_2  block_2_dist  \\\n",
            "0     33.30 -89.54  minecraft:air         64.40  minecraft:air         64.20   \n",
            "1     33.30 -89.54  minecraft:air         64.40  minecraft:air         64.20   \n",
            "2     28.20 -87.29  minecraft:air         64.48  minecraft:air         64.33   \n",
            "3     25.35 -55.34  minecraft:air         63.55  minecraft:air         63.76   \n",
            "4     26.10 -35.99  minecraft:air         64.04  minecraft:air         64.04   \n",
            "...     ...    ...            ...           ...            ...           ...   \n",
            "5542  13.95 -33.61  minecraft:air         63.96  minecraft:air         63.98   \n",
            "5543  17.85 -32.41  minecraft:air         63.54  minecraft:air         63.54   \n",
            "5544  21.30 -25.06  minecraft:air         64.00  minecraft:air         64.19   \n",
            "5545  23.70  -1.21  minecraft:air         64.38  minecraft:air         64.16   \n",
            "5546  23.70  -1.96  minecraft:air         64.35  minecraft:air         63.55   \n",
            "\n",
            "            block_3  block_3_dist        block_4  block_4_dist  ...  \\\n",
            "0     minecraft:air         64.20  minecraft:air         64.18  ...   \n",
            "1     minecraft:air         64.20  minecraft:air         64.18  ...   \n",
            "2     minecraft:air         64.21  minecraft:air         64.21  ...   \n",
            "3     minecraft:air         64.36  minecraft:air         64.06  ...   \n",
            "4     minecraft:air         64.05  minecraft:air         64.07  ...   \n",
            "...             ...           ...            ...           ...  ...   \n",
            "5542  minecraft:air         64.33  minecraft:air         64.33  ...   \n",
            "5543  minecraft:air         63.59  minecraft:air         63.96  ...   \n",
            "5544  minecraft:air         64.39  minecraft:air         63.45  ...   \n",
            "5545  minecraft:air         64.39  minecraft:air         64.19  ...   \n",
            "5546  minecraft:air         64.35  minecraft:air         64.15  ...   \n",
            "\n",
            "                 block_3596  block_3596_dist             block_3597  \\\n",
            "0     minecraft:grass_block             1.93  minecraft:grass_block   \n",
            "1     minecraft:grass_block             1.93  minecraft:grass_block   \n",
            "2     minecraft:grass_block             1.48  minecraft:grass_block   \n",
            "3     minecraft:grass_block             2.06  minecraft:grass_block   \n",
            "4     minecraft:grass_block             2.69  minecraft:grass_block   \n",
            "...                     ...              ...                    ...   \n",
            "5542  minecraft:grass_block             9.84  minecraft:grass_block   \n",
            "5543         minecraft:dirt            11.76  minecraft:grass_block   \n",
            "5544          minecraft:air             3.47          minecraft:air   \n",
            "5545  minecraft:grass_block            10.71  minecraft:grass_block   \n",
            "5546  minecraft:grass_block            12.11  minecraft:grass_block   \n",
            "\n",
            "      block_3597_dist             block_3598  block_3598_dist  \\\n",
            "0                1.93  minecraft:grass_block             1.93   \n",
            "1                1.93  minecraft:grass_block             1.93   \n",
            "2                1.48  minecraft:grass_block             2.31   \n",
            "3                2.06  minecraft:grass_block             2.06   \n",
            "4                2.69  minecraft:grass_block             2.69   \n",
            "...               ...                    ...              ...   \n",
            "5542            10.32  minecraft:grass_block            10.32   \n",
            "5543            11.32  minecraft:grass_block            11.32   \n",
            "5544             3.47          minecraft:air             3.47   \n",
            "5545            10.71  minecraft:grass_block            10.71   \n",
            "5546            12.11  minecraft:grass_block            12.91   \n",
            "\n",
            "                 block_3599  block_3599_dist             block_3600  \\\n",
            "0     minecraft:grass_block             1.93  minecraft:grass_block   \n",
            "1     minecraft:grass_block             1.93  minecraft:grass_block   \n",
            "2     minecraft:grass_block             2.31  minecraft:grass_block   \n",
            "3     minecraft:grass_block             2.74  minecraft:grass_block   \n",
            "4     minecraft:grass_block             2.69  minecraft:grass_block   \n",
            "...                     ...              ...                    ...   \n",
            "5542  minecraft:grass_block            10.32  minecraft:grass_block   \n",
            "5543  minecraft:grass_block            11.32  minecraft:grass_block   \n",
            "5544          minecraft:air             3.47          minecraft:air   \n",
            "5545  minecraft:grass_block            10.71  minecraft:grass_block   \n",
            "5546  minecraft:grass_block            12.91  minecraft:grass_block   \n",
            "\n",
            "      block_3600_dist  \n",
            "0                1.93  \n",
            "1                1.93  \n",
            "2                2.31  \n",
            "3                2.74  \n",
            "4                2.69  \n",
            "...               ...  \n",
            "5542            10.32  \n",
            "5543            11.32  \n",
            "5544             3.47  \n",
            "5545            11.53  \n",
            "5546            12.91  \n",
            "\n",
            "[5547 rows x 7202 columns]\n"
          ]
        }
      ]
    },
    {
      "cell_type": "code",
      "source": [
        "## Getting all values of non-numeric types only\n",
        "df.info()\n",
        "non_numeric_values = df.select_dtypes(exclude=[\"float\", \"int\"])\n",
        "# print(non_numeric_values)"
      ],
      "metadata": {
        "id": "j2kNoW6LZ6Sa",
        "colab": {
          "base_uri": "https://localhost:8080/"
        },
        "outputId": "e43fa15e-5125-4397-a94a-b6965280e1ed"
      },
      "execution_count": 54,
      "outputs": [
        {
          "output_type": "stream",
          "name": "stdout",
          "text": [
            "<class 'pandas.core.frame.DataFrame'>\n",
            "RangeIndex: 5547 entries, 0 to 5546\n",
            "Columns: 7202 entries, xRot to block_3600_dist\n",
            "dtypes: float64(3602), object(3600)\n",
            "memory usage: 304.8+ MB\n"
          ]
        }
      ]
    },
    {
      "cell_type": "code",
      "source": [
        "## Mapping all non-numeric data values to some numeric values\n",
        "\n",
        "# parameters:\n",
        "columns_to_check_for_unique_values = 20\n",
        "\n",
        "# internal values:\n",
        "block_mapping_conversions = []\n",
        "\n",
        "print(\"Event log for block conversion pushes: \")\n",
        "j = 1  # iterator for determining which block column to use\n",
        "while(j < columns_to_check_for_unique_values+1):\n",
        "  block_column = f\"block_{j}\"\n",
        "  block_mapping = df[block_column].factorize()\n",
        "  # print(f\"Conversion values for {block_column}: \")\n",
        "  # print(block_mapping)\n",
        "  # print()\n",
        "  i = 0  # iterator for checking within a single column's conversion mapping\n",
        "  while i < len(block_mapping[0]):\n",
        "    mapped_index = block_mapping[0][i]\n",
        "    if mapped_index == -1:\n",
        "      i += 1\n",
        "      continue\n",
        "    new_conversion = block_mapping[1][mapped_index]\n",
        "    if new_conversion not in block_mapping_conversions:\n",
        "      block_mapping_conversions.append(new_conversion)\n",
        "      print(f\"pushing {new_conversion} to values at index {len(block_mapping_conversions)-1}\")\n",
        "    i += 1\n",
        "  j += 1\n",
        "\n",
        "block_mapping_conversions.append('unknown')\n",
        "print(f\"pushing unknown to values at index {len(block_mapping_conversions)-1}\")\n",
        "\n",
        "print()\n",
        "print(\"Final conversion values: \")\n",
        "print(block_mapping_conversions)"
      ],
      "metadata": {
        "colab": {
          "base_uri": "https://localhost:8080/"
        },
        "id": "jTs8WbC5yilR",
        "outputId": "c0487d9d-f08a-4c44-b4e8-95f31a3e208d"
      },
      "execution_count": 55,
      "outputs": [
        {
          "output_type": "stream",
          "name": "stdout",
          "text": [
            "Event log for block conversion pushes: \n",
            "pushing minecraft:air to values at index 0\n",
            "pushing minecraft:stone to values at index 1\n",
            "pushing minecraft:grass_block to values at index 2\n",
            "pushing minecraft:oak_log to values at index 3\n",
            "pushing minecraft:oak_planks to values at index 4\n",
            "pushing minecraft:oak_leaves to values at index 5\n",
            "pushing minecraft:dirt to values at index 6\n",
            "pushing minecraft:water to values at index 7\n",
            "pushing unknown to values at index 8\n",
            "\n",
            "Final conversion values: \n",
            "['minecraft:air', 'minecraft:stone', 'minecraft:grass_block', 'minecraft:oak_log', 'minecraft:oak_planks', 'minecraft:oak_leaves', 'minecraft:dirt', 'minecraft:water', 'unknown']\n"
          ]
        }
      ]
    },
    {
      "cell_type": "code",
      "source": [
        "## Converting actual data values in the dataframe to numbers using block mapping\n",
        "def convertBlock(val):\n",
        "  for i in range(len(block_mapping_conversions)):\n",
        "    if val == block_mapping_conversions[i]:\n",
        "      return i\n",
        "  return -1\n",
        "\n",
        "block_columns = [col for col in df.columns if col.startswith(\"block_\") and not col.endswith(\"_dist\")]\n",
        "# print(block_columns)\n",
        "df_numerical = df.copy() # make a backup copy of the dataframe to reference later\n",
        "for col in block_columns:\n",
        "  df_numerical[col] = df_numerical[col].apply(convertBlock)\n",
        "\n",
        "print()\n",
        "print(df_numerical) # the numerized dataframe"
      ],
      "metadata": {
        "id": "gB1rPfzT3T17",
        "colab": {
          "base_uri": "https://localhost:8080/"
        },
        "outputId": "52d5debd-87d3-4e2d-f2f3-43e425502ae1"
      },
      "execution_count": 56,
      "outputs": [
        {
          "output_type": "stream",
          "name": "stdout",
          "text": [
            "\n",
            "       xRot   yRot  block_1  block_1_dist  block_2  block_2_dist  block_3  \\\n",
            "0     33.30 -89.54        0         64.40        0         64.20        0   \n",
            "1     33.30 -89.54        0         64.40        0         64.20        0   \n",
            "2     28.20 -87.29        0         64.48        0         64.33        0   \n",
            "3     25.35 -55.34        0         63.55        0         63.76        0   \n",
            "4     26.10 -35.99        0         64.04        0         64.04        0   \n",
            "...     ...    ...      ...           ...      ...           ...      ...   \n",
            "5542  13.95 -33.61        0         63.96        0         63.98        0   \n",
            "5543  17.85 -32.41        0         63.54        0         63.54        0   \n",
            "5544  21.30 -25.06        0         64.00        0         64.19        0   \n",
            "5545  23.70  -1.21        0         64.38        0         64.16        0   \n",
            "5546  23.70  -1.96        0         64.35        0         63.55        0   \n",
            "\n",
            "      block_3_dist  block_4  block_4_dist  ...  block_3596  block_3596_dist  \\\n",
            "0            64.20        0         64.18  ...           2             1.93   \n",
            "1            64.20        0         64.18  ...           2             1.93   \n",
            "2            64.21        0         64.21  ...           2             1.48   \n",
            "3            64.36        0         64.06  ...           2             2.06   \n",
            "4            64.05        0         64.07  ...           2             2.69   \n",
            "...            ...      ...           ...  ...         ...              ...   \n",
            "5542         64.33        0         64.33  ...           2             9.84   \n",
            "5543         63.59        0         63.96  ...           6            11.76   \n",
            "5544         64.39        0         63.45  ...           0             3.47   \n",
            "5545         64.39        0         64.19  ...           2            10.71   \n",
            "5546         64.35        0         64.15  ...           2            12.11   \n",
            "\n",
            "      block_3597  block_3597_dist  block_3598  block_3598_dist  block_3599  \\\n",
            "0              2             1.93           2             1.93           2   \n",
            "1              2             1.93           2             1.93           2   \n",
            "2              2             1.48           2             2.31           2   \n",
            "3              2             2.06           2             2.06           2   \n",
            "4              2             2.69           2             2.69           2   \n",
            "...          ...              ...         ...              ...         ...   \n",
            "5542           2            10.32           2            10.32           2   \n",
            "5543           2            11.32           2            11.32           2   \n",
            "5544           0             3.47           0             3.47           0   \n",
            "5545           2            10.71           2            10.71           2   \n",
            "5546           2            12.11           2            12.91           2   \n",
            "\n",
            "      block_3599_dist  block_3600  block_3600_dist  \n",
            "0                1.93           2             1.93  \n",
            "1                1.93           2             1.93  \n",
            "2                2.31           2             2.31  \n",
            "3                2.74           2             2.74  \n",
            "4                2.69           2             2.69  \n",
            "...               ...         ...              ...  \n",
            "5542            10.32           2            10.32  \n",
            "5543            11.32           2            11.32  \n",
            "5544             3.47           0             3.47  \n",
            "5545            10.71           2            11.53  \n",
            "5546            12.91           2            12.91  \n",
            "\n",
            "[5547 rows x 7202 columns]\n"
          ]
        }
      ]
    },
    {
      "cell_type": "markdown",
      "source": [
        "# **KNN Model Predictions**"
      ],
      "metadata": {
        "id": "ZHQlVDRLB2K5"
      }
    },
    {
      "cell_type": "code",
      "source": [
        "from sklearn.model_selection import train_test_split\n",
        "from sklearn.neighbors import KNeighborsClassifier\n",
        "from sklearn.metrics import accuracy_score"
      ],
      "metadata": {
        "id": "6pg0J5NMyMjy"
      },
      "execution_count": 57,
      "outputs": []
    },
    {
      "cell_type": "code",
      "source": [
        "distance_columns = [col for col in df_numerical.columns if 'dist' in col]\n",
        "\n",
        "target_distance_column = 'block_5_dist'\n",
        "\n",
        "for col in distance_columns:\n",
        "    if col != target_distance_column:\n",
        "        df_numerical[col] = (df_numerical[col] - df_numerical[target_distance_column]).abs()\n",
        "\n",
        "df_numerical = df_numerical.drop(columns=[target_distance_column])"
      ],
      "metadata": {
        "id": "y3OrH_xadk8f"
      },
      "execution_count": 58,
      "outputs": []
    },
    {
      "cell_type": "code",
      "source": [
        "target_block = 'block_5'\n",
        "\n",
        "X = df_numerical.drop(columns=[target_block])\n",
        "y = df_numerical[target_block]\n",
        "\n",
        "X_train, X_test, y_train, y_test = train_test_split(\n",
        "    X, y, test_size=0.2, random_state=42\n",
        ")"
      ],
      "metadata": {
        "id": "omhjEdKJ-s85"
      },
      "execution_count": 59,
      "outputs": []
    },
    {
      "cell_type": "code",
      "source": [
        "knn = KNeighborsClassifier(n_neighbors=26, weights='distance')\n",
        "knn.fit(X_train, y_train)"
      ],
      "metadata": {
        "colab": {
          "base_uri": "https://localhost:8080/",
          "height": 80
        },
        "id": "m565E2yR-usf",
        "outputId": "f1aa1273-dcc1-422f-bf46-d7f7636ce669"
      },
      "execution_count": 60,
      "outputs": [
        {
          "output_type": "execute_result",
          "data": {
            "text/plain": [
              "KNeighborsClassifier(n_neighbors=26, weights='distance')"
            ],
            "text/html": [
              "<style>#sk-container-id-3 {\n",
              "  /* Definition of color scheme common for light and dark mode */\n",
              "  --sklearn-color-text: #000;\n",
              "  --sklearn-color-text-muted: #666;\n",
              "  --sklearn-color-line: gray;\n",
              "  /* Definition of color scheme for unfitted estimators */\n",
              "  --sklearn-color-unfitted-level-0: #fff5e6;\n",
              "  --sklearn-color-unfitted-level-1: #f6e4d2;\n",
              "  --sklearn-color-unfitted-level-2: #ffe0b3;\n",
              "  --sklearn-color-unfitted-level-3: chocolate;\n",
              "  /* Definition of color scheme for fitted estimators */\n",
              "  --sklearn-color-fitted-level-0: #f0f8ff;\n",
              "  --sklearn-color-fitted-level-1: #d4ebff;\n",
              "  --sklearn-color-fitted-level-2: #b3dbfd;\n",
              "  --sklearn-color-fitted-level-3: cornflowerblue;\n",
              "\n",
              "  /* Specific color for light theme */\n",
              "  --sklearn-color-text-on-default-background: var(--sg-text-color, var(--theme-code-foreground, var(--jp-content-font-color1, black)));\n",
              "  --sklearn-color-background: var(--sg-background-color, var(--theme-background, var(--jp-layout-color0, white)));\n",
              "  --sklearn-color-border-box: var(--sg-text-color, var(--theme-code-foreground, var(--jp-content-font-color1, black)));\n",
              "  --sklearn-color-icon: #696969;\n",
              "\n",
              "  @media (prefers-color-scheme: dark) {\n",
              "    /* Redefinition of color scheme for dark theme */\n",
              "    --sklearn-color-text-on-default-background: var(--sg-text-color, var(--theme-code-foreground, var(--jp-content-font-color1, white)));\n",
              "    --sklearn-color-background: var(--sg-background-color, var(--theme-background, var(--jp-layout-color0, #111)));\n",
              "    --sklearn-color-border-box: var(--sg-text-color, var(--theme-code-foreground, var(--jp-content-font-color1, white)));\n",
              "    --sklearn-color-icon: #878787;\n",
              "  }\n",
              "}\n",
              "\n",
              "#sk-container-id-3 {\n",
              "  color: var(--sklearn-color-text);\n",
              "}\n",
              "\n",
              "#sk-container-id-3 pre {\n",
              "  padding: 0;\n",
              "}\n",
              "\n",
              "#sk-container-id-3 input.sk-hidden--visually {\n",
              "  border: 0;\n",
              "  clip: rect(1px 1px 1px 1px);\n",
              "  clip: rect(1px, 1px, 1px, 1px);\n",
              "  height: 1px;\n",
              "  margin: -1px;\n",
              "  overflow: hidden;\n",
              "  padding: 0;\n",
              "  position: absolute;\n",
              "  width: 1px;\n",
              "}\n",
              "\n",
              "#sk-container-id-3 div.sk-dashed-wrapped {\n",
              "  border: 1px dashed var(--sklearn-color-line);\n",
              "  margin: 0 0.4em 0.5em 0.4em;\n",
              "  box-sizing: border-box;\n",
              "  padding-bottom: 0.4em;\n",
              "  background-color: var(--sklearn-color-background);\n",
              "}\n",
              "\n",
              "#sk-container-id-3 div.sk-container {\n",
              "  /* jupyter's `normalize.less` sets `[hidden] { display: none; }`\n",
              "     but bootstrap.min.css set `[hidden] { display: none !important; }`\n",
              "     so we also need the `!important` here to be able to override the\n",
              "     default hidden behavior on the sphinx rendered scikit-learn.org.\n",
              "     See: https://github.com/scikit-learn/scikit-learn/issues/21755 */\n",
              "  display: inline-block !important;\n",
              "  position: relative;\n",
              "}\n",
              "\n",
              "#sk-container-id-3 div.sk-text-repr-fallback {\n",
              "  display: none;\n",
              "}\n",
              "\n",
              "div.sk-parallel-item,\n",
              "div.sk-serial,\n",
              "div.sk-item {\n",
              "  /* draw centered vertical line to link estimators */\n",
              "  background-image: linear-gradient(var(--sklearn-color-text-on-default-background), var(--sklearn-color-text-on-default-background));\n",
              "  background-size: 2px 100%;\n",
              "  background-repeat: no-repeat;\n",
              "  background-position: center center;\n",
              "}\n",
              "\n",
              "/* Parallel-specific style estimator block */\n",
              "\n",
              "#sk-container-id-3 div.sk-parallel-item::after {\n",
              "  content: \"\";\n",
              "  width: 100%;\n",
              "  border-bottom: 2px solid var(--sklearn-color-text-on-default-background);\n",
              "  flex-grow: 1;\n",
              "}\n",
              "\n",
              "#sk-container-id-3 div.sk-parallel {\n",
              "  display: flex;\n",
              "  align-items: stretch;\n",
              "  justify-content: center;\n",
              "  background-color: var(--sklearn-color-background);\n",
              "  position: relative;\n",
              "}\n",
              "\n",
              "#sk-container-id-3 div.sk-parallel-item {\n",
              "  display: flex;\n",
              "  flex-direction: column;\n",
              "}\n",
              "\n",
              "#sk-container-id-3 div.sk-parallel-item:first-child::after {\n",
              "  align-self: flex-end;\n",
              "  width: 50%;\n",
              "}\n",
              "\n",
              "#sk-container-id-3 div.sk-parallel-item:last-child::after {\n",
              "  align-self: flex-start;\n",
              "  width: 50%;\n",
              "}\n",
              "\n",
              "#sk-container-id-3 div.sk-parallel-item:only-child::after {\n",
              "  width: 0;\n",
              "}\n",
              "\n",
              "/* Serial-specific style estimator block */\n",
              "\n",
              "#sk-container-id-3 div.sk-serial {\n",
              "  display: flex;\n",
              "  flex-direction: column;\n",
              "  align-items: center;\n",
              "  background-color: var(--sklearn-color-background);\n",
              "  padding-right: 1em;\n",
              "  padding-left: 1em;\n",
              "}\n",
              "\n",
              "\n",
              "/* Toggleable style: style used for estimator/Pipeline/ColumnTransformer box that is\n",
              "clickable and can be expanded/collapsed.\n",
              "- Pipeline and ColumnTransformer use this feature and define the default style\n",
              "- Estimators will overwrite some part of the style using the `sk-estimator` class\n",
              "*/\n",
              "\n",
              "/* Pipeline and ColumnTransformer style (default) */\n",
              "\n",
              "#sk-container-id-3 div.sk-toggleable {\n",
              "  /* Default theme specific background. It is overwritten whether we have a\n",
              "  specific estimator or a Pipeline/ColumnTransformer */\n",
              "  background-color: var(--sklearn-color-background);\n",
              "}\n",
              "\n",
              "/* Toggleable label */\n",
              "#sk-container-id-3 label.sk-toggleable__label {\n",
              "  cursor: pointer;\n",
              "  display: flex;\n",
              "  width: 100%;\n",
              "  margin-bottom: 0;\n",
              "  padding: 0.5em;\n",
              "  box-sizing: border-box;\n",
              "  text-align: center;\n",
              "  align-items: start;\n",
              "  justify-content: space-between;\n",
              "  gap: 0.5em;\n",
              "}\n",
              "\n",
              "#sk-container-id-3 label.sk-toggleable__label .caption {\n",
              "  font-size: 0.6rem;\n",
              "  font-weight: lighter;\n",
              "  color: var(--sklearn-color-text-muted);\n",
              "}\n",
              "\n",
              "#sk-container-id-3 label.sk-toggleable__label-arrow:before {\n",
              "  /* Arrow on the left of the label */\n",
              "  content: \"▸\";\n",
              "  float: left;\n",
              "  margin-right: 0.25em;\n",
              "  color: var(--sklearn-color-icon);\n",
              "}\n",
              "\n",
              "#sk-container-id-3 label.sk-toggleable__label-arrow:hover:before {\n",
              "  color: var(--sklearn-color-text);\n",
              "}\n",
              "\n",
              "/* Toggleable content - dropdown */\n",
              "\n",
              "#sk-container-id-3 div.sk-toggleable__content {\n",
              "  max-height: 0;\n",
              "  max-width: 0;\n",
              "  overflow: hidden;\n",
              "  text-align: left;\n",
              "  /* unfitted */\n",
              "  background-color: var(--sklearn-color-unfitted-level-0);\n",
              "}\n",
              "\n",
              "#sk-container-id-3 div.sk-toggleable__content.fitted {\n",
              "  /* fitted */\n",
              "  background-color: var(--sklearn-color-fitted-level-0);\n",
              "}\n",
              "\n",
              "#sk-container-id-3 div.sk-toggleable__content pre {\n",
              "  margin: 0.2em;\n",
              "  border-radius: 0.25em;\n",
              "  color: var(--sklearn-color-text);\n",
              "  /* unfitted */\n",
              "  background-color: var(--sklearn-color-unfitted-level-0);\n",
              "}\n",
              "\n",
              "#sk-container-id-3 div.sk-toggleable__content.fitted pre {\n",
              "  /* unfitted */\n",
              "  background-color: var(--sklearn-color-fitted-level-0);\n",
              "}\n",
              "\n",
              "#sk-container-id-3 input.sk-toggleable__control:checked~div.sk-toggleable__content {\n",
              "  /* Expand drop-down */\n",
              "  max-height: 200px;\n",
              "  max-width: 100%;\n",
              "  overflow: auto;\n",
              "}\n",
              "\n",
              "#sk-container-id-3 input.sk-toggleable__control:checked~label.sk-toggleable__label-arrow:before {\n",
              "  content: \"▾\";\n",
              "}\n",
              "\n",
              "/* Pipeline/ColumnTransformer-specific style */\n",
              "\n",
              "#sk-container-id-3 div.sk-label input.sk-toggleable__control:checked~label.sk-toggleable__label {\n",
              "  color: var(--sklearn-color-text);\n",
              "  background-color: var(--sklearn-color-unfitted-level-2);\n",
              "}\n",
              "\n",
              "#sk-container-id-3 div.sk-label.fitted input.sk-toggleable__control:checked~label.sk-toggleable__label {\n",
              "  background-color: var(--sklearn-color-fitted-level-2);\n",
              "}\n",
              "\n",
              "/* Estimator-specific style */\n",
              "\n",
              "/* Colorize estimator box */\n",
              "#sk-container-id-3 div.sk-estimator input.sk-toggleable__control:checked~label.sk-toggleable__label {\n",
              "  /* unfitted */\n",
              "  background-color: var(--sklearn-color-unfitted-level-2);\n",
              "}\n",
              "\n",
              "#sk-container-id-3 div.sk-estimator.fitted input.sk-toggleable__control:checked~label.sk-toggleable__label {\n",
              "  /* fitted */\n",
              "  background-color: var(--sklearn-color-fitted-level-2);\n",
              "}\n",
              "\n",
              "#sk-container-id-3 div.sk-label label.sk-toggleable__label,\n",
              "#sk-container-id-3 div.sk-label label {\n",
              "  /* The background is the default theme color */\n",
              "  color: var(--sklearn-color-text-on-default-background);\n",
              "}\n",
              "\n",
              "/* On hover, darken the color of the background */\n",
              "#sk-container-id-3 div.sk-label:hover label.sk-toggleable__label {\n",
              "  color: var(--sklearn-color-text);\n",
              "  background-color: var(--sklearn-color-unfitted-level-2);\n",
              "}\n",
              "\n",
              "/* Label box, darken color on hover, fitted */\n",
              "#sk-container-id-3 div.sk-label.fitted:hover label.sk-toggleable__label.fitted {\n",
              "  color: var(--sklearn-color-text);\n",
              "  background-color: var(--sklearn-color-fitted-level-2);\n",
              "}\n",
              "\n",
              "/* Estimator label */\n",
              "\n",
              "#sk-container-id-3 div.sk-label label {\n",
              "  font-family: monospace;\n",
              "  font-weight: bold;\n",
              "  display: inline-block;\n",
              "  line-height: 1.2em;\n",
              "}\n",
              "\n",
              "#sk-container-id-3 div.sk-label-container {\n",
              "  text-align: center;\n",
              "}\n",
              "\n",
              "/* Estimator-specific */\n",
              "#sk-container-id-3 div.sk-estimator {\n",
              "  font-family: monospace;\n",
              "  border: 1px dotted var(--sklearn-color-border-box);\n",
              "  border-radius: 0.25em;\n",
              "  box-sizing: border-box;\n",
              "  margin-bottom: 0.5em;\n",
              "  /* unfitted */\n",
              "  background-color: var(--sklearn-color-unfitted-level-0);\n",
              "}\n",
              "\n",
              "#sk-container-id-3 div.sk-estimator.fitted {\n",
              "  /* fitted */\n",
              "  background-color: var(--sklearn-color-fitted-level-0);\n",
              "}\n",
              "\n",
              "/* on hover */\n",
              "#sk-container-id-3 div.sk-estimator:hover {\n",
              "  /* unfitted */\n",
              "  background-color: var(--sklearn-color-unfitted-level-2);\n",
              "}\n",
              "\n",
              "#sk-container-id-3 div.sk-estimator.fitted:hover {\n",
              "  /* fitted */\n",
              "  background-color: var(--sklearn-color-fitted-level-2);\n",
              "}\n",
              "\n",
              "/* Specification for estimator info (e.g. \"i\" and \"?\") */\n",
              "\n",
              "/* Common style for \"i\" and \"?\" */\n",
              "\n",
              ".sk-estimator-doc-link,\n",
              "a:link.sk-estimator-doc-link,\n",
              "a:visited.sk-estimator-doc-link {\n",
              "  float: right;\n",
              "  font-size: smaller;\n",
              "  line-height: 1em;\n",
              "  font-family: monospace;\n",
              "  background-color: var(--sklearn-color-background);\n",
              "  border-radius: 1em;\n",
              "  height: 1em;\n",
              "  width: 1em;\n",
              "  text-decoration: none !important;\n",
              "  margin-left: 0.5em;\n",
              "  text-align: center;\n",
              "  /* unfitted */\n",
              "  border: var(--sklearn-color-unfitted-level-1) 1pt solid;\n",
              "  color: var(--sklearn-color-unfitted-level-1);\n",
              "}\n",
              "\n",
              ".sk-estimator-doc-link.fitted,\n",
              "a:link.sk-estimator-doc-link.fitted,\n",
              "a:visited.sk-estimator-doc-link.fitted {\n",
              "  /* fitted */\n",
              "  border: var(--sklearn-color-fitted-level-1) 1pt solid;\n",
              "  color: var(--sklearn-color-fitted-level-1);\n",
              "}\n",
              "\n",
              "/* On hover */\n",
              "div.sk-estimator:hover .sk-estimator-doc-link:hover,\n",
              ".sk-estimator-doc-link:hover,\n",
              "div.sk-label-container:hover .sk-estimator-doc-link:hover,\n",
              ".sk-estimator-doc-link:hover {\n",
              "  /* unfitted */\n",
              "  background-color: var(--sklearn-color-unfitted-level-3);\n",
              "  color: var(--sklearn-color-background);\n",
              "  text-decoration: none;\n",
              "}\n",
              "\n",
              "div.sk-estimator.fitted:hover .sk-estimator-doc-link.fitted:hover,\n",
              ".sk-estimator-doc-link.fitted:hover,\n",
              "div.sk-label-container:hover .sk-estimator-doc-link.fitted:hover,\n",
              ".sk-estimator-doc-link.fitted:hover {\n",
              "  /* fitted */\n",
              "  background-color: var(--sklearn-color-fitted-level-3);\n",
              "  color: var(--sklearn-color-background);\n",
              "  text-decoration: none;\n",
              "}\n",
              "\n",
              "/* Span, style for the box shown on hovering the info icon */\n",
              ".sk-estimator-doc-link span {\n",
              "  display: none;\n",
              "  z-index: 9999;\n",
              "  position: relative;\n",
              "  font-weight: normal;\n",
              "  right: .2ex;\n",
              "  padding: .5ex;\n",
              "  margin: .5ex;\n",
              "  width: min-content;\n",
              "  min-width: 20ex;\n",
              "  max-width: 50ex;\n",
              "  color: var(--sklearn-color-text);\n",
              "  box-shadow: 2pt 2pt 4pt #999;\n",
              "  /* unfitted */\n",
              "  background: var(--sklearn-color-unfitted-level-0);\n",
              "  border: .5pt solid var(--sklearn-color-unfitted-level-3);\n",
              "}\n",
              "\n",
              ".sk-estimator-doc-link.fitted span {\n",
              "  /* fitted */\n",
              "  background: var(--sklearn-color-fitted-level-0);\n",
              "  border: var(--sklearn-color-fitted-level-3);\n",
              "}\n",
              "\n",
              ".sk-estimator-doc-link:hover span {\n",
              "  display: block;\n",
              "}\n",
              "\n",
              "/* \"?\"-specific style due to the `<a>` HTML tag */\n",
              "\n",
              "#sk-container-id-3 a.estimator_doc_link {\n",
              "  float: right;\n",
              "  font-size: 1rem;\n",
              "  line-height: 1em;\n",
              "  font-family: monospace;\n",
              "  background-color: var(--sklearn-color-background);\n",
              "  border-radius: 1rem;\n",
              "  height: 1rem;\n",
              "  width: 1rem;\n",
              "  text-decoration: none;\n",
              "  /* unfitted */\n",
              "  color: var(--sklearn-color-unfitted-level-1);\n",
              "  border: var(--sklearn-color-unfitted-level-1) 1pt solid;\n",
              "}\n",
              "\n",
              "#sk-container-id-3 a.estimator_doc_link.fitted {\n",
              "  /* fitted */\n",
              "  border: var(--sklearn-color-fitted-level-1) 1pt solid;\n",
              "  color: var(--sklearn-color-fitted-level-1);\n",
              "}\n",
              "\n",
              "/* On hover */\n",
              "#sk-container-id-3 a.estimator_doc_link:hover {\n",
              "  /* unfitted */\n",
              "  background-color: var(--sklearn-color-unfitted-level-3);\n",
              "  color: var(--sklearn-color-background);\n",
              "  text-decoration: none;\n",
              "}\n",
              "\n",
              "#sk-container-id-3 a.estimator_doc_link.fitted:hover {\n",
              "  /* fitted */\n",
              "  background-color: var(--sklearn-color-fitted-level-3);\n",
              "}\n",
              "</style><div id=\"sk-container-id-3\" class=\"sk-top-container\"><div class=\"sk-text-repr-fallback\"><pre>KNeighborsClassifier(n_neighbors=26, weights=&#x27;distance&#x27;)</pre><b>In a Jupyter environment, please rerun this cell to show the HTML representation or trust the notebook. <br />On GitHub, the HTML representation is unable to render, please try loading this page with nbviewer.org.</b></div><div class=\"sk-container\" hidden><div class=\"sk-item\"><div class=\"sk-estimator fitted sk-toggleable\"><input class=\"sk-toggleable__control sk-hidden--visually\" id=\"sk-estimator-id-3\" type=\"checkbox\" checked><label for=\"sk-estimator-id-3\" class=\"sk-toggleable__label fitted sk-toggleable__label-arrow\"><div><div>KNeighborsClassifier</div></div><div><a class=\"sk-estimator-doc-link fitted\" rel=\"noreferrer\" target=\"_blank\" href=\"https://scikit-learn.org/1.6/modules/generated/sklearn.neighbors.KNeighborsClassifier.html\">?<span>Documentation for KNeighborsClassifier</span></a><span class=\"sk-estimator-doc-link fitted\">i<span>Fitted</span></span></div></label><div class=\"sk-toggleable__content fitted\"><pre>KNeighborsClassifier(n_neighbors=26, weights=&#x27;distance&#x27;)</pre></div> </div></div></div></div>"
            ]
          },
          "metadata": {},
          "execution_count": 60
        }
      ]
    },
    {
      "cell_type": "code",
      "source": [
        "y_pred = knn.predict(X_test)\n",
        "accuracy = accuracy_score(y_test, y_pred)\n",
        "\n",
        "print(f\"KNN model accuracy: {accuracy:.2f}\")"
      ],
      "metadata": {
        "colab": {
          "base_uri": "https://localhost:8080/"
        },
        "id": "a53YivXQ-wUG",
        "outputId": "ba27ac4c-ac94-4782-81ed-f2a4ecee2992"
      },
      "execution_count": 61,
      "outputs": [
        {
          "output_type": "stream",
          "name": "stdout",
          "text": [
            "KNN model accuracy: 0.75\n"
          ]
        }
      ]
    },
    {
      "cell_type": "markdown",
      "source": [
        "# **Neural Network via TensorFlow Predictions**"
      ],
      "metadata": {
        "id": "U3OGhK72B_jw"
      }
    },
    {
      "cell_type": "code",
      "source": [
        "import numpy as np\n",
        "import tensorflow as tf\n",
        "from tensorflow import keras\n",
        "from tensorflow.keras import layers"
      ],
      "metadata": {
        "id": "a7jN-ej9CRhJ"
      },
      "execution_count": 62,
      "outputs": []
    },
    {
      "cell_type": "markdown",
      "source": [
        "# **Data Masking and Test/Train Splits**\n",
        "\n"
      ],
      "metadata": {
        "id": "cZnhdsvD-ZTv"
      }
    },
    {
      "cell_type": "code",
      "source": [
        "def mask_entries(X, mask_candidate_column_indices, missing_val=9, missing_rate=0.1):\n",
        "    print(\"started\")\n",
        "    X_masked = X.copy()\n",
        "    mask = pd.DataFrame(False, index=X.index, columns=X.columns)\n",
        "    print(\"copies made\")\n",
        "\n",
        "    # Randomly selects (missing_rate)% of the data columns provided in mask_candidate_column_indices\n",
        "    #  to \"mask\" (swap out for the missing_val) for each individual data row.\n",
        "    for i in range(X.shape[0]):  # for each row\n",
        "        num_mask = max(1, int(len(mask_candidate_column_indices) * missing_rate))\n",
        "        mask_indices = np.random.choice(mask_candidate_column_indices, num_mask, replace=False)\n",
        "        mask_columns = X.columns[mask_indices]\n",
        "        # print(mask_indices)\n",
        "        X_masked.loc[i, mask_columns] = missing_val\n",
        "        mask.loc[i, mask_columns] = True  # track what was masked\n",
        "\n",
        "    print(\"Exited masking loop\")\n",
        "    return X_masked, mask"
      ],
      "metadata": {
        "id": "WEeQMRgzCx-5"
      },
      "execution_count": 63,
      "outputs": []
    },
    {
      "cell_type": "code",
      "source": [
        "## Parameters --- ##\n",
        "# Percentage of data to mask and ask the model to fill in (0-1):\n",
        "missing_rate = 0.1\n",
        "# The location in the conversion list where the 'unknown' conversion was appended\n",
        "missing_val = len(block_mapping_conversions)-1\n",
        "## -------------- ##\n",
        "\n",
        "# Data prepping\n",
        "X_NN = df_numerical.copy()\n",
        "print(X_NN.shape)\n",
        "\n",
        "# Train/Test splits\n",
        "from sklearn.model_selection import train_test_split\n",
        "X_NN_train, X_NN_test = train_test_split(X_NN, test_size=0.2, random_state=42)\n",
        "\n",
        "# Save current indices from overall list and reset the train/test indices each starting at index 0\n",
        "train_indices = X_NN_train.index.copy()\n",
        "test_indices = X_NN_test.index.copy()\n",
        "X_NN_train = X_NN_train.reset_index(drop=True)\n",
        "X_NN_test = X_NN_test.reset_index(drop=True)\n",
        "\n",
        "# Masking data in each row for prediction later\n",
        "masking_candidates = [col for col in df_numerical.columns if not col.endswith(\"_dist\") and not col.endswith(\"Rot\")]\n",
        "  # exclude rotation values from masking, as well as distance values. Currently it only subs in fake *block ids*, not distances.\n",
        "# masking_candidate_indices = [df_numerical.columns.get_loc(col) for col in masking_candidates]\n",
        "X_NN_train_blocks = X_NN_train[masking_candidates]\n",
        "X_NN_test_blocks = X_NN_test[masking_candidates]\n",
        "\n",
        "# X_NN_train_masked, train_mask = mask_entries(X_NN_train, masking_candidate_indices, missing_val, missing_rate)\n",
        "# X_NN_test_masked, test_mask = mask_entries(X_NN_test, masking_candidate_indices, missing_val, missing_rate)\n",
        "\n",
        "print(\"Training data:\")\n",
        "print(X_NN_train_blocks.shape)\n",
        "\n",
        "print()\n",
        "print(\"Testing data:\")\n",
        "print(X_NN_test_blocks.shape)"
      ],
      "metadata": {
        "colab": {
          "base_uri": "https://localhost:8080/"
        },
        "id": "X0XuxNN1ljyE",
        "outputId": "c011bc89-40c5-4b9c-d705-e2efadfe2da6"
      },
      "execution_count": 64,
      "outputs": [
        {
          "output_type": "stream",
          "name": "stdout",
          "text": [
            "(5547, 7201)\n",
            "Training data:\n",
            "(4437, 3600)\n",
            "\n",
            "Testing data:\n",
            "(1110, 3600)\n"
          ]
        }
      ]
    },
    {
      "cell_type": "code",
      "source": [
        "print(\"Training data:\")\n",
        "print(X_NN_train_blocks)\n",
        "\n",
        "print()\n",
        "print(\"Testing data:\")\n",
        "print(X_NN_test_blocks)"
      ],
      "metadata": {
        "colab": {
          "base_uri": "https://localhost:8080/"
        },
        "id": "K8JEWX-0oaiW",
        "outputId": "4d155108-3287-4bd5-e8be-acbc30532b98"
      },
      "execution_count": 65,
      "outputs": [
        {
          "output_type": "stream",
          "name": "stdout",
          "text": [
            "Training data:\n",
            "      block_1  block_2  block_3  block_4  block_5  block_6  block_7  block_8  \\\n",
            "0           1        1        1        1        1        1        1        1   \n",
            "1           1        1        1        1        1        1        1        6   \n",
            "2           3        3        3        3        3        3        3        3   \n",
            "3           1        1        1        1        1        1        1        1   \n",
            "4           1        1        1        1        1        1        1        1   \n",
            "...       ...      ...      ...      ...      ...      ...      ...      ...   \n",
            "4432        6        6        6        6        6        6        6        6   \n",
            "4433        5        5        5        5        5        5        5        5   \n",
            "4434        5        5        5        5        5        5        5        5   \n",
            "4435        0        0        0        0        0        0        0        0   \n",
            "4436        1        1        1        1        1        1        1        1   \n",
            "\n",
            "      block_9  block_10  ...  block_3591  block_3592  block_3593  block_3594  \\\n",
            "0           1         1  ...           1           4           4           4   \n",
            "1           6         6  ...           4           4           4           4   \n",
            "2           3         3  ...           4           4           4           4   \n",
            "3           1         1  ...           1           1           1           1   \n",
            "4           1         1  ...           1           1           1           1   \n",
            "...       ...       ...  ...         ...         ...         ...         ...   \n",
            "4432        6         6  ...           6           6           6           6   \n",
            "4433        5         5  ...           5           5           5           5   \n",
            "4434        5         5  ...           5           5           5           5   \n",
            "4435        0         0  ...           0           0           0           0   \n",
            "4436        1         1  ...           1           1           1           1   \n",
            "\n",
            "      block_3595  block_3596  block_3597  block_3598  block_3599  block_3600  \n",
            "0              4           4           4           4           4           4  \n",
            "1              4           4           4           4           4           4  \n",
            "2              4           4           4           4           4           4  \n",
            "3              1           1           1           1           1           1  \n",
            "4              1           1           1           1           1           1  \n",
            "...          ...         ...         ...         ...         ...         ...  \n",
            "4432           6           6           6           6           6           6  \n",
            "4433           5           5           5           5           5           5  \n",
            "4434           5           5           5           5           5           5  \n",
            "4435           0           0           0           0           0           0  \n",
            "4436           1           1           1           1           1           1  \n",
            "\n",
            "[4437 rows x 3600 columns]\n",
            "\n",
            "Testing data:\n",
            "      block_1  block_2  block_3  block_4  block_5  block_6  block_7  block_8  \\\n",
            "0           5        5        5        5        5        5        5        5   \n",
            "1           0        0        0        0        0        0        0        0   \n",
            "2           1        1        1        1        1        1        1        1   \n",
            "3           0        0        0        0        0        0        0        0   \n",
            "4           0        0        0        0        0        0        0        0   \n",
            "...       ...      ...      ...      ...      ...      ...      ...      ...   \n",
            "1105        0        0        0        0        0        0        0        0   \n",
            "1106        0        0        0        0        0        0        0        0   \n",
            "1107        0        0        0        0        0        0        0        0   \n",
            "1108        0        0        0        0        0        0        0        0   \n",
            "1109        3        3        3        3        3        3        3        3   \n",
            "\n",
            "      block_9  block_10  ...  block_3591  block_3592  block_3593  block_3594  \\\n",
            "0           5         5  ...           2           2           2           2   \n",
            "1           0         0  ...           6           6           1           1   \n",
            "2           1         1  ...           1           1           1           1   \n",
            "3           0         0  ...           1           1           1           1   \n",
            "4           0         0  ...           0           0           0           0   \n",
            "...       ...       ...  ...         ...         ...         ...         ...   \n",
            "1105        0         0  ...           2           6           6           6   \n",
            "1106        0         0  ...           2           6           6           6   \n",
            "1107        5         5  ...           0           0           0           0   \n",
            "1108        0         0  ...           2           0           0           0   \n",
            "1109        3         3  ...           4           4           4           4   \n",
            "\n",
            "      block_3595  block_3596  block_3597  block_3598  block_3599  block_3600  \n",
            "0              2           2           2           2           2           2  \n",
            "1              1           1           1           1           6           6  \n",
            "2              1           1           1           1           1           1  \n",
            "3              1           1           1           1           1           1  \n",
            "4              0           0           0           2           2           2  \n",
            "...          ...         ...         ...         ...         ...         ...  \n",
            "1105           6           6           6           7           7           7  \n",
            "1106           6           6           6           7           7           7  \n",
            "1107           0           0           0           0           0           0  \n",
            "1108           0           0           0           0           0           0  \n",
            "1109           2           2           2           2           2           2  \n",
            "\n",
            "[1110 rows x 3600 columns]\n"
          ]
        }
      ]
    },
    {
      "cell_type": "markdown",
      "source": [
        "# **TensorFlow Model**"
      ],
      "metadata": {
        "id": "xk6FQYb8_f-2"
      }
    },
    {
      "cell_type": "code",
      "source": [
        "import tensorflow as tf\n",
        "from tensorflow import keras\n",
        "from tensorflow.keras import layers"
      ],
      "metadata": {
        "id": "k3-zd6OY2gYG"
      },
      "execution_count": 66,
      "outputs": []
    },
    {
      "cell_type": "code",
      "source": [
        "X_train_input = X_NN_train_masked.values  # Masked input\n",
        "y_train_target = X_NN_train.values        # Original target\n",
        "\n",
        "X_test_input = X_NN_test_masked.values\n",
        "y_test_target = X_NN_test.values\n",
        "\n",
        "# Model building\n",
        "input_dim = X_train_input.shape[1]\n",
        "\n",
        "model = keras.Sequential([\n",
        "    layers.Input(shape=(input_dim,)),\n",
        "    layers.Dense(2048, activation='relu'),\n",
        "    layers.Dense(1024, activation='relu'),\n",
        "    layers.Dense(512, activation='relu'),\n",
        "    layers.Dense(input_dim)  # output size = input size, no activation\n",
        "])\n",
        "\n",
        "model.summary()\n"
      ],
      "metadata": {
        "id": "GNL0Fl3Y_g_Z",
        "outputId": "21a3c82e-8c05-44f2-8fed-d7b893b654c5",
        "colab": {
          "base_uri": "https://localhost:8080/",
          "height": 257
        }
      },
      "execution_count": 67,
      "outputs": [
        {
          "output_type": "display_data",
          "data": {
            "text/plain": [
              "\u001b[1mModel: \"sequential_3\"\u001b[0m\n"
            ],
            "text/html": [
              "<pre style=\"white-space:pre;overflow-x:auto;line-height:normal;font-family:Menlo,'DejaVu Sans Mono',consolas,'Courier New',monospace\"><span style=\"font-weight: bold\">Model: \"sequential_3\"</span>\n",
              "</pre>\n"
            ]
          },
          "metadata": {}
        },
        {
          "output_type": "display_data",
          "data": {
            "text/plain": [
              "┏━━━━━━━━━━━━━━━━━━━━━━━━━━━━━━━━━┳━━━━━━━━━━━━━━━━━━━━━━━━┳━━━━━━━━━━━━━━━┓\n",
              "┃\u001b[1m \u001b[0m\u001b[1mLayer (type)                   \u001b[0m\u001b[1m \u001b[0m┃\u001b[1m \u001b[0m\u001b[1mOutput Shape          \u001b[0m\u001b[1m \u001b[0m┃\u001b[1m \u001b[0m\u001b[1m      Param #\u001b[0m\u001b[1m \u001b[0m┃\n",
              "┡━━━━━━━━━━━━━━━━━━━━━━━━━━━━━━━━━╇━━━━━━━━━━━━━━━━━━━━━━━━╇━━━━━━━━━━━━━━━┩\n",
              "│ dense_11 (\u001b[38;5;33mDense\u001b[0m)                │ (\u001b[38;5;45mNone\u001b[0m, \u001b[38;5;34m2048\u001b[0m)           │    \u001b[38;5;34m14,749,696\u001b[0m │\n",
              "├─────────────────────────────────┼────────────────────────┼───────────────┤\n",
              "│ dense_12 (\u001b[38;5;33mDense\u001b[0m)                │ (\u001b[38;5;45mNone\u001b[0m, \u001b[38;5;34m1024\u001b[0m)           │     \u001b[38;5;34m2,098,176\u001b[0m │\n",
              "├─────────────────────────────────┼────────────────────────┼───────────────┤\n",
              "│ dense_13 (\u001b[38;5;33mDense\u001b[0m)                │ (\u001b[38;5;45mNone\u001b[0m, \u001b[38;5;34m512\u001b[0m)            │       \u001b[38;5;34m524,800\u001b[0m │\n",
              "├─────────────────────────────────┼────────────────────────┼───────────────┤\n",
              "│ dense_14 (\u001b[38;5;33mDense\u001b[0m)                │ (\u001b[38;5;45mNone\u001b[0m, \u001b[38;5;34m7201\u001b[0m)           │     \u001b[38;5;34m3,694,113\u001b[0m │\n",
              "└─────────────────────────────────┴────────────────────────┴───────────────┘\n"
            ],
            "text/html": [
              "<pre style=\"white-space:pre;overflow-x:auto;line-height:normal;font-family:Menlo,'DejaVu Sans Mono',consolas,'Courier New',monospace\">┏━━━━━━━━━━━━━━━━━━━━━━━━━━━━━━━━━┳━━━━━━━━━━━━━━━━━━━━━━━━┳━━━━━━━━━━━━━━━┓\n",
              "┃<span style=\"font-weight: bold\"> Layer (type)                    </span>┃<span style=\"font-weight: bold\"> Output Shape           </span>┃<span style=\"font-weight: bold\">       Param # </span>┃\n",
              "┡━━━━━━━━━━━━━━━━━━━━━━━━━━━━━━━━━╇━━━━━━━━━━━━━━━━━━━━━━━━╇━━━━━━━━━━━━━━━┩\n",
              "│ dense_11 (<span style=\"color: #0087ff; text-decoration-color: #0087ff\">Dense</span>)                │ (<span style=\"color: #00d7ff; text-decoration-color: #00d7ff\">None</span>, <span style=\"color: #00af00; text-decoration-color: #00af00\">2048</span>)           │    <span style=\"color: #00af00; text-decoration-color: #00af00\">14,749,696</span> │\n",
              "├─────────────────────────────────┼────────────────────────┼───────────────┤\n",
              "│ dense_12 (<span style=\"color: #0087ff; text-decoration-color: #0087ff\">Dense</span>)                │ (<span style=\"color: #00d7ff; text-decoration-color: #00d7ff\">None</span>, <span style=\"color: #00af00; text-decoration-color: #00af00\">1024</span>)           │     <span style=\"color: #00af00; text-decoration-color: #00af00\">2,098,176</span> │\n",
              "├─────────────────────────────────┼────────────────────────┼───────────────┤\n",
              "│ dense_13 (<span style=\"color: #0087ff; text-decoration-color: #0087ff\">Dense</span>)                │ (<span style=\"color: #00d7ff; text-decoration-color: #00d7ff\">None</span>, <span style=\"color: #00af00; text-decoration-color: #00af00\">512</span>)            │       <span style=\"color: #00af00; text-decoration-color: #00af00\">524,800</span> │\n",
              "├─────────────────────────────────┼────────────────────────┼───────────────┤\n",
              "│ dense_14 (<span style=\"color: #0087ff; text-decoration-color: #0087ff\">Dense</span>)                │ (<span style=\"color: #00d7ff; text-decoration-color: #00d7ff\">None</span>, <span style=\"color: #00af00; text-decoration-color: #00af00\">7201</span>)           │     <span style=\"color: #00af00; text-decoration-color: #00af00\">3,694,113</span> │\n",
              "└─────────────────────────────────┴────────────────────────┴───────────────┘\n",
              "</pre>\n"
            ]
          },
          "metadata": {}
        },
        {
          "output_type": "display_data",
          "data": {
            "text/plain": [
              "\u001b[1m Total params: \u001b[0m\u001b[38;5;34m21,066,785\u001b[0m (80.36 MB)\n"
            ],
            "text/html": [
              "<pre style=\"white-space:pre;overflow-x:auto;line-height:normal;font-family:Menlo,'DejaVu Sans Mono',consolas,'Courier New',monospace\"><span style=\"font-weight: bold\"> Total params: </span><span style=\"color: #00af00; text-decoration-color: #00af00\">21,066,785</span> (80.36 MB)\n",
              "</pre>\n"
            ]
          },
          "metadata": {}
        },
        {
          "output_type": "display_data",
          "data": {
            "text/plain": [
              "\u001b[1m Trainable params: \u001b[0m\u001b[38;5;34m21,066,785\u001b[0m (80.36 MB)\n"
            ],
            "text/html": [
              "<pre style=\"white-space:pre;overflow-x:auto;line-height:normal;font-family:Menlo,'DejaVu Sans Mono',consolas,'Courier New',monospace\"><span style=\"font-weight: bold\"> Trainable params: </span><span style=\"color: #00af00; text-decoration-color: #00af00\">21,066,785</span> (80.36 MB)\n",
              "</pre>\n"
            ]
          },
          "metadata": {}
        },
        {
          "output_type": "display_data",
          "data": {
            "text/plain": [
              "\u001b[1m Non-trainable params: \u001b[0m\u001b[38;5;34m0\u001b[0m (0.00 B)\n"
            ],
            "text/html": [
              "<pre style=\"white-space:pre;overflow-x:auto;line-height:normal;font-family:Menlo,'DejaVu Sans Mono',consolas,'Courier New',monospace\"><span style=\"font-weight: bold\"> Non-trainable params: </span><span style=\"color: #00af00; text-decoration-color: #00af00\">0</span> (0.00 B)\n",
              "</pre>\n"
            ]
          },
          "metadata": {}
        }
      ]
    },
    {
      "cell_type": "code",
      "source": [
        "# Define the loss function\n",
        "def masked_mse_loss(y_true, y_pred):\n",
        "    missing_val = 9.0  # whatever you used during masking\n",
        "\n",
        "    # Create a mask: 1 if y_true == missing_val, else 0\n",
        "    mask = tf.cast(tf.equal(y_true, missing_val), dtype=tf.float32)\n",
        "\n",
        "    # Loss only where mask == 1\n",
        "    loss = tf.square(y_true - y_pred) * mask\n",
        "\n",
        "    # Average the loss only over the masked elements\n",
        "    loss_sum = tf.reduce_sum(loss)\n",
        "    num_masked = tf.reduce_sum(mask)\n",
        "\n",
        "    # avoid division by zero\n",
        "    return tf.cond(num_masked > 0, lambda: loss_sum / num_masked, lambda: tf.constant(0.0))\n",
        "\n",
        "# MSE - Penalized for being out of range\n",
        "def masked_mse_with_range_penalty(y_true, y_pred):\n",
        "    missing_val = 9.0\n",
        "    max_block_value = len(block_mapping_conversions) - 1\n",
        "\n",
        "    # Mask: where the ground truth had missing values\n",
        "    mask = tf.cast(tf.equal(y_true, missing_val), dtype=tf.float32)\n",
        "\n",
        "    # Standard MSE Loss only at masked points\n",
        "    mse_loss = tf.square(y_true - y_pred) * mask\n",
        "\n",
        "    # Range penalty: punish predictions outside [0, max_block_value]\n",
        "    lower_violation = tf.nn.relu(0.0 - y_pred)  # how far below 0\n",
        "    upper_violation = tf.nn.relu(y_pred - max_block_value)  # how far above max\n",
        "    range_penalty = (lower_violation + upper_violation) * mask  # only on masked parts\n",
        "\n",
        "    # Sum up both losses\n",
        "    total_loss = tf.reduce_sum(mse_loss) + tf.reduce_sum(range_penalty)\n",
        "\n",
        "    # Average over number of masked entries (avoid divide by 0)\n",
        "    num_masked = tf.reduce_sum(mask)\n",
        "    return tf.cond(num_masked > 0, lambda: total_loss / num_masked, lambda: tf.constant(0.0))\n"
      ],
      "metadata": {
        "id": "LMqcunPY__do"
      },
      "execution_count": 68,
      "outputs": []
    },
    {
      "cell_type": "code",
      "source": [
        "# Compiling the TensorFlow model\n",
        "# model.compile(optimizer='adam', loss=masked_mse_loss)\n",
        "\n",
        "model.compile(optimizer='adam', loss=masked_mse_with_range_penalty)"
      ],
      "metadata": {
        "id": "Dmx4sQr3AHbj"
      },
      "execution_count": 69,
      "outputs": []
    },
    {
      "cell_type": "code",
      "source": [
        "num_blocks = len(block_columns)\n",
        "num_classes = len(block_mapping_conversions)\n",
        "\n",
        "input_dim = X_NN_train_masked.shape[1]\n",
        "\n",
        "model = keras.Sequential([\n",
        "    layers.Input(shape=(input_dim,)),\n",
        "    layers.Dense(2048, activation='relu'),\n",
        "    layers.Dense(1024, activation='relu'),\n",
        "    layers.Dense(num_blocks * num_classes),  # final output\n",
        "    layers.Reshape((num_blocks, num_classes)),  # reshape to (block, class probs)\n",
        "    layers.Softmax(axis=-1)  # apply softmax on classes\n",
        "])\n",
        "\n",
        "model.summary()\n"
      ],
      "metadata": {
        "id": "-A9MkrYdbMDe",
        "outputId": "cf7b7158-cf6a-4c78-eeef-f7d61cdba437",
        "colab": {
          "base_uri": "https://localhost:8080/",
          "height": 289
        }
      },
      "execution_count": 70,
      "outputs": [
        {
          "output_type": "display_data",
          "data": {
            "text/plain": [
              "\u001b[1mModel: \"sequential_4\"\u001b[0m\n"
            ],
            "text/html": [
              "<pre style=\"white-space:pre;overflow-x:auto;line-height:normal;font-family:Menlo,'DejaVu Sans Mono',consolas,'Courier New',monospace\"><span style=\"font-weight: bold\">Model: \"sequential_4\"</span>\n",
              "</pre>\n"
            ]
          },
          "metadata": {}
        },
        {
          "output_type": "display_data",
          "data": {
            "text/plain": [
              "┏━━━━━━━━━━━━━━━━━━━━━━━━━━━━━━━━━┳━━━━━━━━━━━━━━━━━━━━━━━━┳━━━━━━━━━━━━━━━┓\n",
              "┃\u001b[1m \u001b[0m\u001b[1mLayer (type)                   \u001b[0m\u001b[1m \u001b[0m┃\u001b[1m \u001b[0m\u001b[1mOutput Shape          \u001b[0m\u001b[1m \u001b[0m┃\u001b[1m \u001b[0m\u001b[1m      Param #\u001b[0m\u001b[1m \u001b[0m┃\n",
              "┡━━━━━━━━━━━━━━━━━━━━━━━━━━━━━━━━━╇━━━━━━━━━━━━━━━━━━━━━━━━╇━━━━━━━━━━━━━━━┩\n",
              "│ dense_15 (\u001b[38;5;33mDense\u001b[0m)                │ (\u001b[38;5;45mNone\u001b[0m, \u001b[38;5;34m2048\u001b[0m)           │    \u001b[38;5;34m14,749,696\u001b[0m │\n",
              "├─────────────────────────────────┼────────────────────────┼───────────────┤\n",
              "│ dense_16 (\u001b[38;5;33mDense\u001b[0m)                │ (\u001b[38;5;45mNone\u001b[0m, \u001b[38;5;34m1024\u001b[0m)           │     \u001b[38;5;34m2,098,176\u001b[0m │\n",
              "├─────────────────────────────────┼────────────────────────┼───────────────┤\n",
              "│ dense_17 (\u001b[38;5;33mDense\u001b[0m)                │ (\u001b[38;5;45mNone\u001b[0m, \u001b[38;5;34m32400\u001b[0m)          │    \u001b[38;5;34m33,210,000\u001b[0m │\n",
              "├─────────────────────────────────┼────────────────────────┼───────────────┤\n",
              "│ reshape_1 (\u001b[38;5;33mReshape\u001b[0m)             │ (\u001b[38;5;45mNone\u001b[0m, \u001b[38;5;34m3600\u001b[0m, \u001b[38;5;34m9\u001b[0m)        │             \u001b[38;5;34m0\u001b[0m │\n",
              "├─────────────────────────────────┼────────────────────────┼───────────────┤\n",
              "│ softmax_1 (\u001b[38;5;33mSoftmax\u001b[0m)             │ (\u001b[38;5;45mNone\u001b[0m, \u001b[38;5;34m3600\u001b[0m, \u001b[38;5;34m9\u001b[0m)        │             \u001b[38;5;34m0\u001b[0m │\n",
              "└─────────────────────────────────┴────────────────────────┴───────────────┘\n"
            ],
            "text/html": [
              "<pre style=\"white-space:pre;overflow-x:auto;line-height:normal;font-family:Menlo,'DejaVu Sans Mono',consolas,'Courier New',monospace\">┏━━━━━━━━━━━━━━━━━━━━━━━━━━━━━━━━━┳━━━━━━━━━━━━━━━━━━━━━━━━┳━━━━━━━━━━━━━━━┓\n",
              "┃<span style=\"font-weight: bold\"> Layer (type)                    </span>┃<span style=\"font-weight: bold\"> Output Shape           </span>┃<span style=\"font-weight: bold\">       Param # </span>┃\n",
              "┡━━━━━━━━━━━━━━━━━━━━━━━━━━━━━━━━━╇━━━━━━━━━━━━━━━━━━━━━━━━╇━━━━━━━━━━━━━━━┩\n",
              "│ dense_15 (<span style=\"color: #0087ff; text-decoration-color: #0087ff\">Dense</span>)                │ (<span style=\"color: #00d7ff; text-decoration-color: #00d7ff\">None</span>, <span style=\"color: #00af00; text-decoration-color: #00af00\">2048</span>)           │    <span style=\"color: #00af00; text-decoration-color: #00af00\">14,749,696</span> │\n",
              "├─────────────────────────────────┼────────────────────────┼───────────────┤\n",
              "│ dense_16 (<span style=\"color: #0087ff; text-decoration-color: #0087ff\">Dense</span>)                │ (<span style=\"color: #00d7ff; text-decoration-color: #00d7ff\">None</span>, <span style=\"color: #00af00; text-decoration-color: #00af00\">1024</span>)           │     <span style=\"color: #00af00; text-decoration-color: #00af00\">2,098,176</span> │\n",
              "├─────────────────────────────────┼────────────────────────┼───────────────┤\n",
              "│ dense_17 (<span style=\"color: #0087ff; text-decoration-color: #0087ff\">Dense</span>)                │ (<span style=\"color: #00d7ff; text-decoration-color: #00d7ff\">None</span>, <span style=\"color: #00af00; text-decoration-color: #00af00\">32400</span>)          │    <span style=\"color: #00af00; text-decoration-color: #00af00\">33,210,000</span> │\n",
              "├─────────────────────────────────┼────────────────────────┼───────────────┤\n",
              "│ reshape_1 (<span style=\"color: #0087ff; text-decoration-color: #0087ff\">Reshape</span>)             │ (<span style=\"color: #00d7ff; text-decoration-color: #00d7ff\">None</span>, <span style=\"color: #00af00; text-decoration-color: #00af00\">3600</span>, <span style=\"color: #00af00; text-decoration-color: #00af00\">9</span>)        │             <span style=\"color: #00af00; text-decoration-color: #00af00\">0</span> │\n",
              "├─────────────────────────────────┼────────────────────────┼───────────────┤\n",
              "│ softmax_1 (<span style=\"color: #0087ff; text-decoration-color: #0087ff\">Softmax</span>)             │ (<span style=\"color: #00d7ff; text-decoration-color: #00d7ff\">None</span>, <span style=\"color: #00af00; text-decoration-color: #00af00\">3600</span>, <span style=\"color: #00af00; text-decoration-color: #00af00\">9</span>)        │             <span style=\"color: #00af00; text-decoration-color: #00af00\">0</span> │\n",
              "└─────────────────────────────────┴────────────────────────┴───────────────┘\n",
              "</pre>\n"
            ]
          },
          "metadata": {}
        },
        {
          "output_type": "display_data",
          "data": {
            "text/plain": [
              "\u001b[1m Total params: \u001b[0m\u001b[38;5;34m50,057,872\u001b[0m (190.96 MB)\n"
            ],
            "text/html": [
              "<pre style=\"white-space:pre;overflow-x:auto;line-height:normal;font-family:Menlo,'DejaVu Sans Mono',consolas,'Courier New',monospace\"><span style=\"font-weight: bold\"> Total params: </span><span style=\"color: #00af00; text-decoration-color: #00af00\">50,057,872</span> (190.96 MB)\n",
              "</pre>\n"
            ]
          },
          "metadata": {}
        },
        {
          "output_type": "display_data",
          "data": {
            "text/plain": [
              "\u001b[1m Trainable params: \u001b[0m\u001b[38;5;34m50,057,872\u001b[0m (190.96 MB)\n"
            ],
            "text/html": [
              "<pre style=\"white-space:pre;overflow-x:auto;line-height:normal;font-family:Menlo,'DejaVu Sans Mono',consolas,'Courier New',monospace\"><span style=\"font-weight: bold\"> Trainable params: </span><span style=\"color: #00af00; text-decoration-color: #00af00\">50,057,872</span> (190.96 MB)\n",
              "</pre>\n"
            ]
          },
          "metadata": {}
        },
        {
          "output_type": "display_data",
          "data": {
            "text/plain": [
              "\u001b[1m Non-trainable params: \u001b[0m\u001b[38;5;34m0\u001b[0m (0.00 B)\n"
            ],
            "text/html": [
              "<pre style=\"white-space:pre;overflow-x:auto;line-height:normal;font-family:Menlo,'DejaVu Sans Mono',consolas,'Courier New',monospace\"><span style=\"font-weight: bold\"> Non-trainable params: </span><span style=\"color: #00af00; text-decoration-color: #00af00\">0</span> (0.00 B)\n",
              "</pre>\n"
            ]
          },
          "metadata": {}
        }
      ]
    },
    {
      "cell_type": "code",
      "source": [
        "def masked_sparse_categorical_crossentropy(y_true, y_pred):\n",
        "    missing_val = len(block_mapping_conversions)-1  # your masking value\n",
        "\n",
        "    # y_true shape: (batch_size, num_blocks)\n",
        "    # y_pred shape: (batch_size, num_blocks, num_classes)\n",
        "\n",
        "    # Create mask: where y_true == missing_val\n",
        "    mask = tf.cast(tf.not_equal(y_true, missing_val), dtype=tf.float32)  # note NOT_EQUAL because masked parts were originally missing\n",
        "    loss = tf.keras.losses.sparse_categorical_crossentropy(y_true, y_pred)\n",
        "\n",
        "    loss = loss * mask  # apply mask\n",
        "\n",
        "    total_loss = tf.reduce_sum(loss)\n",
        "    num_masked = tf.reduce_sum(mask)\n",
        "\n",
        "    return tf.cond(num_masked > 0, lambda: total_loss / num_masked, lambda: tf.constant(0.0))\n"
      ],
      "metadata": {
        "id": "lJ0NABMQbTZs"
      },
      "execution_count": 71,
      "outputs": []
    },
    {
      "cell_type": "code",
      "source": [
        "model.compile(optimizer='adam', loss=masked_sparse_categorical_crossentropy)"
      ],
      "metadata": {
        "id": "Op4YksQRbieC"
      },
      "execution_count": 72,
      "outputs": []
    },
    {
      "cell_type": "code",
      "source": [
        "history = model.fit(\n",
        "    X_NN_train_masked.values,\n",
        "    X_NN_train_blocks.values,  # Only the block_x columns!\n",
        "    validation_data=(X_NN_test_masked.values, X_NN_test_blocks.values),\n",
        "    epochs=50,\n",
        "    batch_size=32\n",
        ")"
      ],
      "metadata": {
        "id": "oamjkvmabmBi",
        "outputId": "dfdb62a9-79b4-426a-8065-a521fd496e6c",
        "colab": {
          "base_uri": "https://localhost:8080/"
        }
      },
      "execution_count": 73,
      "outputs": [
        {
          "output_type": "stream",
          "name": "stdout",
          "text": [
            "Epoch 1/50\n",
            "\u001b[1m139/139\u001b[0m \u001b[32m━━━━━━━━━━━━━━━━━━━━\u001b[0m\u001b[37m\u001b[0m \u001b[1m5s\u001b[0m 23ms/step - loss: 2.2046 - val_loss: 0.0000e+00\n",
            "Epoch 2/50\n",
            "\u001b[1m139/139\u001b[0m \u001b[32m━━━━━━━━━━━━━━━━━━━━\u001b[0m\u001b[37m\u001b[0m \u001b[1m3s\u001b[0m 14ms/step - loss: 1.7915 - val_loss: 0.0000e+00\n",
            "Epoch 3/50\n",
            "\u001b[1m139/139\u001b[0m \u001b[32m━━━━━━━━━━━━━━━━━━━━\u001b[0m\u001b[37m\u001b[0m \u001b[1m2s\u001b[0m 16ms/step - loss: 1.7435 - val_loss: 0.0000e+00\n",
            "Epoch 4/50\n",
            "\u001b[1m139/139\u001b[0m \u001b[32m━━━━━━━━━━━━━━━━━━━━\u001b[0m\u001b[37m\u001b[0m \u001b[1m2s\u001b[0m 14ms/step - loss: 1.6527 - val_loss: 0.0000e+00\n",
            "Epoch 5/50\n",
            "\u001b[1m139/139\u001b[0m \u001b[32m━━━━━━━━━━━━━━━━━━━━\u001b[0m\u001b[37m\u001b[0m \u001b[1m3s\u001b[0m 14ms/step - loss: 1.6211 - val_loss: 0.0000e+00\n",
            "Epoch 6/50\n",
            "\u001b[1m139/139\u001b[0m \u001b[32m━━━━━━━━━━━━━━━━━━━━\u001b[0m\u001b[37m\u001b[0m \u001b[1m3s\u001b[0m 14ms/step - loss: 1.6074 - val_loss: 0.0000e+00\n",
            "Epoch 7/50\n",
            "\u001b[1m139/139\u001b[0m \u001b[32m━━━━━━━━━━━━━━━━━━━━\u001b[0m\u001b[37m\u001b[0m \u001b[1m3s\u001b[0m 14ms/step - loss: 1.5623 - val_loss: 0.0000e+00\n",
            "Epoch 8/50\n",
            "\u001b[1m139/139\u001b[0m \u001b[32m━━━━━━━━━━━━━━━━━━━━\u001b[0m\u001b[37m\u001b[0m \u001b[1m2s\u001b[0m 14ms/step - loss: 1.5170 - val_loss: 0.0000e+00\n",
            "Epoch 9/50\n",
            "\u001b[1m139/139\u001b[0m \u001b[32m━━━━━━━━━━━━━━━━━━━━\u001b[0m\u001b[37m\u001b[0m \u001b[1m3s\u001b[0m 14ms/step - loss: 1.4789 - val_loss: 0.0000e+00\n",
            "Epoch 10/50\n",
            "\u001b[1m139/139\u001b[0m \u001b[32m━━━━━━━━━━━━━━━━━━━━\u001b[0m\u001b[37m\u001b[0m \u001b[1m2s\u001b[0m 14ms/step - loss: 1.4374 - val_loss: 0.0000e+00\n",
            "Epoch 11/50\n",
            "\u001b[1m139/139\u001b[0m \u001b[32m━━━━━━━━━━━━━━━━━━━━\u001b[0m\u001b[37m\u001b[0m \u001b[1m3s\u001b[0m 14ms/step - loss: 1.4382 - val_loss: 0.0000e+00\n",
            "Epoch 12/50\n",
            "\u001b[1m139/139\u001b[0m \u001b[32m━━━━━━━━━━━━━━━━━━━━\u001b[0m\u001b[37m\u001b[0m \u001b[1m3s\u001b[0m 14ms/step - loss: 1.4096 - val_loss: 0.0000e+00\n",
            "Epoch 13/50\n",
            "\u001b[1m139/139\u001b[0m \u001b[32m━━━━━━━━━━━━━━━━━━━━\u001b[0m\u001b[37m\u001b[0m \u001b[1m3s\u001b[0m 16ms/step - loss: 1.4017 - val_loss: 0.0000e+00\n",
            "Epoch 14/50\n",
            "\u001b[1m139/139\u001b[0m \u001b[32m━━━━━━━━━━━━━━━━━━━━\u001b[0m\u001b[37m\u001b[0m \u001b[1m2s\u001b[0m 14ms/step - loss: 1.3893 - val_loss: 0.0000e+00\n",
            "Epoch 15/50\n",
            "\u001b[1m139/139\u001b[0m \u001b[32m━━━━━━━━━━━━━━━━━━━━\u001b[0m\u001b[37m\u001b[0m \u001b[1m2s\u001b[0m 14ms/step - loss: 1.3468 - val_loss: 0.0000e+00\n",
            "Epoch 16/50\n",
            "\u001b[1m139/139\u001b[0m \u001b[32m━━━━━━━━━━━━━━━━━━━━\u001b[0m\u001b[37m\u001b[0m \u001b[1m2s\u001b[0m 14ms/step - loss: 1.2986 - val_loss: 0.0000e+00\n",
            "Epoch 17/50\n",
            "\u001b[1m139/139\u001b[0m \u001b[32m━━━━━━━━━━━━━━━━━━━━\u001b[0m\u001b[37m\u001b[0m \u001b[1m2s\u001b[0m 14ms/step - loss: 1.3358 - val_loss: 0.0000e+00\n",
            "Epoch 18/50\n",
            "\u001b[1m139/139\u001b[0m \u001b[32m━━━━━━━━━━━━━━━━━━━━\u001b[0m\u001b[37m\u001b[0m \u001b[1m2s\u001b[0m 15ms/step - loss: 1.3192 - val_loss: 0.0000e+00\n",
            "Epoch 19/50\n",
            "\u001b[1m139/139\u001b[0m \u001b[32m━━━━━━━━━━━━━━━━━━━━\u001b[0m\u001b[37m\u001b[0m \u001b[1m2s\u001b[0m 14ms/step - loss: 1.3544 - val_loss: 0.0000e+00\n",
            "Epoch 20/50\n",
            "\u001b[1m139/139\u001b[0m \u001b[32m━━━━━━━━━━━━━━━━━━━━\u001b[0m\u001b[37m\u001b[0m \u001b[1m2s\u001b[0m 14ms/step - loss: 1.3036 - val_loss: 0.0000e+00\n",
            "Epoch 21/50\n",
            "\u001b[1m139/139\u001b[0m \u001b[32m━━━━━━━━━━━━━━━━━━━━\u001b[0m\u001b[37m\u001b[0m \u001b[1m3s\u001b[0m 14ms/step - loss: 1.2694 - val_loss: 0.0000e+00\n",
            "Epoch 22/50\n",
            "\u001b[1m139/139\u001b[0m \u001b[32m━━━━━━━━━━━━━━━━━━━━\u001b[0m\u001b[37m\u001b[0m \u001b[1m3s\u001b[0m 14ms/step - loss: 1.2365 - val_loss: 0.0000e+00\n",
            "Epoch 23/50\n",
            "\u001b[1m139/139\u001b[0m \u001b[32m━━━━━━━━━━━━━━━━━━━━\u001b[0m\u001b[37m\u001b[0m \u001b[1m2s\u001b[0m 14ms/step - loss: 1.2621 - val_loss: 0.0000e+00\n",
            "Epoch 24/50\n",
            "\u001b[1m139/139\u001b[0m \u001b[32m━━━━━━━━━━━━━━━━━━━━\u001b[0m\u001b[37m\u001b[0m \u001b[1m3s\u001b[0m 15ms/step - loss: 1.2703 - val_loss: 0.0000e+00\n",
            "Epoch 25/50\n",
            "\u001b[1m139/139\u001b[0m \u001b[32m━━━━━━━━━━━━━━━━━━━━\u001b[0m\u001b[37m\u001b[0m \u001b[1m2s\u001b[0m 14ms/step - loss: 1.2046 - val_loss: 0.0000e+00\n",
            "Epoch 26/50\n",
            "\u001b[1m139/139\u001b[0m \u001b[32m━━━━━━━━━━━━━━━━━━━━\u001b[0m\u001b[37m\u001b[0m \u001b[1m3s\u001b[0m 14ms/step - loss: 1.2439 - val_loss: 0.0000e+00\n",
            "Epoch 27/50\n",
            "\u001b[1m139/139\u001b[0m \u001b[32m━━━━━━━━━━━━━━━━━━━━\u001b[0m\u001b[37m\u001b[0m \u001b[1m2s\u001b[0m 14ms/step - loss: 1.2020 - val_loss: 0.0000e+00\n",
            "Epoch 28/50\n",
            "\u001b[1m139/139\u001b[0m \u001b[32m━━━━━━━━━━━━━━━━━━━━\u001b[0m\u001b[37m\u001b[0m \u001b[1m2s\u001b[0m 14ms/step - loss: 1.1844 - val_loss: 0.0000e+00\n",
            "Epoch 29/50\n",
            "\u001b[1m139/139\u001b[0m \u001b[32m━━━━━━━━━━━━━━━━━━━━\u001b[0m\u001b[37m\u001b[0m \u001b[1m3s\u001b[0m 14ms/step - loss: 1.1906 - val_loss: 0.0000e+00\n",
            "Epoch 30/50\n",
            "\u001b[1m139/139\u001b[0m \u001b[32m━━━━━━━━━━━━━━━━━━━━\u001b[0m\u001b[37m\u001b[0m \u001b[1m2s\u001b[0m 14ms/step - loss: 1.2191 - val_loss: 0.0000e+00\n",
            "Epoch 31/50\n",
            "\u001b[1m139/139\u001b[0m \u001b[32m━━━━━━━━━━━━━━━━━━━━\u001b[0m\u001b[37m\u001b[0m \u001b[1m2s\u001b[0m 14ms/step - loss: 1.1551 - val_loss: 0.0000e+00\n",
            "Epoch 32/50\n",
            "\u001b[1m139/139\u001b[0m \u001b[32m━━━━━━━━━━━━━━━━━━━━\u001b[0m\u001b[37m\u001b[0m \u001b[1m3s\u001b[0m 14ms/step - loss: 1.1419 - val_loss: 0.0000e+00\n",
            "Epoch 33/50\n",
            "\u001b[1m139/139\u001b[0m \u001b[32m━━━━━━━━━━━━━━━━━━━━\u001b[0m\u001b[37m\u001b[0m \u001b[1m3s\u001b[0m 14ms/step - loss: 1.1670 - val_loss: 0.0000e+00\n",
            "Epoch 34/50\n",
            "\u001b[1m139/139\u001b[0m \u001b[32m━━━━━━━━━━━━━━━━━━━━\u001b[0m\u001b[37m\u001b[0m \u001b[1m3s\u001b[0m 15ms/step - loss: 1.1434 - val_loss: 0.0000e+00\n",
            "Epoch 35/50\n",
            "\u001b[1m139/139\u001b[0m \u001b[32m━━━━━━━━━━━━━━━━━━━━\u001b[0m\u001b[37m\u001b[0m \u001b[1m2s\u001b[0m 14ms/step - loss: 1.1281 - val_loss: 0.0000e+00\n",
            "Epoch 36/50\n",
            "\u001b[1m139/139\u001b[0m \u001b[32m━━━━━━━━━━━━━━━━━━━━\u001b[0m\u001b[37m\u001b[0m \u001b[1m2s\u001b[0m 14ms/step - loss: 1.1059 - val_loss: 0.0000e+00\n",
            "Epoch 37/50\n",
            "\u001b[1m139/139\u001b[0m \u001b[32m━━━━━━━━━━━━━━━━━━━━\u001b[0m\u001b[37m\u001b[0m \u001b[1m3s\u001b[0m 14ms/step - loss: 1.0717 - val_loss: 0.0000e+00\n",
            "Epoch 38/50\n",
            "\u001b[1m139/139\u001b[0m \u001b[32m━━━━━━━━━━━━━━━━━━━━\u001b[0m\u001b[37m\u001b[0m \u001b[1m3s\u001b[0m 14ms/step - loss: 1.1183 - val_loss: 0.0000e+00\n",
            "Epoch 39/50\n",
            "\u001b[1m139/139\u001b[0m \u001b[32m━━━━━━━━━━━━━━━━━━━━\u001b[0m\u001b[37m\u001b[0m \u001b[1m3s\u001b[0m 15ms/step - loss: 1.0793 - val_loss: 0.0000e+00\n",
            "Epoch 40/50\n",
            "\u001b[1m139/139\u001b[0m \u001b[32m━━━━━━━━━━━━━━━━━━━━\u001b[0m\u001b[37m\u001b[0m \u001b[1m2s\u001b[0m 14ms/step - loss: 1.0750 - val_loss: 0.0000e+00\n",
            "Epoch 41/50\n",
            "\u001b[1m139/139\u001b[0m \u001b[32m━━━━━━━━━━━━━━━━━━━━\u001b[0m\u001b[37m\u001b[0m \u001b[1m2s\u001b[0m 14ms/step - loss: 1.0674 - val_loss: 0.0000e+00\n",
            "Epoch 42/50\n",
            "\u001b[1m139/139\u001b[0m \u001b[32m━━━━━━━━━━━━━━━━━━━━\u001b[0m\u001b[37m\u001b[0m \u001b[1m2s\u001b[0m 14ms/step - loss: 1.0641 - val_loss: 0.0000e+00\n",
            "Epoch 43/50\n",
            "\u001b[1m139/139\u001b[0m \u001b[32m━━━━━━━━━━━━━━━━━━━━\u001b[0m\u001b[37m\u001b[0m \u001b[1m3s\u001b[0m 14ms/step - loss: 1.0500 - val_loss: 0.0000e+00\n",
            "Epoch 44/50\n",
            "\u001b[1m139/139\u001b[0m \u001b[32m━━━━━━━━━━━━━━━━━━━━\u001b[0m\u001b[37m\u001b[0m \u001b[1m3s\u001b[0m 15ms/step - loss: 1.0192 - val_loss: 0.0000e+00\n",
            "Epoch 45/50\n",
            "\u001b[1m139/139\u001b[0m \u001b[32m━━━━━━━━━━━━━━━━━━━━\u001b[0m\u001b[37m\u001b[0m \u001b[1m2s\u001b[0m 14ms/step - loss: 1.0921 - val_loss: 0.0000e+00\n",
            "Epoch 46/50\n",
            "\u001b[1m139/139\u001b[0m \u001b[32m━━━━━━━━━━━━━━━━━━━━\u001b[0m\u001b[37m\u001b[0m \u001b[1m2s\u001b[0m 14ms/step - loss: 1.0326 - val_loss: 0.0000e+00\n",
            "Epoch 47/50\n",
            "\u001b[1m139/139\u001b[0m \u001b[32m━━━━━━━━━━━━━━━━━━━━\u001b[0m\u001b[37m\u001b[0m \u001b[1m2s\u001b[0m 14ms/step - loss: 1.0286 - val_loss: 0.0000e+00\n",
            "Epoch 48/50\n",
            "\u001b[1m139/139\u001b[0m \u001b[32m━━━━━━━━━━━━━━━━━━━━\u001b[0m\u001b[37m\u001b[0m \u001b[1m3s\u001b[0m 14ms/step - loss: 1.0122 - val_loss: 0.0000e+00\n",
            "Epoch 49/50\n",
            "\u001b[1m139/139\u001b[0m \u001b[32m━━━━━━━━━━━━━━━━━━━━\u001b[0m\u001b[37m\u001b[0m \u001b[1m3s\u001b[0m 14ms/step - loss: 1.0367 - val_loss: 0.0000e+00\n",
            "Epoch 50/50\n",
            "\u001b[1m139/139\u001b[0m \u001b[32m━━━━━━━━━━━━━━━━━━━━\u001b[0m\u001b[37m\u001b[0m \u001b[1m3s\u001b[0m 14ms/step - loss: 1.0032 - val_loss: 0.0000e+00\n"
          ]
        }
      ]
    },
    {
      "cell_type": "code",
      "source": [
        "# applying the model to make our predictions\n",
        "predictions = model.predict(X_test_input)"
      ],
      "metadata": {
        "id": "N1GbCar4AT7c",
        "outputId": "f90fd79e-bc24-48ea-bb03-ee39fa9c02b8",
        "colab": {
          "base_uri": "https://localhost:8080/"
        }
      },
      "execution_count": 74,
      "outputs": [
        {
          "output_type": "stream",
          "name": "stdout",
          "text": [
            "\u001b[1m35/35\u001b[0m \u001b[32m━━━━━━━━━━━━━━━━━━━━\u001b[0m\u001b[37m\u001b[0m \u001b[1m1s\u001b[0m 11ms/step\n"
          ]
        }
      ]
    },
    {
      "cell_type": "code",
      "source": [
        "# 1. Predict\n",
        "predictions = model.predict(X_NN_test_masked.values)\n",
        "\n",
        "# 2. Get classes\n",
        "predicted_classes = predictions.argmax(axis=-1)\n",
        "\n",
        "# 3. Get true classes\n",
        "true_classes = X_NN_test_blocks.values\n",
        "\n",
        "# 4. Mask only block_x columns\n",
        "test_mask_blocks = test_mask[block_columns]\n",
        "\n",
        "# 5. Flatten and apply mask\n",
        "y_true = true_classes.flatten()\n",
        "y_pred = predicted_classes.flatten()\n",
        "mask = test_mask_blocks.values.flatten()\n",
        "\n",
        "masked_true = y_true[mask]\n",
        "masked_pred = y_pred[mask]\n",
        "\n",
        "# 6. Accuracy\n",
        "accuracy = (masked_true == masked_pred).sum() / len(masked_true)\n",
        "print(f\"Masked Prediction Accuracy: {accuracy:.4f}\")\n",
        "\n",
        "print(predictions)"
      ],
      "metadata": {
        "id": "bvACwH8pfNmq",
        "outputId": "11925889-b065-424b-bf30-59df0a41a5f4",
        "colab": {
          "base_uri": "https://localhost:8080/"
        }
      },
      "execution_count": 75,
      "outputs": [
        {
          "output_type": "stream",
          "name": "stdout",
          "text": [
            "\u001b[1m35/35\u001b[0m \u001b[32m━━━━━━━━━━━━━━━━━━━━\u001b[0m\u001b[37m\u001b[0m \u001b[1m0s\u001b[0m 4ms/step\n",
            "Masked Prediction Accuracy: 0.5322\n",
            "[[[1.33521506e-04 7.73543667e-04 7.44708953e-03 ... 1.92581560e-03\n",
            "   4.45783570e-08 5.61483314e-13]\n",
            "  [6.34397111e-06 3.73108604e-04 6.94049522e-03 ... 1.68890809e-03\n",
            "   3.59054127e-07 8.11935913e-13]\n",
            "  [2.29706729e-05 2.96246755e-04 7.27514224e-03 ... 1.18491519e-03\n",
            "   5.67078295e-09 1.06538096e-12]\n",
            "  ...\n",
            "  [4.09089588e-02 2.30465271e-03 9.03671682e-01 ... 7.59525364e-03\n",
            "   5.17062181e-05 7.47562602e-13]\n",
            "  [4.42625135e-02 2.78479117e-03 8.85758460e-01 ... 9.62194335e-03\n",
            "   7.30583779e-05 2.25825456e-12]\n",
            "  [4.42019403e-02 2.50753108e-03 8.84921610e-01 ... 7.82066677e-03\n",
            "   3.61373131e-05 1.28688319e-11]]\n",
            "\n",
            " [[6.69574678e-01 5.81771582e-02 5.16802184e-02 ... 2.84128394e-02\n",
            "   1.28901936e-02 2.96751386e-03]\n",
            "  [6.79196835e-01 5.63575514e-02 5.07487990e-02 ... 2.80874781e-02\n",
            "   1.33942561e-02 2.84732459e-03]\n",
            "  [6.84870362e-01 5.78444116e-02 5.17154522e-02 ... 2.60719415e-02\n",
            "   1.26099680e-02 2.92519829e-03]\n",
            "  ...\n",
            "  [8.39604065e-02 1.03809848e-01 3.72982204e-01 ... 2.04054177e-01\n",
            "   4.89193611e-02 3.26787750e-03]\n",
            "  [8.53664428e-02 1.04774386e-01 3.65599036e-01 ... 2.10243478e-01\n",
            "   4.58270386e-02 3.28897010e-03]\n",
            "  [8.61675292e-02 1.04741596e-01 3.63360524e-01 ... 2.05996975e-01\n",
            "   4.83342446e-02 3.38965817e-03]]\n",
            "\n",
            " [[1.47140741e-01 6.48073614e-01 6.37479350e-02 ... 6.75692782e-02\n",
            "   7.12801795e-03 1.77827189e-07]\n",
            "  [1.54506505e-01 6.06796741e-01 7.17617348e-02 ... 5.84495291e-02\n",
            "   3.87095660e-02 1.04781428e-07]\n",
            "  [1.49878412e-01 6.36711776e-01 7.85812661e-02 ... 6.07572012e-02\n",
            "   5.00978576e-03 2.85219016e-07]\n",
            "  ...\n",
            "  [5.82637377e-02 6.08214736e-01 1.41309485e-01 ... 1.49385929e-01\n",
            "   2.52093561e-03 1.32136236e-07]\n",
            "  [5.81170656e-02 6.05945945e-01 1.40153408e-01 ... 1.54626206e-01\n",
            "   2.55330582e-03 1.83314725e-07]\n",
            "  [4.85224724e-02 6.15224063e-01 1.42899603e-01 ... 1.50265127e-01\n",
            "   2.70535960e-03 3.99303559e-07]]\n",
            "\n",
            " ...\n",
            "\n",
            " [[6.69574678e-01 5.81771582e-02 5.16802184e-02 ... 2.84128394e-02\n",
            "   1.28901936e-02 2.96751386e-03]\n",
            "  [6.79196835e-01 5.63575514e-02 5.07487990e-02 ... 2.80874781e-02\n",
            "   1.33942561e-02 2.84732459e-03]\n",
            "  [6.84870362e-01 5.78444116e-02 5.17154522e-02 ... 2.60719415e-02\n",
            "   1.26099680e-02 2.92519829e-03]\n",
            "  ...\n",
            "  [8.39604065e-02 1.03809848e-01 3.72982204e-01 ... 2.04054177e-01\n",
            "   4.89193611e-02 3.26787750e-03]\n",
            "  [8.53664428e-02 1.04774386e-01 3.65599036e-01 ... 2.10243478e-01\n",
            "   4.58270386e-02 3.28897010e-03]\n",
            "  [8.61675292e-02 1.04741596e-01 3.63360524e-01 ... 2.05996975e-01\n",
            "   4.83342446e-02 3.38965817e-03]]\n",
            "\n",
            " [[6.69574678e-01 5.81771582e-02 5.16802184e-02 ... 2.84128394e-02\n",
            "   1.28901936e-02 2.96751386e-03]\n",
            "  [6.79196835e-01 5.63575514e-02 5.07487990e-02 ... 2.80874781e-02\n",
            "   1.33942561e-02 2.84732459e-03]\n",
            "  [6.84870362e-01 5.78444116e-02 5.17154522e-02 ... 2.60719415e-02\n",
            "   1.26099680e-02 2.92519829e-03]\n",
            "  ...\n",
            "  [8.39604065e-02 1.03809848e-01 3.72982204e-01 ... 2.04054177e-01\n",
            "   4.89193611e-02 3.26787750e-03]\n",
            "  [8.53664428e-02 1.04774386e-01 3.65599036e-01 ... 2.10243478e-01\n",
            "   4.58270386e-02 3.28897010e-03]\n",
            "  [8.61675292e-02 1.04741596e-01 3.63360524e-01 ... 2.05996975e-01\n",
            "   4.83342446e-02 3.38965817e-03]]\n",
            "\n",
            " [[6.69574678e-01 5.81771582e-02 5.16802184e-02 ... 2.84128394e-02\n",
            "   1.28901936e-02 2.96751386e-03]\n",
            "  [6.79196835e-01 5.63575514e-02 5.07487990e-02 ... 2.80874781e-02\n",
            "   1.33942561e-02 2.84732459e-03]\n",
            "  [6.84870362e-01 5.78444116e-02 5.17154522e-02 ... 2.60719415e-02\n",
            "   1.26099680e-02 2.92519829e-03]\n",
            "  ...\n",
            "  [8.39604065e-02 1.03809848e-01 3.72982204e-01 ... 2.04054177e-01\n",
            "   4.89193611e-02 3.26787750e-03]\n",
            "  [8.53664428e-02 1.04774386e-01 3.65599036e-01 ... 2.10243478e-01\n",
            "   4.58270386e-02 3.28897010e-03]\n",
            "  [8.61675292e-02 1.04741596e-01 3.63360524e-01 ... 2.05996975e-01\n",
            "   4.83342446e-02 3.38965817e-03]]]\n"
          ]
        }
      ]
    },
    {
      "cell_type": "code",
      "source": [
        "## Confusion matrix:\n",
        "from sklearn.metrics import confusion_matrix, ConfusionMatrixDisplay\n",
        "import matplotlib.pyplot as plt\n",
        "\n",
        "# Confusion Matrix\n",
        "cm = confusion_matrix(masked_true, masked_pred)\n",
        "fig, ax = plt.subplots(figsize=(12, 12))\n",
        "disp = ConfusionMatrixDisplay(confusion_matrix=cm)\n",
        "disp.plot(ax=ax, cmap='Blues', colorbar=True)\n",
        "plt.title('Confusion Matrix of Predicted Block Types')\n",
        "plt.xlabel('Predicted Label')\n",
        "plt.ylabel('True Label')\n",
        "plt.show()\n"
      ],
      "metadata": {
        "id": "iDRjcMuBfycN",
        "outputId": "d6f531a0-f213-4c43-950d-212a0aa79cf2",
        "colab": {
          "base_uri": "https://localhost:8080/",
          "height": 971
        }
      },
      "execution_count": 76,
      "outputs": [
        {
          "output_type": "display_data",
          "data": {
            "text/plain": [
              "<Figure size 1200x1200 with 2 Axes>"
            ],
            "image/png": "[encoded data removed]"
          },
          "metadata": {}
        }
      ]
    },
    {
      "cell_type": "markdown",
      "source": [
        "# **Please ignore this is totally awesome and definitely works**"
      ],
      "metadata": {
        "id": "NDvM__ofhPSi"
      }
    },
    {
      "cell_type": "code",
      "source": [
        "predictions_df = pd.DataFrame(predictions, columns=X_NN_test.columns)\n",
        "print(predictions_df)"
      ],
      "metadata": {
        "id": "5O47opnOBBco",
        "colab": {
          "base_uri": "https://localhost:8080/",
          "height": 304
        },
        "outputId": "a3f467df-36c8-425a-d31c-4e259258fa79"
      },
      "execution_count": 47,
      "outputs": [
        {
          "output_type": "error",
          "ename": "ValueError",
          "evalue": "Must pass 2-d input. shape=(1110, 3600, 9)",
          "traceback": [
            "\u001b[0;31m---------------------------------------------------------------------------\u001b[0m",
            "\u001b[0;31mValueError\u001b[0m                                Traceback (most recent call last)",
            "\u001b[0;32m<ipython-input-47-538baef6999a>\u001b[0m in \u001b[0;36m<cell line: 0>\u001b[0;34m()\u001b[0m\n\u001b[0;32m----> 1\u001b[0;31m \u001b[0mpredictions_df\u001b[0m \u001b[0;34m=\u001b[0m \u001b[0mpd\u001b[0m\u001b[0;34m.\u001b[0m\u001b[0mDataFrame\u001b[0m\u001b[0;34m(\u001b[0m\u001b[0mpredictions\u001b[0m\u001b[0;34m,\u001b[0m \u001b[0mcolumns\u001b[0m\u001b[0;34m=\u001b[0m\u001b[0mX_NN_test\u001b[0m\u001b[0;34m.\u001b[0m\u001b[0mcolumns\u001b[0m\u001b[0;34m)\u001b[0m\u001b[0;34m\u001b[0m\u001b[0;34m\u001b[0m\u001b[0m\n\u001b[0m\u001b[1;32m      2\u001b[0m \u001b[0mprint\u001b[0m\u001b[0;34m(\u001b[0m\u001b[0mpredictions_df\u001b[0m\u001b[0;34m)\u001b[0m\u001b[0;34m\u001b[0m\u001b[0;34m\u001b[0m\u001b[0m\n",
            "\u001b[0;32m/usr/local/lib/python3.11/dist-packages/pandas/core/frame.py\u001b[0m in \u001b[0;36m__init__\u001b[0;34m(self, data, index, columns, dtype, copy)\u001b[0m\n\u001b[1;32m    825\u001b[0m                 )\n\u001b[1;32m    826\u001b[0m             \u001b[0;32melse\u001b[0m\u001b[0;34m:\u001b[0m\u001b[0;34m\u001b[0m\u001b[0;34m\u001b[0m\u001b[0m\n\u001b[0;32m--> 827\u001b[0;31m                 mgr = ndarray_to_mgr(\n\u001b[0m\u001b[1;32m    828\u001b[0m                     \u001b[0mdata\u001b[0m\u001b[0;34m,\u001b[0m\u001b[0;34m\u001b[0m\u001b[0;34m\u001b[0m\u001b[0m\n\u001b[1;32m    829\u001b[0m                     \u001b[0mindex\u001b[0m\u001b[0;34m,\u001b[0m\u001b[0;34m\u001b[0m\u001b[0;34m\u001b[0m\u001b[0m\n",
            "\u001b[0;32m/usr/local/lib/python3.11/dist-packages/pandas/core/internals/construction.py\u001b[0m in \u001b[0;36mndarray_to_mgr\u001b[0;34m(values, index, columns, dtype, copy, typ)\u001b[0m\n\u001b[1;32m    312\u001b[0m         )\n\u001b[1;32m    313\u001b[0m         \u001b[0mvalues\u001b[0m \u001b[0;34m=\u001b[0m \u001b[0mnp\u001b[0m\u001b[0;34m.\u001b[0m\u001b[0marray\u001b[0m\u001b[0;34m(\u001b[0m\u001b[0mvalues\u001b[0m\u001b[0;34m,\u001b[0m \u001b[0mcopy\u001b[0m\u001b[0;34m=\u001b[0m\u001b[0m_copy\u001b[0m\u001b[0;34m)\u001b[0m\u001b[0;34m\u001b[0m\u001b[0;34m\u001b[0m\u001b[0m\n\u001b[0;32m--> 314\u001b[0;31m         \u001b[0mvalues\u001b[0m \u001b[0;34m=\u001b[0m \u001b[0m_ensure_2d\u001b[0m\u001b[0;34m(\u001b[0m\u001b[0mvalues\u001b[0m\u001b[0;34m)\u001b[0m\u001b[0;34m\u001b[0m\u001b[0;34m\u001b[0m\u001b[0m\n\u001b[0m\u001b[1;32m    315\u001b[0m \u001b[0;34m\u001b[0m\u001b[0m\n\u001b[1;32m    316\u001b[0m     \u001b[0;32melse\u001b[0m\u001b[0;34m:\u001b[0m\u001b[0;34m\u001b[0m\u001b[0;34m\u001b[0m\u001b[0m\n",
            "\u001b[0;32m/usr/local/lib/python3.11/dist-packages/pandas/core/internals/construction.py\u001b[0m in \u001b[0;36m_ensure_2d\u001b[0;34m(values)\u001b[0m\n\u001b[1;32m    590\u001b[0m         \u001b[0mvalues\u001b[0m \u001b[0;34m=\u001b[0m \u001b[0mvalues\u001b[0m\u001b[0;34m.\u001b[0m\u001b[0mreshape\u001b[0m\u001b[0;34m(\u001b[0m\u001b[0;34m(\u001b[0m\u001b[0mvalues\u001b[0m\u001b[0;34m.\u001b[0m\u001b[0mshape\u001b[0m\u001b[0;34m[\u001b[0m\u001b[0;36m0\u001b[0m\u001b[0;34m]\u001b[0m\u001b[0;34m,\u001b[0m \u001b[0;36m1\u001b[0m\u001b[0;34m)\u001b[0m\u001b[0;34m)\u001b[0m\u001b[0;34m\u001b[0m\u001b[0;34m\u001b[0m\u001b[0m\n\u001b[1;32m    591\u001b[0m     \u001b[0;32melif\u001b[0m \u001b[0mvalues\u001b[0m\u001b[0;34m.\u001b[0m\u001b[0mndim\u001b[0m \u001b[0;34m!=\u001b[0m \u001b[0;36m2\u001b[0m\u001b[0;34m:\u001b[0m\u001b[0;34m\u001b[0m\u001b[0;34m\u001b[0m\u001b[0m\n\u001b[0;32m--> 592\u001b[0;31m         \u001b[0;32mraise\u001b[0m \u001b[0mValueError\u001b[0m\u001b[0;34m(\u001b[0m\u001b[0;34mf\"Must pass 2-d input. shape={values.shape}\"\u001b[0m\u001b[0;34m)\u001b[0m\u001b[0;34m\u001b[0m\u001b[0;34m\u001b[0m\u001b[0m\n\u001b[0m\u001b[1;32m    593\u001b[0m     \u001b[0;32mreturn\u001b[0m \u001b[0mvalues\u001b[0m\u001b[0;34m\u001b[0m\u001b[0;34m\u001b[0m\u001b[0m\n\u001b[1;32m    594\u001b[0m \u001b[0;34m\u001b[0m\u001b[0m\n",
            "\u001b[0;31mValueError\u001b[0m: Must pass 2-d input. shape=(1110, 3600, 9)"
          ]
        }
      ]
    },
    {
      "cell_type": "code",
      "source": [
        "# Data evaluations\n",
        "# Get only the masked entries for evaluation\n",
        "masked_positions = test_mask  # DataFrame with same shape\n",
        "\n",
        "# Pull ground truth values where we masked\n",
        "true_values = X_NN_test[masked_positions]\n",
        "\n",
        "# Pull model predictions where we masked\n",
        "predicted_values = predictions_df[masked_positions].round()"
      ],
      "metadata": {
        "id": "mmaM4ATxIGbn"
      },
      "execution_count": null,
      "outputs": []
    },
    {
      "cell_type": "code",
      "source": [
        "# Flatten into 1D arrays for comparison\n",
        "y_true = true_values.values.flatten()\n",
        "y_pred = predicted_values.values.flatten()\n",
        "\n",
        "# Find only where y_true is NOT NaN\n",
        "valid_mask = ~np.isnan(y_true)\n",
        "valid_mask &= ~np.isnan(y_pred)\n",
        "\n",
        "# Apply mask\n",
        "y_true_valid = y_true[valid_mask].astype(int)\n",
        "y_pred_valid = y_pred[valid_mask].astype(int)\n",
        "\n",
        "# Only compare where there was actually a masked entry\n",
        "correct = (y_true_valid == y_pred_valid).sum()\n",
        "total = len(y_true)\n",
        "\n",
        "accuracy = correct / total\n",
        "print(f\"Masked prediction accuracy: {accuracy:.4f}\")"
      ],
      "metadata": {
        "id": "Pwiafx6CIKba",
        "outputId": "54af7f9c-ebe0-40d0-d5ed-dbbcde04086b",
        "colab": {
          "base_uri": "https://localhost:8080/"
        }
      },
      "execution_count": null,
      "outputs": [
        {
          "output_type": "stream",
          "name": "stdout",
          "text": [
            "Masked prediction accuracy: 0.0044\n"
          ]
        }
      ]
    },
    {
      "cell_type": "code",
      "source": [
        "# Model Training and Hyperparameters\n",
        "\n",
        "history = model.fit(\n",
        "    X_train_input, y_train_target,\n",
        "    validation_data=(X_test_input, y_test_target),\n",
        "    epochs=50,\n",
        "    batch_size=32\n",
        ")"
      ],
      "metadata": {
        "id": "K9yOug9iAQkY",
        "outputId": "2e537b1b-9ad0-40e6-bd1e-45b51cc9d06c",
        "colab": {
          "base_uri": "https://localhost:8080/"
        }
      },
      "execution_count": null,
      "outputs": [
        {
          "output_type": "stream",
          "name": "stdout",
          "text": [
            "Epoch 1/50\n",
            "\u001b[1m139/139\u001b[0m \u001b[32m━━━━━━━━━━━━━━━━━━━━\u001b[0m\u001b[37m\u001b[0m \u001b[1m59s\u001b[0m 403ms/step - loss: 3338.9382 - val_loss: 63.9981\n",
            "Epoch 2/50\n",
            "\u001b[1m139/139\u001b[0m \u001b[32m━━━━━━━━━━━━━━━━━━━━\u001b[0m\u001b[37m\u001b[0m \u001b[1m59s\u001b[0m 427ms/step - loss: 64.6215 - val_loss: 92.8678\n",
            "Epoch 3/50\n",
            "\u001b[1m139/139\u001b[0m \u001b[32m━━━━━━━━━━━━━━━━━━━━\u001b[0m\u001b[37m\u001b[0m \u001b[1m81s\u001b[0m 421ms/step - loss: 33.1693 - val_loss: 56.0731\n",
            "Epoch 4/50\n",
            "\u001b[1m139/139\u001b[0m \u001b[32m━━━━━━━━━━━━━━━━━━━━\u001b[0m\u001b[37m\u001b[0m \u001b[1m80s\u001b[0m 404ms/step - loss: 25.1974 - val_loss: 55.3736\n",
            "Epoch 5/50\n",
            "\u001b[1m139/139\u001b[0m \u001b[32m━━━━━━━━━━━━━━━━━━━━\u001b[0m\u001b[37m\u001b[0m \u001b[1m82s\u001b[0m 404ms/step - loss: 18.8072 - val_loss: 53.4562\n",
            "Epoch 6/50\n",
            "\u001b[1m139/139\u001b[0m \u001b[32m━━━━━━━━━━━━━━━━━━━━\u001b[0m\u001b[37m\u001b[0m \u001b[1m84s\u001b[0m 418ms/step - loss: 15.9193 - val_loss: 58.0046\n",
            "Epoch 7/50\n",
            "\u001b[1m139/139\u001b[0m \u001b[32m━━━━━━━━━━━━━━━━━━━━\u001b[0m\u001b[37m\u001b[0m \u001b[1m82s\u001b[0m 422ms/step - loss: 12.6971 - val_loss: 52.6226\n",
            "Epoch 8/50\n",
            "\u001b[1m139/139\u001b[0m \u001b[32m━━━━━━━━━━━━━━━━━━━━\u001b[0m\u001b[37m\u001b[0m \u001b[1m84s\u001b[0m 439ms/step - loss: 8.2046 - val_loss: 48.5727\n",
            "Epoch 9/50\n",
            "\u001b[1m139/139\u001b[0m \u001b[32m━━━━━━━━━━━━━━━━━━━━\u001b[0m\u001b[37m\u001b[0m \u001b[1m59s\u001b[0m 428ms/step - loss: 7.9429 - val_loss: 52.2749\n",
            "Epoch 10/50\n",
            "\u001b[1m139/139\u001b[0m \u001b[32m━━━━━━━━━━━━━━━━━━━━\u001b[0m\u001b[37m\u001b[0m \u001b[1m69s\u001b[0m 497ms/step - loss: 4.9298 - val_loss: 46.0364\n",
            "Epoch 11/50\n",
            "\u001b[1m139/139\u001b[0m \u001b[32m━━━━━━━━━━━━━━━━━━━━\u001b[0m\u001b[37m\u001b[0m \u001b[1m77s\u001b[0m 461ms/step - loss: 5.4828 - val_loss: 52.4017\n",
            "Epoch 12/50\n",
            "\u001b[1m139/139\u001b[0m \u001b[32m━━━━━━━━━━━━━━━━━━━━\u001b[0m\u001b[37m\u001b[0m \u001b[1m59s\u001b[0m 426ms/step - loss: 4.1426 - val_loss: 46.4258\n",
            "Epoch 13/50\n",
            "\u001b[1m139/139\u001b[0m \u001b[32m━━━━━━━━━━━━━━━━━━━━\u001b[0m\u001b[37m\u001b[0m \u001b[1m80s\u001b[0m 410ms/step - loss: 9.8578 - val_loss: 49.0383\n",
            "Epoch 14/50\n",
            "\u001b[1m139/139\u001b[0m \u001b[32m━━━━━━━━━━━━━━━━━━━━\u001b[0m\u001b[37m\u001b[0m \u001b[1m85s\u001b[0m 430ms/step - loss: 6.5390 - val_loss: 51.7926\n",
            "Epoch 15/50\n",
            "\u001b[1m139/139\u001b[0m \u001b[32m━━━━━━━━━━━━━━━━━━━━\u001b[0m\u001b[37m\u001b[0m \u001b[1m83s\u001b[0m 440ms/step - loss: 4.6156 - val_loss: 45.7574\n",
            "Epoch 16/50\n",
            "\u001b[1m139/139\u001b[0m \u001b[32m━━━━━━━━━━━━━━━━━━━━\u001b[0m\u001b[37m\u001b[0m \u001b[1m81s\u001b[0m 436ms/step - loss: 4.7121 - val_loss: 49.3315\n",
            "Epoch 17/50\n",
            "\u001b[1m139/139\u001b[0m \u001b[32m━━━━━━━━━━━━━━━━━━━━\u001b[0m\u001b[37m\u001b[0m \u001b[1m88s\u001b[0m 482ms/step - loss: 5.1978 - val_loss: 48.2074\n",
            "Epoch 18/50\n",
            "\u001b[1m139/139\u001b[0m \u001b[32m━━━━━━━━━━━━━━━━━━━━\u001b[0m\u001b[37m\u001b[0m \u001b[1m80s\u001b[0m 466ms/step - loss: 4.4846 - val_loss: 51.5789\n",
            "Epoch 19/50\n",
            "\u001b[1m139/139\u001b[0m \u001b[32m━━━━━━━━━━━━━━━━━━━━\u001b[0m\u001b[37m\u001b[0m \u001b[1m81s\u001b[0m 463ms/step - loss: 3.8360 - val_loss: 47.7780\n",
            "Epoch 20/50\n",
            "\u001b[1m139/139\u001b[0m \u001b[32m━━━━━━━━━━━━━━━━━━━━\u001b[0m\u001b[37m\u001b[0m \u001b[1m84s\u001b[0m 478ms/step - loss: 4.0434 - val_loss: 53.1729\n",
            "Epoch 21/50\n",
            "\u001b[1m139/139\u001b[0m \u001b[32m━━━━━━━━━━━━━━━━━━━━\u001b[0m\u001b[37m\u001b[0m \u001b[1m82s\u001b[0m 476ms/step - loss: 3.3482 - val_loss: 47.7195\n",
            "Epoch 22/50\n",
            "\u001b[1m139/139\u001b[0m \u001b[32m━━━━━━━━━━━━━━━━━━━━\u001b[0m\u001b[37m\u001b[0m \u001b[1m82s\u001b[0m 478ms/step - loss: 2.3508 - val_loss: 46.1101\n",
            "Epoch 23/50\n",
            "\u001b[1m139/139\u001b[0m \u001b[32m━━━━━━━━━━━━━━━━━━━━\u001b[0m\u001b[37m\u001b[0m \u001b[1m82s\u001b[0m 476ms/step - loss: 4.0034 - val_loss: 48.7955\n",
            "Epoch 24/50\n",
            "\u001b[1m139/139\u001b[0m \u001b[32m━━━━━━━━━━━━━━━━━━━━\u001b[0m\u001b[37m\u001b[0m \u001b[1m80s\u001b[0m 464ms/step - loss: 5.1684 - val_loss: 49.9592\n",
            "Epoch 25/50\n",
            "\u001b[1m139/139\u001b[0m \u001b[32m━━━━━━━━━━━━━━━━━━━━\u001b[0m\u001b[37m\u001b[0m \u001b[1m83s\u001b[0m 473ms/step - loss: 3.7648 - val_loss: 57.2655\n",
            "Epoch 26/50\n",
            "\u001b[1m139/139\u001b[0m \u001b[32m━━━━━━━━━━━━━━━━━━━━\u001b[0m\u001b[37m\u001b[0m \u001b[1m66s\u001b[0m 477ms/step - loss: 5.2757 - val_loss: 45.4736\n",
            "Epoch 27/50\n",
            "\u001b[1m139/139\u001b[0m \u001b[32m━━━━━━━━━━━━━━━━━━━━\u001b[0m\u001b[37m\u001b[0m \u001b[1m67s\u001b[0m 480ms/step - loss: 6.3462 - val_loss: 47.9983\n",
            "Epoch 28/50\n",
            "\u001b[1m139/139\u001b[0m \u001b[32m━━━━━━━━━━━━━━━━━━━━\u001b[0m\u001b[37m\u001b[0m \u001b[1m82s\u001b[0m 479ms/step - loss: 2.3531 - val_loss: 49.9538\n",
            "Epoch 29/50\n",
            "\u001b[1m139/139\u001b[0m \u001b[32m━━━━━━━━━━━━━━━━━━━━\u001b[0m\u001b[37m\u001b[0m \u001b[1m65s\u001b[0m 470ms/step - loss: 2.6942 - val_loss: 48.4248\n",
            "Epoch 30/50\n",
            "\u001b[1m139/139\u001b[0m \u001b[32m━━━━━━━━━━━━━━━━━━━━\u001b[0m\u001b[37m\u001b[0m \u001b[1m64s\u001b[0m 462ms/step - loss: 2.6140 - val_loss: 55.9947\n",
            "Epoch 31/50\n",
            "\u001b[1m139/139\u001b[0m \u001b[32m━━━━━━━━━━━━━━━━━━━━\u001b[0m\u001b[37m\u001b[0m \u001b[1m79s\u001b[0m 440ms/step - loss: 3.6400 - val_loss: 49.0661\n",
            "Epoch 32/50\n",
            "\u001b[1m139/139\u001b[0m \u001b[32m━━━━━━━━━━━━━━━━━━━━\u001b[0m\u001b[37m\u001b[0m \u001b[1m83s\u001b[0m 452ms/step - loss: 2.9364 - val_loss: 44.6963\n",
            "Epoch 33/50\n",
            "\u001b[1m139/139\u001b[0m \u001b[32m━━━━━━━━━━━━━━━━━━━━\u001b[0m\u001b[37m\u001b[0m \u001b[1m81s\u001b[0m 446ms/step - loss: 2.3885 - val_loss: 51.0711\n",
            "Epoch 34/50\n",
            "\u001b[1m139/139\u001b[0m \u001b[32m━━━━━━━━━━━━━━━━━━━━\u001b[0m\u001b[37m\u001b[0m \u001b[1m81s\u001b[0m 440ms/step - loss: 3.2150 - val_loss: 47.3744\n",
            "Epoch 35/50\n",
            "\u001b[1m139/139\u001b[0m \u001b[32m━━━━━━━━━━━━━━━━━━━━\u001b[0m\u001b[37m\u001b[0m \u001b[1m64s\u001b[0m 462ms/step - loss: 2.5208 - val_loss: 48.9480\n",
            "Epoch 36/50\n",
            "\u001b[1m139/139\u001b[0m \u001b[32m━━━━━━━━━━━━━━━━━━━━\u001b[0m\u001b[37m\u001b[0m \u001b[1m79s\u001b[0m 437ms/step - loss: 1.7515 - val_loss: 46.7866\n",
            "Epoch 37/50\n",
            "\u001b[1m139/139\u001b[0m \u001b[32m━━━━━━━━━━━━━━━━━━━━\u001b[0m\u001b[37m\u001b[0m \u001b[1m81s\u001b[0m 431ms/step - loss: 2.1965 - val_loss: 52.9171\n",
            "Epoch 38/50\n",
            "\u001b[1m139/139\u001b[0m \u001b[32m━━━━━━━━━━━━━━━━━━━━\u001b[0m\u001b[37m\u001b[0m \u001b[1m85s\u001b[0m 456ms/step - loss: 3.6611 - val_loss: 47.1742\n",
            "Epoch 39/50\n",
            "\u001b[1m139/139\u001b[0m \u001b[32m━━━━━━━━━━━━━━━━━━━━\u001b[0m\u001b[37m\u001b[0m \u001b[1m80s\u001b[0m 440ms/step - loss: 1.8351 - val_loss: 44.8113\n",
            "Epoch 40/50\n",
            "\u001b[1m139/139\u001b[0m \u001b[32m━━━━━━━━━━━━━━━━━━━━\u001b[0m\u001b[37m\u001b[0m \u001b[1m84s\u001b[0m 457ms/step - loss: 3.6355 - val_loss: 48.3956\n",
            "Epoch 41/50\n",
            "\u001b[1m139/139\u001b[0m \u001b[32m━━━━━━━━━━━━━━━━━━━━\u001b[0m\u001b[37m\u001b[0m \u001b[1m64s\u001b[0m 457ms/step - loss: 2.6024 - val_loss: 45.8526\n",
            "Epoch 42/50\n",
            "\u001b[1m139/139\u001b[0m \u001b[32m━━━━━━━━━━━━━━━━━━━━\u001b[0m\u001b[37m\u001b[0m \u001b[1m67s\u001b[0m 479ms/step - loss: 1.9625 - val_loss: 48.7589\n",
            "Epoch 43/50\n",
            "\u001b[1m139/139\u001b[0m \u001b[32m━━━━━━━━━━━━━━━━━━━━\u001b[0m\u001b[37m\u001b[0m \u001b[1m81s\u001b[0m 474ms/step - loss: 2.3867 - val_loss: 47.5315\n",
            "Epoch 44/50\n",
            "\u001b[1m139/139\u001b[0m \u001b[32m━━━━━━━━━━━━━━━━━━━━\u001b[0m\u001b[37m\u001b[0m \u001b[1m86s\u001b[0m 507ms/step - loss: 2.1711 - val_loss: 45.7958\n",
            "Epoch 45/50\n",
            "\u001b[1m139/139\u001b[0m \u001b[32m━━━━━━━━━━━━━━━━━━━━\u001b[0m\u001b[37m\u001b[0m \u001b[1m68s\u001b[0m 487ms/step - loss: 2.7592 - val_loss: 50.9487\n",
            "Epoch 46/50\n",
            "\u001b[1m139/139\u001b[0m \u001b[32m━━━━━━━━━━━━━━━━━━━━\u001b[0m\u001b[37m\u001b[0m \u001b[1m67s\u001b[0m 483ms/step - loss: 2.4121 - val_loss: 45.3468\n",
            "Epoch 47/50\n",
            "\u001b[1m139/139\u001b[0m \u001b[32m━━━━━━━━━━━━━━━━━━━━\u001b[0m\u001b[37m\u001b[0m \u001b[1m70s\u001b[0m 398ms/step - loss: 2.4131 - val_loss: 45.5812\n",
            "Epoch 48/50\n",
            "\u001b[1m139/139\u001b[0m \u001b[32m━━━━━━━━━━━━━━━━━━━━\u001b[0m\u001b[37m\u001b[0m \u001b[1m91s\u001b[0m 461ms/step - loss: 1.3692 - val_loss: 47.9914\n",
            "Epoch 49/50\n",
            "\u001b[1m139/139\u001b[0m \u001b[32m━━━━━━━━━━━━━━━━━━━━\u001b[0m\u001b[37m\u001b[0m \u001b[1m78s\u001b[0m 434ms/step - loss: 2.0936 - val_loss: 47.2807\n",
            "Epoch 50/50\n",
            "\u001b[1m139/139\u001b[0m \u001b[32m━━━━━━━━━━━━━━━━━━━━\u001b[0m\u001b[37m\u001b[0m \u001b[1m86s\u001b[0m 460ms/step - loss: 1.7664 - val_loss: 45.2697\n"
          ]
        }
      ]
    },
    {
      "cell_type": "code",
      "source": [
        "## Confusion matrix:\n",
        "from sklearn.metrics import confusion_matrix, ConfusionMatrixDisplay\n",
        "import matplotlib.pyplot as plt\n",
        "\n",
        "# Build confusion matrix\n",
        "cm = confusion_matrix(y_true_valid, y_pred_valid)\n",
        "\n",
        "# Plot\n",
        "fig, ax = plt.subplots(figsize=(20, 20))\n",
        "disp = ConfusionMatrixDisplay(confusion_matrix=cm)\n",
        "disp.plot(ax=ax, cmap='Blues', colorbar=True)\n",
        "plt.title('Confusion Matrix of Predicted Block Types')\n",
        "plt.xlabel('Predicted Label')\n",
        "plt.ylabel('True Label')\n",
        "plt.show()"
      ],
      "metadata": {
        "id": "erz710EKIQiq",
        "outputId": "072181bf-113d-4d03-cf45-06a7ccf389c1",
        "colab": {
          "base_uri": "https://localhost:8080/",
          "height": 1000
        }
      },
      "execution_count": null,
      "outputs": [
        {
          "output_type": "display_data",
          "data": {
            "text/plain": [
              "<Figure size 2000x2000 with 2 Axes>"
            ],
            "image/png": "[encoded data removed]"
          },
          "metadata": {}
        }
      ]
    }
  ]
}