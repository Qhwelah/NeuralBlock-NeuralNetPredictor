{
  "nbformat": 4,
  "nbformat_minor": 0,
  "metadata": {
    "colab": {
      "provenance": [],
      "authorship_tag": "ABX9TyPIya8M7j/qWwKRhuRIuGx/",
      "include_colab_link": true
    },
    "kernelspec": {
      "name": "python3",
      "display_name": "Python 3"
    },
    "language_info": {
      "name": "python"
    }
  },
  "cells": [
    {
      "cell_type": "markdown",
      "metadata": {
        "id": "view-in-github",
        "colab_type": "text"
      },
      "source": [
        "<a href=\"https://colab.research.google.com/github/Qhwelah/NeuralBlock-NeuralNetPredictor/blob/main/NeuralNetPredictor.ipynb\" target=\"_parent\"><img src=\"https://colab.research.google.com/assets/colab-badge.svg\" alt=\"Open In Colab\"/></a>"
      ]
    },
    {
      "cell_type": "code",
      "execution_count": null,
      "metadata": {
        "colab": {
          "base_uri": "https://localhost:8080/",
          "height": 104
        },
        "id": "zmBCDAj_Lwt9",
        "outputId": "a867ba3c-7be3-462e-b4d5-ff967fdc82d9"
      },
      "outputs": [
        {
          "output_type": "stream",
          "name": "stderr",
          "text": [
            "Downloading...\n",
            "From: https://drive.google.com/uc?id=1UPXnC2oy20r4Yesw7lPuDRHlsoR0l0DV\n",
            "To: /content/data.csv\n",
            "100%|██████████| 8.96M/8.96M [00:00<00:00, 97.3MB/s]\n"
          ]
        },
        {
          "output_type": "execute_result",
          "data": {
            "text/plain": [
              "'data.csv'"
            ],
            "application/vnd.google.colaboratory.intrinsic+json": {
              "type": "string"
            }
          },
          "metadata": {},
          "execution_count": 5
        }
      ],
      "source": [
        "# !pip3 uninstall gdown -y && pip3 install gdown\n",
        "import gdown\n",
        "\n",
        "url = \"https://drive.google.com/uc?id=1UPXnC2oy20r4Yesw7lPuDRHlsoR0l0DV\"\n",
        "output = \"data.csv\"\n",
        "gdown.download(url, output, quiet=False)"
      ]
    },
    {
      "cell_type": "code",
      "source": [
        "import pandas as pd\n",
        "\n",
        "df = pd.read_csv(\"data.csv\")\n",
        "\n",
        "print(df)"
      ],
      "metadata": {
        "colab": {
          "base_uri": "https://localhost:8080/"
        },
        "id": "eze8HudGY4e0",
        "outputId": "bd9630ac-c061-40c2-daed-5310ad624e78"
      },
      "execution_count": null,
      "outputs": [
        {
          "output_type": "stream",
          "name": "stdout",
          "text": [
            "      xRot   yRot                block_1  block_1_dist                block_2  \\\n",
            "0    81.45  26.98   minecraft:oak_leaves             6   minecraft:oak_planks   \n",
            "1    59.47   2.02   minecraft:oak_planks             4        minecraft:water   \n",
            "2   -58.81   3.46         minecraft:dirt           159        minecraft:stone   \n",
            "3    61.45  36.54   minecraft:oak_leaves            40        minecraft:stone   \n",
            "4   -44.43  84.42  minecraft:grass_block            56        minecraft:stone   \n",
            "..     ...    ...                    ...           ...                    ...   \n",
            "115  23.38  11.33   minecraft:oak_planks            11        minecraft:water   \n",
            "116   1.92  50.17         minecraft:dirt            72   minecraft:oak_planks   \n",
            "117 -64.33  83.93   minecraft:oak_planks            21  minecraft:grass_block   \n",
            "118  -1.77   5.55        minecraft:stone           146        minecraft:stone   \n",
            "119  11.65  76.97          minecraft:air           113   minecraft:oak_planks   \n",
            "\n",
            "     block_2_dist                block_3  block_3_dist                block_4  \\\n",
            "0              94      minecraft:oak_log           121          minecraft:air   \n",
            "1               9          minecraft:air            14   minecraft:oak_planks   \n",
            "2              75          minecraft:air           141        minecraft:stone   \n",
            "3              21          minecraft:air            34        minecraft:stone   \n",
            "4              41        minecraft:stone           130  minecraft:grass_block   \n",
            "..            ...                    ...           ...                    ...   \n",
            "115            50          minecraft:air           142   minecraft:oak_planks   \n",
            "116            93   minecraft:oak_planks           108   minecraft:oak_planks   \n",
            "117           110        minecraft:stone            63   minecraft:oak_leaves   \n",
            "118           151        minecraft:stone            26        minecraft:stone   \n",
            "119            18  minecraft:grass_block            35   minecraft:oak_planks   \n",
            "\n",
            "     block_4_dist  ...            block_3596  block_3596_dist  \\\n",
            "0              90  ...       minecraft:stone              137   \n",
            "1              41  ...  minecraft:oak_planks               75   \n",
            "2             136  ...       minecraft:stone               37   \n",
            "3              98  ...  minecraft:oak_planks               18   \n",
            "4              49  ...       minecraft:stone               24   \n",
            "..            ...  ...                   ...              ...   \n",
            "115            47  ...  minecraft:oak_leaves               25   \n",
            "116           108  ...       minecraft:stone              136   \n",
            "117            19  ...  minecraft:oak_planks              140   \n",
            "118            50  ...         minecraft:air               89   \n",
            "119            22  ...       minecraft:stone               68   \n",
            "\n",
            "               block_3597  block_3597_dist            block_3598  \\\n",
            "0         minecraft:stone              123       minecraft:stone   \n",
            "1    minecraft:oak_planks               69         minecraft:air   \n",
            "2           minecraft:air               98       minecraft:water   \n",
            "3         minecraft:stone              144  minecraft:oak_planks   \n",
            "4    minecraft:oak_planks              138  minecraft:oak_planks   \n",
            "..                    ...              ...                   ...   \n",
            "115       minecraft:stone               74       minecraft:stone   \n",
            "116       minecraft:stone              111       minecraft:stone   \n",
            "117         minecraft:air              148        minecraft:dirt   \n",
            "118       minecraft:stone              146     minecraft:oak_log   \n",
            "119  minecraft:oak_planks                8       minecraft:stone   \n",
            "\n",
            "     block_3598_dist            block_3599  block_3599_dist  \\\n",
            "0                 64         minecraft:air               55   \n",
            "1                 96  minecraft:oak_planks               23   \n",
            "2                 20  minecraft:oak_planks               43   \n",
            "3                107  minecraft:oak_planks                4   \n",
            "4                  3         minecraft:air               12   \n",
            "..               ...                   ...              ...   \n",
            "115              136        minecraft:dirt               48   \n",
            "116              134       minecraft:stone               46   \n",
            "117               99  minecraft:oak_planks                1   \n",
            "118              127  minecraft:oak_planks              146   \n",
            "119              152       minecraft:stone               40   \n",
            "\n",
            "               block_3600  block_3600_dist  \n",
            "0         minecraft:stone              159  \n",
            "1         minecraft:stone              148  \n",
            "2    minecraft:oak_planks              118  \n",
            "3          minecraft:dirt              104  \n",
            "4    minecraft:oak_leaves              124  \n",
            "..                    ...              ...  \n",
            "115       minecraft:stone               48  \n",
            "116       minecraft:stone              113  \n",
            "117         minecraft:air               95  \n",
            "118       minecraft:water               43  \n",
            "119       minecraft:stone               47  \n",
            "\n",
            "[120 rows x 7202 columns]\n"
          ]
        }
      ]
    },
    {
      "cell_type": "code",
      "source": [],
      "metadata": {
        "id": "j2kNoW6LZ6Sa"
      },
      "execution_count": null,
      "outputs": []
    }
  ]
}